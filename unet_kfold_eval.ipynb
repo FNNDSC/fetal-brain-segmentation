{
 "cells": [
  {
   "cell_type": "code",
   "execution_count": 1,
   "metadata": {},
   "outputs": [
    {
     "name": "stderr",
     "output_type": "stream",
     "text": [
      "Using TensorFlow backend.\n"
     ]
    }
   ],
   "source": [
    "import numpy as np\n",
    "\n",
    "from keras.models import *\n",
    "from keras import backend as K\n",
    "from keras.preprocessing.image import ImageDataGenerator\n",
    "\n",
    "from models.unet import *\n",
    "from models.unet_se import *\n",
    "\n",
    "from datahandler import DataHandler\n",
    "from data_loader import *\n",
    "from params import *\n",
    "import os\n",
    "import cv2\n",
    "import skimage.io as io\n",
    "from tqdm import tqdm\n",
    "from math import ceil\n",
    "from matplotlib import pyplot as plt\n",
    "from sklearn.metrics import f1_score, jaccard_similarity_score\n",
    "\n",
    "from scipy.ndimage import _ni_support\n",
    "from scipy.ndimage.morphology import distance_transform_edt, binary_erosion,\\\n",
    "     generate_binary_structure\n",
    "\n",
    "import warnings\n",
    "warnings.filterwarnings(\"ignore\")\n",
    "\n",
    "plt.gray()"
   ]
  },
  {
   "cell_type": "code",
   "execution_count": 2,
   "metadata": {},
   "outputs": [],
   "source": [
    "def getGenerator(images, bs=1):\n",
    "    image_datagen = ImageDataGenerator(rescale=1./255)\n",
    "    image_datagen.fit(images, augment = True)\n",
    "    image_generator = image_datagen.flow(x = images, batch_size=bs,\n",
    "            shuffle = False)\n",
    "\n",
    "    return image_generator\n"
   ]
  },
  {
   "cell_type": "code",
   "execution_count": 3,
   "metadata": {},
   "outputs": [],
   "source": [
    "def getDiceScore(ground_truth, prediction):\n",
    "    #convert to boolean values and flatten\n",
    "    ground_truth = np.asarray(ground_truth, dtype=np.bool).flatten()\n",
    "    prediction = np.asarray(prediction, dtype=np.bool).flatten()    \n",
    "    return f1_score(ground_truth, prediction)\n"
   ]
  },
  {
   "cell_type": "code",
   "execution_count": 4,
   "metadata": {},
   "outputs": [],
   "source": [
    " def hd(result, reference, voxelspacing=None, connectivity=1):\n",
    "    hd1 = __surface_distances(result, reference, voxelspacing, connectivity).max()\n",
    "    hd2 = __surface_distances(reference, result, voxelspacing, connectivity).max()\n",
    "    hd = max(hd1, hd2)\n",
    "    return hd\n",
    "\n",
    "def hd95(result, reference, voxelspacing=None, connectivity=1):\n",
    "    hd1 = __surface_distances(result, reference, voxelspacing, connectivity)\n",
    "    hd2 = __surface_distances(reference, result, voxelspacing, connectivity)\n",
    "    hd95 = np.percentile(np.hstack((hd1, hd2)), 95)\n",
    "    return hd95\n",
    "\n",
    "def __surface_distances(result, reference, voxelspacing=None, connectivity=1):\n",
    "    result = np.atleast_1d(result.astype(np.bool))\n",
    "    reference = np.atleast_1d(reference.astype(np.bool))\n",
    "    if voxelspacing is not None:\n",
    "        voxelspacing = _ni_support._normalize_sequence(voxelspacing, result.ndim)\n",
    "        voxelspacing = np.asarray(voxelspacing, dtype=np.float64)\n",
    "        if not voxelspacing.flags.contiguous:\n",
    "            voxelspacing = voxelspacing.copy()\n",
    "\n",
    "    footprint = generate_binary_structure(result.ndim, connectivity)\n",
    "\n",
    "    if 0 == np.count_nonzero(result):\n",
    "        raise RuntimeError('The first supplied array does not contain any binary object.')\n",
    "    if 0 == np.count_nonzero(reference):\n",
    "        raise RuntimeError('The second supplied array does not contain any binary object.')\n",
    "\n",
    "    result_border = result ^ binary_erosion(result, structure=footprint, iterations=1)\n",
    "    reference_border = reference ^ binary_erosion(reference, structure=footprint, iterations=1)\n",
    "\n",
    "    dt = distance_transform_edt(~reference_border, sampling=voxelspacing)\n",
    "    sds = dt[result_border]\n",
    "\n",
    "    return sds"
   ]
  },
  {
   "cell_type": "code",
   "execution_count": 5,
   "metadata": {},
   "outputs": [],
   "source": [
    "image_files, mask_files = load_data_files('data/kfold_data/')\n",
    "\n",
    "skf = getKFolds(image_files, mask_files, n=5)\n",
    "\n",
    "kfold_indices = []\n",
    "for train_index, val_index in skf.split(image_files, mask_files):\n",
    "    kfold_indices.append({'train': train_index, 'val': val_index})"
   ]
  },
  {
   "cell_type": "code",
   "execution_count": 6,
   "metadata": {},
   "outputs": [],
   "source": [
    "def predictMask(model, image):  \n",
    "    image_gen = getGenerator(image)\n",
    "    return model.predict_generator(image_gen, steps=len(image))"
   ]
  },
  {
   "cell_type": "code",
   "execution_count": 7,
   "metadata": {},
   "outputs": [],
   "source": [
    "def predictAll(model, data, num_data=0):\n",
    "    dice_scores = []\n",
    "    hd_scores = []\n",
    "    hd95_scores = []\n",
    "\n",
    "    for image_file, mask_file in tqdm(data, total=num_data):\n",
    "        \n",
    "        image, hdr = dh.getImageData(image_file)\n",
    "        gt_mask, _ = dh.getImageData(mask_file, is_mask=True)\n",
    "\n",
    "        assert image.shape == gt_mask.shape\n",
    "        if image.shape[1] != 256:\n",
    "            continue\n",
    "\n",
    "        pred_mask = predictMask(model, image)\n",
    "        pred_mask[pred_mask>=0.7] = 1\n",
    "        pred_mask[pred_mask<0.7] = 0\n",
    "            \n",
    "        dice_score = getDiceScore(gt_mask, pred_mask)\n",
    "        dice_scores.append(dice_score)\n",
    "        \n",
    "        hd_score = hd(gt_mask, pred_mask)\n",
    "        hd_scores.append(hd_score)\n",
    "        \n",
    "        hd95_score = hd95(gt_mask, pred_mask)\n",
    "        hd95_scores.append(hd95_score)\n",
    "\n",
    "    return np.mean(dice_scores), np.mean(hd_scores), np.mean(hd95_scores)"
   ]
  },
  {
   "cell_type": "code",
   "execution_count": 8,
   "metadata": {},
   "outputs": [
    {
     "name": "stdout",
     "output_type": "stream",
     "text": [
      "loading weights from ./logs/unet/kfold_unet/kfold_unet_dice_DA_K0/kfold_unet_dice_DA_K0_weights.h5\n"
     ]
    },
    {
     "name": "stderr",
     "output_type": "stream",
     "text": [
      "100%|██████████| 59/59 [04:20<00:00,  4.16s/it]\n"
     ]
    },
    {
     "name": "stdout",
     "output_type": "stream",
     "text": [
      "K0 results\n",
      "dice 0.914345\n",
      "hd 27.125448\n",
      "hd95 3.295741\n"
     ]
    },
    {
     "name": "stderr",
     "output_type": "stream",
     "text": [
      "\r",
      "  0%|          | 0/58 [00:00<?, ?it/s]"
     ]
    },
    {
     "name": "stdout",
     "output_type": "stream",
     "text": [
      "loading weights from ./logs/unet/kfold_unet/kfold_unet_dice_DA_K1/kfold_unet_dice_DA_K1_weights.h5\n"
     ]
    },
    {
     "name": "stderr",
     "output_type": "stream",
     "text": [
      "100%|██████████| 58/58 [04:04<00:00,  3.84s/it]\n"
     ]
    },
    {
     "name": "stdout",
     "output_type": "stream",
     "text": [
      "K1 results\n",
      "dice 0.925222\n",
      "hd 26.927848\n",
      "hd95 2.224497\n"
     ]
    },
    {
     "name": "stderr",
     "output_type": "stream",
     "text": [
      "\r",
      "  0%|          | 0/58 [00:00<?, ?it/s]"
     ]
    },
    {
     "name": "stdout",
     "output_type": "stream",
     "text": [
      "loading weights from ./logs/unet/kfold_unet/kfold_unet_dice_DA_K2/kfold_unet_dice_DA_K2_weights.h5\n"
     ]
    },
    {
     "name": "stderr",
     "output_type": "stream",
     "text": [
      "100%|██████████| 58/58 [04:06<00:00,  4.28s/it]\n"
     ]
    },
    {
     "name": "stdout",
     "output_type": "stream",
     "text": [
      "K2 results\n",
      "dice 0.936370\n",
      "hd 23.309381\n",
      "hd95 1.113661\n",
      "loading weights from ./logs/unet/kfold_unet/kfold_unet_dice_DA_K3/kfold_unet_dice_DA_K3_weights.h5\n"
     ]
    },
    {
     "name": "stderr",
     "output_type": "stream",
     "text": [
      "100%|██████████| 58/58 [04:06<00:00,  3.92s/it]\n"
     ]
    },
    {
     "name": "stdout",
     "output_type": "stream",
     "text": [
      "K3 results\n",
      "dice 0.928330\n",
      "hd 22.327450\n",
      "hd95 0.869211\n"
     ]
    },
    {
     "name": "stderr",
     "output_type": "stream",
     "text": [
      "\r",
      "  0%|          | 0/58 [00:00<?, ?it/s]"
     ]
    },
    {
     "name": "stdout",
     "output_type": "stream",
     "text": [
      "loading weights from ./logs/unet/kfold_unet/kfold_unet_dice_DA_K4/kfold_unet_dice_DA_K4_weights.h5\n"
     ]
    },
    {
     "name": "stderr",
     "output_type": "stream",
     "text": [
      "100%|██████████| 58/58 [04:17<00:00,  5.63s/it]"
     ]
    },
    {
     "name": "stdout",
     "output_type": "stream",
     "text": [
      "K4 results\n",
      "dice 0.909402\n",
      "hd 37.760048\n",
      "hd95 6.508962\n",
      "Final results for unet\n",
      "dice 0.922734\n",
      "hd 27.490035\n",
      "hd95 2.802414\n"
     ]
    },
    {
     "name": "stderr",
     "output_type": "stream",
     "text": [
      "\n"
     ]
    }
   ],
   "source": [
    "#Get data and generators\n",
    "\n",
    "unet_type = 'unet'\n",
    "dh = DataHandler()\n",
    "all_dice = []\n",
    "all_hd = []\n",
    "all_hd95 = []\n",
    "\n",
    "for i in range(len(kfold_indices)):\n",
    "    exp_name = 'kfold_unet_dice_DA_K%d'%i\n",
    "\n",
    "    #get parameters\n",
    "    params = getParams(exp_name, unet_type=unet_type)\n",
    "    \n",
    "    val_img_files = np.take(image_files, kfold_indices[i]['val'])\n",
    "    val_mask_files = np.take(mask_files, kfold_indices[i]['val'])\n",
    "    \n",
    "    \n",
    "    if unet_type == 'unet_se':\n",
    "        model = getSEUnet()\n",
    "        \n",
    "    else:\n",
    "        model = getUnet()\n",
    "    \n",
    "    print('loading weights from %s'%params['checkpoint']['name'])\n",
    "    model.load_weights(params['checkpoint']['name'])\n",
    "        \n",
    "    data = zip(val_img_files, val_mask_files)\n",
    "    \n",
    "    dice_score, hd_score, hd95_score = predictAll(model, data, num_data=len(val_mask_files))\n",
    "    \n",
    "    print('K%d results'%i)\n",
    "    print('dice %f'%dice_score)\n",
    "    print('hd %f'%hd_score)\n",
    "    print('hd95 %f'%hd95_score)\n",
    "    \n",
    "    \n",
    "    all_dice.append(dice_score)\n",
    "    all_hd.append(hd_score)\n",
    "    all_hd95.append(hd95_score)\n",
    "    \n",
    "print('Final results for %s'%unet_type)\n",
    "print('dice %f'%np.mean(all_dice))\n",
    "print('hd %f'%np.mean(all_hd))\n",
    "print('hd95 %f'%np.mean(all_hd95))"
   ]
  },
  {
   "cell_type": "code",
   "execution_count": 9,
   "metadata": {},
   "outputs": [
    {
     "name": "stdout",
     "output_type": "stream",
     "text": [
      "loading weights from ./logs/unet_se/kfold_unet_se/kfold_unet_dice_DA_K0/kfold_unet_dice_DA_K0_weights.h5\n"
     ]
    },
    {
     "name": "stderr",
     "output_type": "stream",
     "text": [
      "100%|██████████| 59/59 [04:45<00:00,  4.61s/it]\n"
     ]
    },
    {
     "name": "stdout",
     "output_type": "stream",
     "text": [
      "K 0 results\n",
      "dice 0.934232\n",
      "hd 26.334536\n",
      "hd95 1.878845\n",
      "loading weights from ./logs/unet_se/kfold_unet_se/kfold_unet_dice_DA_K1/kfold_unet_dice_DA_K1_weights.h5\n"
     ]
    },
    {
     "name": "stderr",
     "output_type": "stream",
     "text": [
      "100%|██████████| 58/58 [04:24<00:00,  4.15s/it]\n"
     ]
    },
    {
     "name": "stdout",
     "output_type": "stream",
     "text": [
      "K 1 results\n",
      "dice 0.937364\n",
      "hd 25.393205\n",
      "hd95 0.630005\n",
      "loading weights from ./logs/unet_se/kfold_unet_se/kfold_unet_dice_DA_K2/kfold_unet_dice_DA_K2_weights.h5\n"
     ]
    },
    {
     "name": "stderr",
     "output_type": "stream",
     "text": [
      "100%|██████████| 58/58 [04:28<00:00,  4.69s/it]\n"
     ]
    },
    {
     "name": "stdout",
     "output_type": "stream",
     "text": [
      "K 2 results\n",
      "dice 0.940582\n",
      "hd 14.540643\n",
      "hd95 1.181931\n",
      "loading weights from ./logs/unet_se/kfold_unet_se/kfold_unet_dice_DA_K3/kfold_unet_dice_DA_K3_weights.h5\n"
     ]
    },
    {
     "name": "stderr",
     "output_type": "stream",
     "text": [
      "100%|██████████| 58/58 [04:31<00:00,  4.24s/it]\n"
     ]
    },
    {
     "name": "stdout",
     "output_type": "stream",
     "text": [
      "K 3 results\n",
      "dice 0.931239\n",
      "hd 35.582699\n",
      "hd95 0.719255\n",
      "loading weights from ./logs/unet_se/kfold_unet_se/kfold_unet_dice_DA_K4/kfold_unet_dice_DA_K4_weights.h5\n"
     ]
    },
    {
     "name": "stderr",
     "output_type": "stream",
     "text": [
      "100%|██████████| 58/58 [04:40<00:00,  6.16s/it]"
     ]
    },
    {
     "name": "stdout",
     "output_type": "stream",
     "text": [
      "K 4 results\n",
      "dice 0.927510\n",
      "hd 29.151175\n",
      "hd95 1.045047\n",
      "Final results for unet_se\n",
      "dice 0.934185\n",
      "hd 26.200452\n",
      "hd95 1.091017\n"
     ]
    },
    {
     "name": "stderr",
     "output_type": "stream",
     "text": [
      "\n"
     ]
    }
   ],
   "source": [
    "#Get data and generators\n",
    "\n",
    "unet_type = 'unet_se'\n",
    "dh = DataHandler()\n",
    "all_dice = []\n",
    "all_hd = []\n",
    "all_hd95 = []\n",
    "\n",
    "for i in range(len(kfold_indices)):\n",
    "    exp_name = 'kfold_unet_dice_DA_K%d'%i\n",
    "\n",
    "    #get parameters\n",
    "    params = getParams(exp_name, unet_type=unet_type)\n",
    "    \n",
    "    val_img_files = np.take(image_files, kfold_indices[i]['val'])\n",
    "    val_mask_files = np.take(mask_files, kfold_indices[i]['val'])\n",
    "    \n",
    "    \n",
    "    if unet_type == 'unet_se':\n",
    "        model = getSEUnet()\n",
    "    \n",
    "    print('loading weights from %s'%params['checkpoint']['name'])\n",
    "    model.load_weights(params['checkpoint']['name'])\n",
    "        \n",
    "    data = zip(val_img_files, val_mask_files)\n",
    "    \n",
    "    dice_score, hd_score, hd95_score = predictAll(model, data, num_data=len(val_mask_files))\n",
    "    \n",
    "    print('K %d results'%i)\n",
    "    print('dice %f'%dice_score)\n",
    "    print('hd %f'%hd_score)\n",
    "    print('hd95 %f'%hd95_score)\n",
    "    \n",
    "    \n",
    "    all_dice.append(dice_score)\n",
    "    all_hd.append(hd_score)\n",
    "    all_hd95.append(hd95_score)\n",
    "    \n",
    "print('Final results for %s'%unet_type)\n",
    "print('dice %f'%np.mean(all_dice))\n",
    "print('hd %f'%np.mean(all_hd))\n",
    "print('hd95 %f'%np.mean(all_hd95))"
   ]
  }
 ],
 "metadata": {
  "kernelspec": {
   "display_name": "Python 3",
   "language": "python",
   "name": "python3"
  },
  "language_info": {
   "codemirror_mode": {
    "name": "ipython",
    "version": 3
   },
   "file_extension": ".py",
   "mimetype": "text/x-python",
   "name": "python",
   "nbconvert_exporter": "python",
   "pygments_lexer": "ipython3",
   "version": "3.6.7"
  }
 },
 "nbformat": 4,
 "nbformat_minor": 2
}
