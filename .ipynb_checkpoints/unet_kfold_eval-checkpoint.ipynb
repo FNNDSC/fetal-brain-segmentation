{
 "cells": [
  {
   "cell_type": "code",
   "execution_count": 1,
   "metadata": {},
   "outputs": [
    {
     "name": "stderr",
     "output_type": "stream",
     "text": [
      "Using TensorFlow backend.\n"
     ]
    }
   ],
   "source": [
    "import numpy as np\n",
    "\n",
    "from keras.models import *\n",
    "from keras import backend as K\n",
    "from keras.preprocessing.image import ImageDataGenerator\n",
    "\n",
    "from models.unet_se import *\n",
    "from models.unet import *\n",
    "from models.resnet_fcn import *\n",
    "from models.resnet_se_fcn import *\n",
    "from models.resnet_fcn import *\n",
    "from models.vgg19_fcn import *\n",
    "from models.vgg19_se_fcn import *\n",
    "from models.unet_resnet import *\n",
    "\n",
    "from datahandler import DataHandler\n",
    "from data_loader import *\n",
    "from params import *\n",
    "import os\n",
    "import cv2\n",
    "import skimage.io as io\n",
    "from tqdm import tqdm\n",
    "\n",
    "from medpy.io import save\n",
    "\n",
    "from math import ceil, floor\n",
    "from matplotlib import pyplot as plt\n",
    "from sklearn.metrics import f1_score, jaccard_similarity_score\n",
    "\n",
    "from scipy.ndimage import _ni_support\n",
    "from scipy.ndimage.morphology import distance_transform_edt, binary_erosion,\\\n",
    "     generate_binary_structure\n",
    "\n",
    "import warnings\n",
    "warnings.filterwarnings(\"ignore\")\n",
    "\n",
    "plt.gray()"
   ]
  },
  {
   "cell_type": "code",
   "execution_count": 2,
   "metadata": {},
   "outputs": [],
   "source": [
    "def destiny_directory(dice_score):\n",
    "    pre = './data/eval/unet/'\n",
    "    if dice_score >= 98:\n",
    "        return pre + 'dice_98_100/'\n",
    "    elif dice_score >= 96:\n",
    "        return pre + 'dice_96_98/'\n",
    "    elif dice_score >= 94:\n",
    "        return pre + 'dice_94_96/'\n",
    "    elif dice_score >= 92:\n",
    "        return pre + 'dice_92_94/'\n",
    "    elif dice_score >= 90:\n",
    "        return pre + 'dice_90_92/'\n",
    "    elif dice_score >= 88:\n",
    "        return pre + 'dice_88_90/'\n",
    "    elif dice_score >= 85:\n",
    "        return pre + 'dice_85_88'\n",
    "    elif dice_score >= 80:\n",
    "        return pre + 'dice_80_85/'\n",
    "    elif dice_score >= 70:\n",
    "        return pre + 'dice_70_80/'\n",
    "    elif dice_score >= 60:\n",
    "        return pre + 'dice_60_70/'\n",
    "    else:\n",
    "        return pre + 'dice_less_60'"
   ]
  },
  {
   "cell_type": "code",
   "execution_count": 3,
   "metadata": {},
   "outputs": [],
   "source": [
    "def getGenerator(images, bs=1):\n",
    "    image_datagen = ImageDataGenerator(rescale=1./255)\n",
    "    image_datagen.fit(images, augment = True)\n",
    "    image_generator = image_datagen.flow(x = images, batch_size=bs,\n",
    "            shuffle = False)\n",
    "\n",
    "    return image_generator\n"
   ]
  },
  {
   "cell_type": "code",
   "execution_count": 4,
   "metadata": {},
   "outputs": [],
   "source": [
    "def getDiceScore(ground_truth, prediction):\n",
    "    #convert to boolean values and flatten\n",
    "    ground_truth = np.asarray(ground_truth, dtype=np.bool).flatten()\n",
    "    prediction = np.asarray(prediction, dtype=np.bool).flatten()    \n",
    "    return f1_score(ground_truth, prediction)\n"
   ]
  },
  {
   "cell_type": "code",
   "execution_count": 5,
   "metadata": {},
   "outputs": [],
   "source": [
    " def hd(result, reference, voxelspacing=None, connectivity=1):\n",
    "    hd1 = __surface_distances(result, reference, voxelspacing, connectivity).max()\n",
    "    hd2 = __surface_distances(reference, result, voxelspacing, connectivity).max()\n",
    "    hd = max(hd1, hd2)\n",
    "    return hd\n",
    "\n",
    "def hd95(result, reference, voxelspacing=None, connectivity=1):\n",
    "    hd1 = __surface_distances(result, reference, voxelspacing, connectivity)\n",
    "    hd2 = __surface_distances(reference, result, voxelspacing, connectivity)\n",
    "    hd95 = np.percentile(np.hstack((hd1, hd2)), 95)\n",
    "    return hd95\n",
    "\n",
    "def __surface_distances(result, reference, voxelspacing=None, connectivity=1):\n",
    "    result = np.atleast_1d(result.astype(np.bool))\n",
    "    reference = np.atleast_1d(reference.astype(np.bool))\n",
    "    if voxelspacing is not None:\n",
    "        voxelspacing = _ni_support._normalize_sequence(voxelspacing, result.ndim)\n",
    "        voxelspacing = np.asarray(voxelspacing, dtype=np.float64)\n",
    "        if not voxelspacing.flags.contiguous:\n",
    "            voxelspacing = voxelspacing.copy()\n",
    "\n",
    "    footprint = generate_binary_structure(result.ndim, connectivity)\n",
    "\n",
    "    if 0 == np.count_nonzero(result):\n",
    "        raise RuntimeError('The first supplied array does not contain any binary object.')\n",
    "    if 0 == np.count_nonzero(reference):\n",
    "        raise RuntimeError('The second supplied array does not contain any binary object.')\n",
    "\n",
    "    result_border = result ^ binary_erosion(result, structure=footprint, iterations=1)\n",
    "    reference_border = reference ^ binary_erosion(reference, structure=footprint, iterations=1)\n",
    "\n",
    "    dt = distance_transform_edt(~reference_border, sampling=voxelspacing)\n",
    "    sds = dt[result_border]\n",
    "\n",
    "    return sds"
   ]
  },
  {
   "cell_type": "code",
   "execution_count": 6,
   "metadata": {},
   "outputs": [
    {
     "name": "stdout",
     "output_type": "stream",
     "text": [
      "291\n",
      "291\n"
     ]
    }
   ],
   "source": [
    "image_files, mask_files = load_data_files('data/kfold_data/')\n",
    "print(len(image_files))\n",
    "print(len(mask_files))\n",
    "skf = getKFolds(image_files, mask_files, n=10)\n",
    "\n",
    "kfold_indices = []\n",
    "for train_index, val_index in skf.split(image_files, mask_files):\n",
    "    kfold_indices.append({'train': train_index, 'val': val_index})"
   ]
  },
  {
   "cell_type": "code",
   "execution_count": 7,
   "metadata": {},
   "outputs": [],
   "source": [
    "def predictMask(model, image):  \n",
    "    image_gen = getGenerator(image)\n",
    "    return model.predict_generator(image_gen, steps=len(image))"
   ]
  },
  {
   "cell_type": "code",
   "execution_count": 8,
   "metadata": {},
   "outputs": [],
   "source": [
    "def prepareForSaving(image):\n",
    "    image = np.squeeze(image)\n",
    "    image = np.swapaxes(image, -1, 0)\n",
    "    \n",
    "    return image\n",
    "\n",
    "def predictAll(model, data, num_data=0):\n",
    "    dice_scores = []\n",
    "    hd_scores = []\n",
    "    hd95_scores = []\n",
    "\n",
    "    for image_file, mask_file in tqdm(data, total=num_data):\n",
    "        \n",
    "        fname = image_file[image_file.rindex('/')+1 : image_file.index('.')]\n",
    "        \n",
    "        image, hdr = dh.getImageData(image_file)\n",
    "        gt_mask, _ = dh.getImageData(mask_file, is_mask=True)\n",
    "\n",
    "        assert image.shape == gt_mask.shape\n",
    "        \n",
    "        if image.shape[1] != 256:\n",
    "            continue\n",
    "        \n",
    "        pred_mask = predictMask(model, image)\n",
    "        pred_mask[pred_mask>=0.5] = 1\n",
    "        pred_mask[pred_mask<0.5] = 0\n",
    "            \n",
    "        dice_score = getDiceScore(gt_mask, pred_mask)\n",
    "        \n",
    "        if dice_score == 0:\n",
    "            dice_scores.append(dice_score)\n",
    "            hd_scores.append(200)\n",
    "            hd95_scores.append(200)\n",
    "            \n",
    "            continue\n",
    "        \n",
    "        dice_scores.append(dice_score)\n",
    "        \n",
    "        hd_score = hd(gt_mask, pred_mask)\n",
    "        hd_scores.append(hd_score)\n",
    "        \n",
    "        hd95_score = hd95(gt_mask, pred_mask)\n",
    "        hd95_scores.append(hd95_score)\n",
    "        \n",
    "        '''int_dice_score = floor(dice_score * 100)\n",
    "        save_path = destiny_directory(int_dice_score)\n",
    "        \n",
    "        pred_mask = prepareForSaving(pred_mask)\n",
    "        image = prepareForSaving(image)\n",
    "        gt_mask = prepareForSaving(gt_mask)\n",
    "            \n",
    "        save(pred_mask, os.path.join(save_path, fname + '_' + unet_type + '_' \n",
    "            + str(int_dice_score) + '.nii'), hdr)\n",
    "        save(image, os.path.join(save_path, fname + '_img.nii'), hdr)\n",
    "        save(gt_mask, os.path.join(save_path, fname + '_mask.nii'), hdr)'''\n",
    "\n",
    "    return dice_scores, hd_scores, hd95_scores"
   ]
  },
  {
   "cell_type": "code",
   "execution_count": 9,
   "metadata": {},
   "outputs": [
    {
     "name": "stdout",
     "output_type": "stream",
     "text": [
      "Working with unet\n",
      "loading weights from ./logs/unet/kfold_unet/kfold_unet_dice_DA_K0/kfold_unet_dice_DA_K0_weights.h5\n"
     ]
    },
    {
     "name": "stderr",
     "output_type": "stream",
     "text": [
      " 60%|██████    | 18/30 [01:12<00:47,  3.96s/it]"
     ]
    },
    {
     "ename": "RuntimeError",
     "evalue": "The second supplied array does not contain any binary object.",
     "output_type": "error",
     "traceback": [
      "\u001b[0;31m---------------------------------------------------------------------------\u001b[0m",
      "\u001b[0;31mRuntimeError\u001b[0m                              Traceback (most recent call last)",
      "\u001b[0;32m<ipython-input-9-335dd3d3d1db>\u001b[0m in \u001b[0;36m<module>\u001b[0;34m\u001b[0m\n\u001b[1;32m     30\u001b[0m     \u001b[0mdata\u001b[0m \u001b[0;34m=\u001b[0m \u001b[0mzip\u001b[0m\u001b[0;34m(\u001b[0m\u001b[0mval_img_files\u001b[0m\u001b[0;34m,\u001b[0m \u001b[0mval_mask_files\u001b[0m\u001b[0;34m)\u001b[0m\u001b[0;34m\u001b[0m\u001b[0;34m\u001b[0m\u001b[0m\n\u001b[1;32m     31\u001b[0m \u001b[0;34m\u001b[0m\u001b[0m\n\u001b[0;32m---> 32\u001b[0;31m     \u001b[0mdice_score\u001b[0m\u001b[0;34m,\u001b[0m \u001b[0mhd_score\u001b[0m\u001b[0;34m,\u001b[0m \u001b[0mhd95_score\u001b[0m \u001b[0;34m=\u001b[0m \u001b[0mpredictAll\u001b[0m\u001b[0;34m(\u001b[0m\u001b[0mmodel\u001b[0m\u001b[0;34m,\u001b[0m \u001b[0mdata\u001b[0m\u001b[0;34m,\u001b[0m \u001b[0mnum_data\u001b[0m\u001b[0;34m=\u001b[0m\u001b[0mlen\u001b[0m\u001b[0;34m(\u001b[0m\u001b[0mval_mask_files\u001b[0m\u001b[0;34m)\u001b[0m\u001b[0;34m)\u001b[0m\u001b[0;34m\u001b[0m\u001b[0;34m\u001b[0m\u001b[0m\n\u001b[0m\u001b[1;32m     33\u001b[0m \u001b[0;34m\u001b[0m\u001b[0m\n\u001b[1;32m     34\u001b[0m     \u001b[0mprint\u001b[0m\u001b[0;34m(\u001b[0m\u001b[0;34m'Finished K%d'\u001b[0m\u001b[0;34m%\u001b[0m\u001b[0mi\u001b[0m\u001b[0;34m)\u001b[0m\u001b[0;34m\u001b[0m\u001b[0;34m\u001b[0m\u001b[0m\n",
      "\u001b[0;32m<ipython-input-8-d18ed17d37f3>\u001b[0m in \u001b[0;36mpredictAll\u001b[0;34m(model, data, num_data)\u001b[0m\n\u001b[1;32m     30\u001b[0m         \u001b[0mdice_scores\u001b[0m\u001b[0;34m.\u001b[0m\u001b[0mappend\u001b[0m\u001b[0;34m(\u001b[0m\u001b[0mdice_score\u001b[0m\u001b[0;34m)\u001b[0m\u001b[0;34m\u001b[0m\u001b[0;34m\u001b[0m\u001b[0m\n\u001b[1;32m     31\u001b[0m \u001b[0;34m\u001b[0m\u001b[0m\n\u001b[0;32m---> 32\u001b[0;31m         \u001b[0mhd_score\u001b[0m \u001b[0;34m=\u001b[0m \u001b[0mhd\u001b[0m\u001b[0;34m(\u001b[0m\u001b[0mgt_mask\u001b[0m\u001b[0;34m,\u001b[0m \u001b[0mpred_mask\u001b[0m\u001b[0;34m)\u001b[0m\u001b[0;34m\u001b[0m\u001b[0;34m\u001b[0m\u001b[0m\n\u001b[0m\u001b[1;32m     33\u001b[0m         \u001b[0mhd_scores\u001b[0m\u001b[0;34m.\u001b[0m\u001b[0mappend\u001b[0m\u001b[0;34m(\u001b[0m\u001b[0mhd_score\u001b[0m\u001b[0;34m)\u001b[0m\u001b[0;34m\u001b[0m\u001b[0;34m\u001b[0m\u001b[0m\n\u001b[1;32m     34\u001b[0m \u001b[0;34m\u001b[0m\u001b[0m\n",
      "\u001b[0;32m<ipython-input-5-1efeceda43ca>\u001b[0m in \u001b[0;36mhd\u001b[0;34m(result, reference, voxelspacing, connectivity)\u001b[0m\n\u001b[1;32m      1\u001b[0m \u001b[0;32mdef\u001b[0m \u001b[0mhd\u001b[0m\u001b[0;34m(\u001b[0m\u001b[0mresult\u001b[0m\u001b[0;34m,\u001b[0m \u001b[0mreference\u001b[0m\u001b[0;34m,\u001b[0m \u001b[0mvoxelspacing\u001b[0m\u001b[0;34m=\u001b[0m\u001b[0;32mNone\u001b[0m\u001b[0;34m,\u001b[0m \u001b[0mconnectivity\u001b[0m\u001b[0;34m=\u001b[0m\u001b[0;36m1\u001b[0m\u001b[0;34m)\u001b[0m\u001b[0;34m:\u001b[0m\u001b[0;34m\u001b[0m\u001b[0;34m\u001b[0m\u001b[0m\n\u001b[0;32m----> 2\u001b[0;31m    \u001b[0mhd1\u001b[0m \u001b[0;34m=\u001b[0m \u001b[0m__surface_distances\u001b[0m\u001b[0;34m(\u001b[0m\u001b[0mresult\u001b[0m\u001b[0;34m,\u001b[0m \u001b[0mreference\u001b[0m\u001b[0;34m,\u001b[0m \u001b[0mvoxelspacing\u001b[0m\u001b[0;34m,\u001b[0m \u001b[0mconnectivity\u001b[0m\u001b[0;34m)\u001b[0m\u001b[0;34m.\u001b[0m\u001b[0mmax\u001b[0m\u001b[0;34m(\u001b[0m\u001b[0;34m)\u001b[0m\u001b[0;34m\u001b[0m\u001b[0;34m\u001b[0m\u001b[0m\n\u001b[0m\u001b[1;32m      3\u001b[0m    \u001b[0mhd2\u001b[0m \u001b[0;34m=\u001b[0m \u001b[0m__surface_distances\u001b[0m\u001b[0;34m(\u001b[0m\u001b[0mreference\u001b[0m\u001b[0;34m,\u001b[0m \u001b[0mresult\u001b[0m\u001b[0;34m,\u001b[0m \u001b[0mvoxelspacing\u001b[0m\u001b[0;34m,\u001b[0m \u001b[0mconnectivity\u001b[0m\u001b[0;34m)\u001b[0m\u001b[0;34m.\u001b[0m\u001b[0mmax\u001b[0m\u001b[0;34m(\u001b[0m\u001b[0;34m)\u001b[0m\u001b[0;34m\u001b[0m\u001b[0;34m\u001b[0m\u001b[0m\n\u001b[1;32m      4\u001b[0m    \u001b[0mhd\u001b[0m \u001b[0;34m=\u001b[0m \u001b[0mmax\u001b[0m\u001b[0;34m(\u001b[0m\u001b[0mhd1\u001b[0m\u001b[0;34m,\u001b[0m \u001b[0mhd2\u001b[0m\u001b[0;34m)\u001b[0m\u001b[0;34m\u001b[0m\u001b[0;34m\u001b[0m\u001b[0m\n\u001b[1;32m      5\u001b[0m    \u001b[0;32mreturn\u001b[0m \u001b[0mhd\u001b[0m\u001b[0;34m\u001b[0m\u001b[0;34m\u001b[0m\u001b[0m\n",
      "\u001b[0;32m<ipython-input-5-1efeceda43ca>\u001b[0m in \u001b[0;36m__surface_distances\u001b[0;34m(result, reference, voxelspacing, connectivity)\u001b[0m\n\u001b[1;32m     25\u001b[0m        \u001b[0;32mraise\u001b[0m \u001b[0mRuntimeError\u001b[0m\u001b[0;34m(\u001b[0m\u001b[0;34m'The first supplied array does not contain any binary object.'\u001b[0m\u001b[0;34m)\u001b[0m\u001b[0;34m\u001b[0m\u001b[0;34m\u001b[0m\u001b[0m\n\u001b[1;32m     26\u001b[0m    \u001b[0;32mif\u001b[0m \u001b[0;36m0\u001b[0m \u001b[0;34m==\u001b[0m \u001b[0mnp\u001b[0m\u001b[0;34m.\u001b[0m\u001b[0mcount_nonzero\u001b[0m\u001b[0;34m(\u001b[0m\u001b[0mreference\u001b[0m\u001b[0;34m)\u001b[0m\u001b[0;34m:\u001b[0m\u001b[0;34m\u001b[0m\u001b[0;34m\u001b[0m\u001b[0m\n\u001b[0;32m---> 27\u001b[0;31m        \u001b[0;32mraise\u001b[0m \u001b[0mRuntimeError\u001b[0m\u001b[0;34m(\u001b[0m\u001b[0;34m'The second supplied array does not contain any binary object.'\u001b[0m\u001b[0;34m)\u001b[0m\u001b[0;34m\u001b[0m\u001b[0;34m\u001b[0m\u001b[0m\n\u001b[0m\u001b[1;32m     28\u001b[0m \u001b[0;34m\u001b[0m\u001b[0m\n\u001b[1;32m     29\u001b[0m    \u001b[0mresult_border\u001b[0m \u001b[0;34m=\u001b[0m \u001b[0mresult\u001b[0m \u001b[0;34m^\u001b[0m \u001b[0mbinary_erosion\u001b[0m\u001b[0;34m(\u001b[0m\u001b[0mresult\u001b[0m\u001b[0;34m,\u001b[0m \u001b[0mstructure\u001b[0m\u001b[0;34m=\u001b[0m\u001b[0mfootprint\u001b[0m\u001b[0;34m,\u001b[0m \u001b[0miterations\u001b[0m\u001b[0;34m=\u001b[0m\u001b[0;36m1\u001b[0m\u001b[0;34m)\u001b[0m\u001b[0;34m\u001b[0m\u001b[0;34m\u001b[0m\u001b[0m\n",
      "\u001b[0;31mRuntimeError\u001b[0m: The second supplied array does not contain any binary object."
     ]
    }
   ],
   "source": [
    "#Get data and generators\n",
    "\n",
    "unet_type = 'unet'\n",
    "dh = DataHandler()\n",
    "all_dice = []\n",
    "all_hd = []\n",
    "all_hd95 = []\n",
    "\n",
    "for i in range(len(kfold_indices)):\n",
    "    exp_name = 'kfold_%s_dice_DA_K%d'%(unet_type, i)\n",
    "\n",
    "    #get parameters\n",
    "    params = getParams(exp_name, unet_type=unet_type)\n",
    "    \n",
    "    val_img_files = np.take(image_files, kfold_indices[i]['val'])\n",
    "    val_mask_files = np.take(mask_files, kfold_indices[i]['val'])\n",
    "    \n",
    "    \n",
    "    if unet_type == 'unet_se':\n",
    "        print('Working with unetSE')\n",
    "        model = getSEUnet()\n",
    "        \n",
    "    else:\n",
    "        print('Working with unet')\n",
    "        model = getUnet()\n",
    "    \n",
    "    print('loading weights from %s'%params['checkpoint']['name'])\n",
    "    model.load_weights(params['checkpoint']['name'])\n",
    "        \n",
    "    data = zip(val_img_files, val_mask_files)\n",
    "    \n",
    "    dice_score, hd_score, hd95_score = predictAll(model, data, num_data=len(val_mask_files))\n",
    "    \n",
    "    print('Finished K%d'%i)\n",
    "    \n",
    "    all_dice += dice_score\n",
    "    all_hd += hd_score\n",
    "    all_hd95 += hd95_score\n",
    "\n",
    "print('dice')\n",
    "for i in range(len(all_dice)):\n",
    "    print(all_dice[i])\n",
    "print()\n",
    "\n",
    "print('hd')\n",
    "for i in range(len(all_hd)):\n",
    "    print(all_hd[i])\n",
    "print()\n",
    "\n",
    "print('hd95')\n",
    "for i in range(len(all_hd95)):\n",
    "    print(all_hd95[i])\n",
    "print()\n",
    "    \n",
    "print('Final results for %s'%unet_type)\n",
    "print('dice %f'%np.mean(all_dice))\n",
    "print('hd %f'%np.mean(all_hd))\n",
    "print('hd95 %f'%np.mean(all_hd95))\n"
   ]
  },
  {
   "cell_type": "code",
   "execution_count": null,
   "metadata": {},
   "outputs": [],
   "source": []
  }
 ],
 "metadata": {
  "kernelspec": {
   "display_name": "Python 3",
   "language": "python",
   "name": "python3"
  },
  "language_info": {
   "codemirror_mode": {
    "name": "ipython",
    "version": 3
   },
   "file_extension": ".py",
   "mimetype": "text/x-python",
   "name": "python",
   "nbconvert_exporter": "python",
   "pygments_lexer": "ipython3",
   "version": "3.6.7"
  }
 },
 "nbformat": 4,
 "nbformat_minor": 2
}
