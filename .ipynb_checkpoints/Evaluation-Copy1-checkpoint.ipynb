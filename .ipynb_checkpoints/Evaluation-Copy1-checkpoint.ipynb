{
 "cells": [
  {
   "cell_type": "code",
   "execution_count": 1,
   "metadata": {},
   "outputs": [
    {
     "name": "stderr",
     "output_type": "stream",
     "text": [
      "Using TensorFlow backend.\n"
     ]
    }
   ],
   "source": [
    "import numpy as np\n",
    "\n",
    "from keras.models import *\n",
    "from keras import backend as K\n",
    "from keras.preprocessing.image import ImageDataGenerator\n",
    "\n",
    "from models.unet import *\n",
    "from datahandler import DataHandler\n",
    "\n",
    "import os\n",
    "import cv2\n",
    "import skimage.io as io\n",
    "from tqdm import tqdm\n",
    "from math import ceil\n",
    "from matplotlib import pyplot as plt\n",
    "from sklearn.metrics import f1_score, jaccard_similarity_score\n",
    "from tta_wrapper import tta_segmentation\n",
    "\n",
    "import warnings\n",
    "warnings.filterwarnings(\"ignore\")\n",
    "\n",
    "plt.gray()"
   ]
  },
  {
   "cell_type": "code",
   "execution_count": 2,
   "metadata": {},
   "outputs": [
    {
     "name": "stderr",
     "output_type": "stream",
     "text": [
      "Validation data: 100%|██████████████████████████| 43/43 [00:47<00:00,  1.07s/it]\n"
     ]
    }
   ],
   "source": [
    "model = getUnet()\n",
    "model.load_weights('logs/unet/unet_dice_nobells/unet_dice_nobells_weights.h5')\n",
    "\n",
    "dh = DataHandler()\n",
    "images, masks = dh.getData(only_test = True)"
   ]
  },
  {
   "cell_type": "code",
   "execution_count": 3,
   "metadata": {},
   "outputs": [],
   "source": [
    "def resetSeed():\n",
    "    np.random.seed(1)\n",
    "\n",
    "def getGenerator(images, bs=32):\n",
    "    resetSeed()\n",
    "\n",
    "    image_datagen = ImageDataGenerator(rescale=1./255)\n",
    "    image_datagen.fit(images, augment = True)\n",
    "    image_generator = image_datagen.flow(x = images, batch_size=bs,\n",
    "            shuffle = False)\n",
    "\n",
    "    return image_generator"
   ]
  },
  {
   "cell_type": "code",
   "execution_count": 4,
   "metadata": {},
   "outputs": [],
   "source": [
    "def dice_coef(y_true, y_pred):     \n",
    "    y_true = y_true.flatten()\n",
    "    y_pred = y_pred.flatten()\n",
    "    intersection = np.sum(y_pred[y_true==1])\n",
    "    insum = np.sum(y_true) + np.sum(y_pred)\n",
    "    \n",
    "    if insum == 0:\n",
    "        return 1\n",
    "    \n",
    "    return 2. * intersection / insum\n",
    "\n",
    "def evaluateModel(masks, predictions):\n",
    "    dice_scores = []\n",
    "    iou_scores = []\n",
    "    f1_scores = []\n",
    "    \n",
    "    for i, pred in enumerate(tqdm(results, desc='evaluating')):\n",
    "        mask = masks[i]\n",
    "        \n",
    "        mask[mask==255] = 1\n",
    "        pred[pred<0.5] = 0\n",
    "        pred[pred>=0.5] = 1\n",
    "\n",
    "        mask = np.asarray(mask, dtype=np.bool).flatten()\n",
    "        pred = np.asarray(pred, dtype=np.bool).flatten()\n",
    "        \n",
    "        dice = dice_coef(mask,pred)\n",
    "        iou = jaccard_similarity_score(mask, pred)\n",
    "        f1 = f1_score(mask, pred)\n",
    "        \n",
    "        if dice > 0:\n",
    "            dice_scores.append(dice_coef(mask, pred))\n",
    "        if iou > 0:\n",
    "            iou_scores.append(jaccard_similarity_score(mask, pred))\n",
    "        if f1 > 0:\n",
    "            f1_scores.append(f1_score(mask, pred))\n",
    "    \n",
    "    print('dice: %f'%np.mean(dice_scores))\n",
    "    print('F1: %f'%np.mean(f1_scores))    \n",
    "    print('IoU: %f'%np.mean(iou_scores))"
   ]
  },
  {
   "cell_type": "code",
   "execution_count": 5,
   "metadata": {},
   "outputs": [
    {
     "name": "stdout",
     "output_type": "stream",
     "text": [
      "59/59 [==============================] - 9s 155ms/step\n"
     ]
    }
   ],
   "source": [
    "test_gen = getGenerator(images)\n",
    "results = model.predict_generator(test_gen, ceil(len(images) / 32), verbose = 1)"
   ]
  },
  {
   "cell_type": "markdown",
   "metadata": {},
   "source": [
    "### Normal"
   ]
  },
  {
   "cell_type": "code",
   "execution_count": 6,
   "metadata": {},
   "outputs": [
    {
     "name": "stderr",
     "output_type": "stream",
     "text": [
      "evaluating: 100%|██████████| 1858/1858 [00:20<00:00, 88.55it/s] "
     ]
    },
    {
     "name": "stdout",
     "output_type": "stream",
     "text": [
      "dice: 0.936811\n",
      "F1: 0.919929\n",
      "IoU: 0.994370\n"
     ]
    },
    {
     "name": "stderr",
     "output_type": "stream",
     "text": [
      "\n"
     ]
    }
   ],
   "source": [
    "evaluateModel(masks, results)"
   ]
  },
  {
   "cell_type": "markdown",
   "metadata": {},
   "source": [
    "### Comp vision techniques"
   ]
  },
  {
   "cell_type": "code",
   "execution_count": 7,
   "metadata": {},
   "outputs": [
    {
     "name": "stderr",
     "output_type": "stream",
     "text": [
      "Removing components: 100%|██████████| 1858/1858 [00:00<00:00, 7855.94it/s]\n",
      "evaluating: 100%|██████████| 1858/1858 [00:20<00:00, 90.27it/s] "
     ]
    },
    {
     "name": "stdout",
     "output_type": "stream",
     "text": [
      "dice: 0.936811\n",
      "F1: 0.919929\n",
      "IoU: 0.994370\n"
     ]
    },
    {
     "name": "stderr",
     "output_type": "stream",
     "text": [
      "\n"
     ]
    }
   ],
   "source": [
    "def chooseComponent(image, j):\n",
    "    image = image.astype('uint8')\n",
    "    nb_components, output, stats, centroids = cv2.connectedComponentsWithStats(image, connectivity=4)\n",
    "    sizes = stats[:, -1]\n",
    " \n",
    "    max_label = 1\n",
    "    if len(sizes) < 3:\n",
    "        return image\n",
    "    max_size = sizes[1]\n",
    "    for i in range(2, nb_components):\n",
    "        if sizes[i] > max_size:\n",
    "            max_label = i\n",
    "            max_size = sizes[i]\n",
    " \n",
    "    new_img = np.zeros(output.shape)\n",
    "    new_img[output == max_label] = 1\n",
    "    return new_img\n",
    "\n",
    "results_one_comp = []\n",
    "for i, res in enumerate(tqdm(results, desc='Removing components')):\n",
    "    results_one_comp.append(chooseComponent(res, i))\n",
    "evaluateModel(masks, results_one_comp)  "
   ]
  },
  {
   "cell_type": "markdown",
   "metadata": {},
   "source": [
    "### TTA"
   ]
  },
  {
   "cell_type": "code",
   "execution_count": 8,
   "metadata": {},
   "outputs": [],
   "source": [
    "\n",
    "params = dict(\n",
    "        h_flip=True,\n",
    "        v_flip=True,\n",
    "        h_shift=(10, -10),\n",
    "        v_shift=(10, -10),\n",
    "        rotation=(90, 180, 270),\n",
    "        merge='mean')\n",
    "\n",
    "tta_model = tta_segmentation(model, **params)\n"
   ]
  },
  {
   "cell_type": "code",
   "execution_count": 9,
   "metadata": {},
   "outputs": [
    {
     "name": "stdout",
     "output_type": "stream",
     "text": [
      "1858/1858 [==============================] - 1178s 634ms/step\n"
     ]
    }
   ],
   "source": [
    "results = []\n",
    "\n",
    "test_gen = getGenerator(images, bs=1)\n",
    "results = tta_model.predict_generator(test_gen, len(images), verbose = 1)"
   ]
  },
  {
   "cell_type": "code",
   "execution_count": 10,
   "metadata": {},
   "outputs": [
    {
     "name": "stderr",
     "output_type": "stream",
     "text": [
      "evaluating: 100%|██████████| 1858/1858 [00:20<00:00, 92.13it/s] "
     ]
    },
    {
     "name": "stdout",
     "output_type": "stream",
     "text": [
      "dice: 0.939867\n",
      "F1: 0.921535\n",
      "IoU: 0.994257\n"
     ]
    },
    {
     "name": "stderr",
     "output_type": "stream",
     "text": [
      "\n"
     ]
    }
   ],
   "source": [
    "evaluateModel(masks, results)"
   ]
  },
  {
   "cell_type": "code",
   "execution_count": 11,
   "metadata": {
    "scrolled": true
   },
   "outputs": [
    {
     "name": "stdout",
     "output_type": "stream",
     "text": [
      "0.8035087719298245\n",
      "0.8035087719298245\n"
     ]
    },
    {
     "data": {
      "image/png": "[encoded data removed]",
      "text/plain": [
       "<Figure size 432x288 with 3 Axes>"
      ]
     },
     "metadata": {
      "needs_background": "light"
     },
     "output_type": "display_data"
    }
   ],
   "source": [
    "k = 698\n",
    "\n",
    "seg = results[k]\n",
    "mask = masks[k]\n",
    "\n",
    "seg2 = chooseComponent(seg, None)\n",
    "\n",
    "plt.subplot(1,3,1)\n",
    "plt.title('gt')\n",
    "plt.imshow(np.squeeze(mask))\n",
    "\n",
    "plt.subplot(1,3,2)\n",
    "plt.title('seg')\n",
    "plt.imshow(np.squeeze(seg))\n",
    "\n",
    "plt.subplot(1,3,3)\n",
    "plt.title('seg2')\n",
    "plt.imshow(np.squeeze(seg2))\n",
    "\n",
    "p = np.asarray(seg, dtype=np.bool).flatten()\n",
    "p2 = np.asarray(seg2, dtype=np.bool).flatten()\n",
    "\n",
    "m = np.asarray(mask, dtype=np.bool).flatten()\n",
    "    \n",
    "\n",
    "print(f1_score(p, m))\n",
    "print(f1_score(p2, m))"
   ]
  }
 ],
 "metadata": {
  "kernelspec": {
   "display_name": "Python 3",
   "language": "python",
   "name": "python3"
  },
  "language_info": {
   "codemirror_mode": {
    "name": "ipython",
    "version": 3
   },
   "file_extension": ".py",
   "mimetype": "text/x-python",
   "name": "python",
   "nbconvert_exporter": "python",
   "pygments_lexer": "ipython3",
   "version": "3.6.7"
  }
 },
 "nbformat": 4,
 "nbformat_minor": 2
}
