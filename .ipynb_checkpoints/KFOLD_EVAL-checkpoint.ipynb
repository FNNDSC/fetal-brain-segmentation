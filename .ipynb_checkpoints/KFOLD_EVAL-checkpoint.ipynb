{
 "cells": [
  {
   "cell_type": "code",
   "execution_count": 1,
   "metadata": {},
   "outputs": [
    {
     "name": "stderr",
     "output_type": "stream",
     "text": [
      "Using TensorFlow backend.\n"
     ]
    }
   ],
   "source": [
    "import numpy as np\n",
    "\n",
    "from keras.models import *\n",
    "from keras import backend as K\n",
    "from keras.preprocessing.image import ImageDataGenerator\n",
    "\n",
    "from models.unet_se import *\n",
    "from models.unet import *\n",
    "\n",
    "from models.resnet_fcn import *\n",
    "from models.resnet_se_fcn import *\n",
    "\n",
    "from models.vgg19_fcn import *\n",
    "from models.vgg19_se_fcn import *\n",
    "\n",
    "from models.unet_upconv import *\n",
    "from models.unet_upconv_se import *\n",
    "\n",
    "from models.unet_resnet_se import *\n",
    "from models.unet_resnet_upconv_se import *\n",
    "\n",
    "from models.unet_upconv_bn import *\n",
    "\n",
    "from models.unet_attention import *\n",
    "from models.vgg19_attention import *\n",
    "from models.vgg19_fcn_upconv import *\n",
    "\n",
    "from models.unet_f_attention import *\n",
    "from models.unet_bn import *\n",
    "\n",
    "from models.unet_attention_bn import *\n",
    "\n",
    "from datahandler import DataHandler\n",
    "from data_loader import *\n",
    "from params import *\n",
    "import os\n",
    "import cv2\n",
    "import skimage.io as io\n",
    "from tqdm import tqdm\n",
    "\n",
    "from medpy.io import save\n",
    "\n",
    "from math import ceil, floor\n",
    "from matplotlib import pyplot as plt\n",
    "from sklearn.metrics import f1_score, jaccard_similarity_score\n",
    "\n",
    "from scipy.ndimage import _ni_support\n",
    "from scipy.ndimage.morphology import distance_transform_edt, binary_erosion,\\\n",
    "     generate_binary_structure\n",
    "\n",
    "from skimage.morphology import cube, binary_closing\n",
    "from skimage.measure import label\n",
    "\n",
    "import warnings\n",
    "warnings.filterwarnings(\"ignore\")\n",
    "\n",
    "plt.gray()"
   ]
  },
  {
   "cell_type": "code",
   "execution_count": 2,
   "metadata": {},
   "outputs": [],
   "source": [
    "def destiny_directory(model_name, dice_score, post_processing = False):\n",
    "    if post_processing:\n",
    "        pre = './data/eval_pp/'+model_name+'/'\n",
    "    else:\n",
    "        pre = './data/eval/'+model_name+'/'\n",
    "        \n",
    "    if dice_score >= 98:\n",
    "        return pre + 'dice_98_100/'\n",
    "    elif dice_score >= 96:\n",
    "        return pre + 'dice_96_98/'\n",
    "    elif dice_score >= 94:\n",
    "        return pre + 'dice_94_96/'\n",
    "    elif dice_score >= 92:\n",
    "        return pre + 'dice_92_94/'\n",
    "    elif dice_score >= 90:\n",
    "        return pre + 'dice_90_92/'\n",
    "    elif dice_score >= 88:\n",
    "        return pre + 'dice_88_90/'\n",
    "    elif dice_score >= 85:\n",
    "        return pre + 'dice_85_88'\n",
    "    elif dice_score >= 80:\n",
    "        return pre + 'dice_80_85/'\n",
    "    elif dice_score >= 70:\n",
    "        return pre + 'dice_70_80/'\n",
    "    elif dice_score >= 60:\n",
    "        return pre + 'dice_60_70/'\n",
    "    else:\n",
    "        return pre + 'dice_less_60'"
   ]
  },
  {
   "cell_type": "code",
   "execution_count": 3,
   "metadata": {},
   "outputs": [],
   "source": [
    "def getModel(name):\n",
    "    print('Working with %s'%name)\n",
    "    \n",
    "    if name == 'unet': # or name == 'unet_focal':\n",
    "        model = getUnet()\n",
    "    elif name == 'unet_se':\n",
    "        model = getSEUnet()\n",
    "        \n",
    "    elif name == 'unet_upconv':\n",
    "        model = getUnetUpconv()\n",
    "    elif name == 'unet_upconv_se':\n",
    "        model = getSEUnetUpconv()\n",
    "        \n",
    "    elif name == 'unet_upconv_bn':\n",
    "        model = getUnetUpconvBN()\n",
    "        \n",
    "    elif name == 'resnetFCN':\n",
    "        model = getResnet50FCN()\n",
    "    elif name == 'resnetSEFCN':\n",
    "        model = getResnetSE50FCN()\n",
    "        \n",
    "    elif name == 'vgg19FCN':\n",
    "        model = getVGG19FCN()\n",
    "    elif name == 'vgg19SEFCN':\n",
    "        model = getVGG19SEFCN()\n",
    "        \n",
    "    elif name == 'unet_resnet':\n",
    "        model = getUnetRes()\n",
    "    elif name == 'unet_resnet_se':\n",
    "        model = getUnetRes(se_version = True)\n",
    "        \n",
    "    elif name == 'unet_resnet_upconv':\n",
    "        model = getUnetResUpconv()\n",
    "    elif name == 'unet_resnet_upconv_se':\n",
    "        model = getUnetResUpconv(se_version = True)\n",
    "        \n",
    "    #todo\n",
    "    \n",
    "    elif name == 'unet_attention':\n",
    "        model = getAttentionUnet()\n",
    "    \n",
    "    elif name == 'unet_filter_attention':\n",
    "        model = getUnetFilterAttention()\n",
    "        \n",
    "    elif name == 'vgg19FCN_attention':\n",
    "        model = getVGG19Attention()\n",
    "\n",
    "    elif name == 'vgg19_fcn_upconv':\n",
    "        model = getVGG19FCN_upconv()\n",
    "        \n",
    "    elif name == 'unet_bn_bce_loss':\n",
    "        model = getUnetBN('BCE')\n",
    "\n",
    "    elif name == 'unet_bn_dice_loss':\n",
    "        model = getUnetBN('dice')\n",
    "\n",
    "    elif name == 'unet_bn_bce_dice_loss':\n",
    "        model = getUnetBN('BCE_DICE')\n",
    "     \n",
    "    #missing\n",
    "    elif name == 'unet_bn_focal_loss':\n",
    "        model = getUnetBN('focal')\n",
    "    \n",
    "    elif name == 'unet_attention_bn_dice_loss':\n",
    "        model = getAttentionUnetBN('dice')\n",
    "\n",
    "    elif name == 'unet_attention_bn_bce_dice_loss':\n",
    "        model = getAttentionUnetBN('BCE_DICE')\n",
    "\n",
    "        \n",
    "    else:\n",
    "        print('error')\n",
    "        return -1\n",
    "\n",
    "    return model\n"
   ]
  },
  {
   "cell_type": "code",
   "execution_count": 4,
   "metadata": {},
   "outputs": [],
   "source": [
    "def getGenerator(images, bs=1):\n",
    "    image_datagen = ImageDataGenerator(rescale=1./255)\n",
    "    image_datagen.fit(images, augment = True)\n",
    "    image_generator = image_datagen.flow(x = images, batch_size=bs,\n",
    "            shuffle = False)\n",
    "\n",
    "    return image_generator\n"
   ]
  },
  {
   "cell_type": "code",
   "execution_count": 5,
   "metadata": {},
   "outputs": [],
   "source": [
    "def getDiceScore(ground_truth, prediction):\n",
    "    #convert to boolean values and flatten\n",
    "    ground_truth = np.asarray(ground_truth, dtype=np.bool).flatten()\n",
    "    prediction = np.asarray(prediction, dtype=np.bool).flatten()    \n",
    "    return f1_score(ground_truth, prediction)\n"
   ]
  },
  {
   "cell_type": "code",
   "execution_count": 6,
   "metadata": {},
   "outputs": [],
   "source": [
    " def hd(result, reference, voxelspacing=None, connectivity=1):\n",
    "    hd1 = __surface_distances(result, reference, voxelspacing, connectivity).max()\n",
    "    hd2 = __surface_distances(reference, result, voxelspacing, connectivity).max()\n",
    "    hd = max(hd1, hd2)\n",
    "    return hd\n",
    "\n",
    "def hd95(result, reference, voxelspacing=None, connectivity=1):\n",
    "    hd1 = __surface_distances(result, reference, voxelspacing, connectivity)\n",
    "    hd2 = __surface_distances(reference, result, voxelspacing, connectivity)\n",
    "    hd95 = np.percentile(np.hstack((hd1, hd2)), 95)\n",
    "    return hd95\n",
    "\n",
    "def __surface_distances(result, reference, voxelspacing=None, connectivity=1):\n",
    "    result = np.atleast_1d(result.astype(np.bool))\n",
    "    reference = np.atleast_1d(reference.astype(np.bool))\n",
    "    if voxelspacing is not None:\n",
    "        voxelspacing = _ni_support._normalize_sequence(voxelspacing, result.ndim)\n",
    "        voxelspacing = np.asarray(voxelspacing, dtype=np.float64)\n",
    "        if not voxelspacing.flags.contiguous:\n",
    "            voxelspacing = voxelspacing.copy()\n",
    "\n",
    "    footprint = generate_binary_structure(result.ndim, connectivity)\n",
    "\n",
    "    if 0 == np.count_nonzero(result):\n",
    "        raise RuntimeError('The first supplied array does not contain any binary object.')\n",
    "    if 0 == np.count_nonzero(reference):\n",
    "        raise RuntimeError('The second supplied array does not contain any binary object.')\n",
    "\n",
    "    result_border = result ^ binary_erosion(result, structure=footprint, iterations=1)\n",
    "    reference_border = reference ^ binary_erosion(reference, structure=footprint, iterations=1)\n",
    "\n",
    "    dt = distance_transform_edt(~reference_border, sampling=voxelspacing)\n",
    "    sds = dt[result_border]\n",
    "\n",
    "    return sds"
   ]
  },
  {
   "cell_type": "code",
   "execution_count": 7,
   "metadata": {},
   "outputs": [
    {
     "name": "stdout",
     "output_type": "stream",
     "text": [
      "291\n",
      "291\n"
     ]
    }
   ],
   "source": [
    "image_files, mask_files = load_data_files('data/kfold_data/')\n",
    "print(len(image_files))\n",
    "print(len(mask_files))\n",
    "skf = getKFolds(image_files, mask_files, n=10)\n",
    "\n",
    "kfold_indices = []\n",
    "for train_index, val_index in skf.split(image_files, mask_files):\n",
    "    kfold_indices.append({'train': train_index, 'val': val_index})"
   ]
  },
  {
   "cell_type": "code",
   "execution_count": 8,
   "metadata": {},
   "outputs": [],
   "source": [
    "def predictMask(model, image):  \n",
    "    image_gen = getGenerator(image)\n",
    "    return model.predict_generator(image_gen, steps=len(image))"
   ]
  },
  {
   "cell_type": "code",
   "execution_count": null,
   "metadata": {},
   "outputs": [],
   "source": [
    "def prepareForSaving(image):\n",
    "    #image = np.swapaxes(image, -1, 0)\n",
    "    image = np.moveaxis(image, 0, -1)\n",
    "    \n",
    "    return image\n",
    "\n",
    "def predictAll(model, model_name, data, num_data=0, post_processing = False):\n",
    "    dice_scores = []\n",
    "    names = []\n",
    "    hd_scores = []\n",
    "    hd95_scores = []\n",
    "\n",
    "    for image_file, mask_file in tqdm(data, total=num_data):\n",
    "        \n",
    "        fname = image_file[image_file.rindex('/')+1 : image_file.rindex('.')]\n",
    "        image, hdr = dh.getImageData(image_file)\n",
    "        gt_mask, _ = dh.getImageData(mask_file, is_mask=True)\n",
    "        \n",
    "        assert image.shape == gt_mask.shape\n",
    "        \n",
    "        if image.shape[1] != 256:\n",
    "            continue\n",
    "        \n",
    "        pred_mask = predictMask(model, image)\n",
    "        pred_mask[pred_mask>=0.5] = 1\n",
    "        pred_mask[pred_mask<0.5] = 0\n",
    "                \n",
    "        pred_mask = np.squeeze(pred_mask)\n",
    "        \n",
    "        #closing and defrag squeze of mask\n",
    "        \n",
    "        if post_processing:\n",
    "            pred_mask = binary_closing(pred_mask, cube(2))\n",
    "\n",
    "            try:\n",
    "                labels = label(pred_mask)\n",
    "                pred_mask = (labels == np.argmax(np.bincount(labels.flat)[1:])+1).astype(int)\n",
    "            except:\n",
    "                pred_mask = pred_mask\n",
    "            \n",
    "            pred_mask = np.array(pred_mask, dtype=np.uint16)\n",
    "            \n",
    "        gt_mask = np.squeeze(gt_mask)\n",
    "        dice_score = getDiceScore(gt_mask, pred_mask)\n",
    "        \n",
    "        if dice_score == 0:\n",
    "            dice_scores.append(dice_score)\n",
    "            hd_scores.append(200)\n",
    "            hd95_scores.append(200) \n",
    "            names.append(fname)\n",
    "            save_path = destiny_directory(model_name, int_dice_score, \n",
    "                                          post_processing = post_processing)\n",
    "            pred_mask = prepareForSaving(pred_mask)\n",
    "            save(pred_mask, os.path.join(save_path, fname + '_' + model_name + '_' \n",
    "                + str(int_dice_score) + '.nii'), hdr)\n",
    "            \n",
    "            continue\n",
    "        \n",
    "        names.append(fname)\n",
    "        dice_scores.append(dice_score)\n",
    "        \n",
    "        hd_score = hd(gt_mask, pred_mask)\n",
    "        hd_scores.append(hd_score)\n",
    "        \n",
    "        hd95_score = hd95(gt_mask, pred_mask)\n",
    "        hd95_scores.append(hd95_score)\n",
    "        \n",
    "        int_dice_score = floor(dice_score * 100)\n",
    "        save_path = destiny_directory(model_name, int_dice_score, \n",
    "                                      post_processing = post_processing)\n",
    "        \n",
    "        pred_mask = prepareForSaving(pred_mask)\n",
    "        \n",
    "        '''image = prepareForSaving(image)\n",
    "        gt_mask = prepareForSaving(gt_mask)'''\n",
    "                    \n",
    "        save(pred_mask, os.path.join(save_path, fname + '_' + model_name + '_' \n",
    "            + str(int_dice_score) + '.nii'), hdr)\n",
    "        \n",
    "        '''save(image, os.path.join(save_path, fname + '_img.nii'), hdr)'''\n",
    "        '''save(gt_mask, os.path.join(save_path, fname + '_mask.nii'), hdr)'''\n",
    "\n",
    "    return dice_scores, hd_scores, hd95_scores, names"
   ]
  },
  {
   "cell_type": "code",
   "execution_count": null,
   "metadata": {
    "scrolled": true
   },
   "outputs": [
    {
     "name": "stdout",
     "output_type": "stream",
     "text": [
      "\n",
      "no pp\n",
      "Working with unet_attention\n",
      "loading weights from ./logs/unet_attention/kfold_unet_attention/kfold_unet_attention_dice_DA_K0/kfold_unet_attention_dice_DA_K0_weights.h5\n"
     ]
    },
    {
     "name": "stderr",
     "output_type": "stream",
     "text": [
      "100%|██████████| 30/30 [01:43<00:00,  3.22s/it]\n"
     ]
    },
    {
     "name": "stdout",
     "output_type": "stream",
     "text": [
      "Finished K0\n",
      "Working with unet_attention\n",
      "loading weights from ./logs/unet_attention/kfold_unet_attention/kfold_unet_attention_dice_DA_K1/kfold_unet_attention_dice_DA_K1_weights.h5\n"
     ]
    },
    {
     "name": "stderr",
     "output_type": "stream",
     "text": [
      "100%|██████████| 29/29 [01:46<00:00,  3.46s/it]\n"
     ]
    },
    {
     "name": "stdout",
     "output_type": "stream",
     "text": [
      "Finished K1\n",
      "Working with unet_attention\n",
      "loading weights from ./logs/unet_attention/kfold_unet_attention/kfold_unet_attention_dice_DA_K2/kfold_unet_attention_dice_DA_K2_weights.h5\n"
     ]
    },
    {
     "name": "stderr",
     "output_type": "stream",
     "text": [
      "100%|██████████| 29/29 [01:38<00:00,  3.01s/it]\n"
     ]
    },
    {
     "name": "stdout",
     "output_type": "stream",
     "text": [
      "Finished K2\n",
      "Working with unet_attention\n",
      "loading weights from ./logs/unet_attention/kfold_unet_attention/kfold_unet_attention_dice_DA_K3/kfold_unet_attention_dice_DA_K3_weights.h5\n"
     ]
    },
    {
     "name": "stderr",
     "output_type": "stream",
     "text": [
      "100%|██████████| 29/29 [01:39<00:00,  3.18s/it]\n"
     ]
    },
    {
     "name": "stdout",
     "output_type": "stream",
     "text": [
      "Finished K3\n",
      "Working with unet_attention\n",
      "loading weights from ./logs/unet_attention/kfold_unet_attention/kfold_unet_attention_dice_DA_K4/kfold_unet_attention_dice_DA_K4_weights.h5\n"
     ]
    },
    {
     "name": "stderr",
     "output_type": "stream",
     "text": [
      "100%|██████████| 29/29 [01:44<00:00,  3.34s/it]\n"
     ]
    },
    {
     "name": "stdout",
     "output_type": "stream",
     "text": [
      "Finished K4\n",
      "Working with unet_attention\n",
      "loading weights from ./logs/unet_attention/kfold_unet_attention/kfold_unet_attention_dice_DA_K5/kfold_unet_attention_dice_DA_K5_weights.h5\n"
     ]
    },
    {
     "name": "stderr",
     "output_type": "stream",
     "text": [
      "100%|██████████| 29/29 [01:33<00:00,  3.36s/it]\n"
     ]
    },
    {
     "name": "stdout",
     "output_type": "stream",
     "text": [
      "Finished K5\n",
      "Working with unet_attention\n",
      "loading weights from ./logs/unet_attention/kfold_unet_attention/kfold_unet_attention_dice_DA_K6/kfold_unet_attention_dice_DA_K6_weights.h5\n"
     ]
    },
    {
     "name": "stderr",
     "output_type": "stream",
     "text": [
      "100%|██████████| 29/29 [01:31<00:00,  3.15s/it]\n"
     ]
    },
    {
     "name": "stdout",
     "output_type": "stream",
     "text": [
      "Finished K6\n",
      "Working with unet_attention\n",
      "loading weights from ./logs/unet_attention/kfold_unet_attention/kfold_unet_attention_dice_DA_K7/kfold_unet_attention_dice_DA_K7_weights.h5\n"
     ]
    },
    {
     "name": "stderr",
     "output_type": "stream",
     "text": [
      "100%|██████████| 29/29 [01:44<00:00,  3.43s/it]\n"
     ]
    },
    {
     "name": "stdout",
     "output_type": "stream",
     "text": [
      "Finished K7\n",
      "Working with unet_attention\n",
      "loading weights from ./logs/unet_attention/kfold_unet_attention/kfold_unet_attention_dice_DA_K8/kfold_unet_attention_dice_DA_K8_weights.h5\n"
     ]
    },
    {
     "name": "stderr",
     "output_type": "stream",
     "text": [
      "100%|██████████| 29/29 [01:49<00:00,  4.48s/it]\n"
     ]
    },
    {
     "name": "stdout",
     "output_type": "stream",
     "text": [
      "Finished K8\n",
      "Working with unet_attention\n",
      "loading weights from ./logs/unet_attention/kfold_unet_attention/kfold_unet_attention_dice_DA_K9/kfold_unet_attention_dice_DA_K9_weights.h5\n"
     ]
    },
    {
     "name": "stderr",
     "output_type": "stream",
     "text": [
      "100%|██████████| 29/29 [01:36<00:00,  3.06s/it]\n"
     ]
    },
    {
     "name": "stdout",
     "output_type": "stream",
     "text": [
      "Finished K9\n",
      "\n",
      "no pp\n",
      "Working with unet_filter_attention\n",
      "loading weights from ./logs/unet_filter_attention/kfold_unet_filter_attention/kfold_unet_filter_attention_dice_DA_K0/kfold_unet_filter_attention_dice_DA_K0_weights.h5\n"
     ]
    },
    {
     "name": "stderr",
     "output_type": "stream",
     "text": [
      "100%|██████████| 30/30 [01:41<00:00,  3.17s/it]\n"
     ]
    },
    {
     "name": "stdout",
     "output_type": "stream",
     "text": [
      "Finished K0\n",
      "Working with unet_filter_attention\n",
      "loading weights from ./logs/unet_filter_attention/kfold_unet_filter_attention/kfold_unet_filter_attention_dice_DA_K1/kfold_unet_filter_attention_dice_DA_K1_weights.h5\n"
     ]
    },
    {
     "name": "stderr",
     "output_type": "stream",
     "text": [
      "100%|██████████| 29/29 [01:44<00:00,  3.41s/it]\n"
     ]
    },
    {
     "name": "stdout",
     "output_type": "stream",
     "text": [
      "Finished K1\n",
      "Working with unet_filter_attention\n"
     ]
    },
    {
     "name": "stderr",
     "output_type": "stream",
     "text": [
      "\r",
      "  0%|          | 0/29 [00:00<?, ?it/s]"
     ]
    },
    {
     "name": "stdout",
     "output_type": "stream",
     "text": [
      "loading weights from ./logs/unet_filter_attention/kfold_unet_filter_attention/kfold_unet_filter_attention_dice_DA_K2/kfold_unet_filter_attention_dice_DA_K2_weights.h5\n"
     ]
    },
    {
     "name": "stderr",
     "output_type": "stream",
     "text": [
      "100%|██████████| 29/29 [01:35<00:00,  2.98s/it]\n"
     ]
    },
    {
     "name": "stdout",
     "output_type": "stream",
     "text": [
      "Finished K2\n",
      "Working with unet_filter_attention\n"
     ]
    },
    {
     "name": "stderr",
     "output_type": "stream",
     "text": [
      "\r",
      "  0%|          | 0/29 [00:00<?, ?it/s]"
     ]
    },
    {
     "name": "stdout",
     "output_type": "stream",
     "text": [
      "loading weights from ./logs/unet_filter_attention/kfold_unet_filter_attention/kfold_unet_filter_attention_dice_DA_K3/kfold_unet_filter_attention_dice_DA_K3_weights.h5\n"
     ]
    },
    {
     "name": "stderr",
     "output_type": "stream",
     "text": [
      "100%|██████████| 29/29 [01:38<00:00,  3.19s/it]\n"
     ]
    },
    {
     "name": "stdout",
     "output_type": "stream",
     "text": [
      "Finished K3\n",
      "Working with unet_filter_attention\n"
     ]
    },
    {
     "name": "stderr",
     "output_type": "stream",
     "text": [
      "\r",
      "  0%|          | 0/29 [00:00<?, ?it/s]"
     ]
    },
    {
     "name": "stdout",
     "output_type": "stream",
     "text": [
      "loading weights from ./logs/unet_filter_attention/kfold_unet_filter_attention/kfold_unet_filter_attention_dice_DA_K4/kfold_unet_filter_attention_dice_DA_K4_weights.h5\n"
     ]
    },
    {
     "name": "stderr",
     "output_type": "stream",
     "text": [
      "100%|██████████| 29/29 [01:41<00:00,  3.27s/it]\n"
     ]
    },
    {
     "name": "stdout",
     "output_type": "stream",
     "text": [
      "Finished K4\n",
      "Working with unet_filter_attention\n",
      "loading weights from ./logs/unet_filter_attention/kfold_unet_filter_attention/kfold_unet_filter_attention_dice_DA_K5/kfold_unet_filter_attention_dice_DA_K5_weights.h5\n"
     ]
    },
    {
     "name": "stderr",
     "output_type": "stream",
     "text": [
      "100%|██████████| 29/29 [01:32<00:00,  3.34s/it]\n"
     ]
    },
    {
     "name": "stdout",
     "output_type": "stream",
     "text": [
      "Finished K5\n",
      "Working with unet_filter_attention\n",
      "loading weights from ./logs/unet_filter_attention/kfold_unet_filter_attention/kfold_unet_filter_attention_dice_DA_K6/kfold_unet_filter_attention_dice_DA_K6_weights.h5\n"
     ]
    },
    {
     "name": "stderr",
     "output_type": "stream",
     "text": [
      "100%|██████████| 29/29 [01:28<00:00,  3.11s/it]\n"
     ]
    },
    {
     "name": "stdout",
     "output_type": "stream",
     "text": [
      "Finished K6\n",
      "Working with unet_filter_attention\n"
     ]
    },
    {
     "name": "stderr",
     "output_type": "stream",
     "text": [
      "\r",
      "  0%|          | 0/29 [00:00<?, ?it/s]"
     ]
    },
    {
     "name": "stdout",
     "output_type": "stream",
     "text": [
      "loading weights from ./logs/unet_filter_attention/kfold_unet_filter_attention/kfold_unet_filter_attention_dice_DA_K7/kfold_unet_filter_attention_dice_DA_K7_weights.h5\n"
     ]
    },
    {
     "name": "stderr",
     "output_type": "stream",
     "text": [
      "100%|██████████| 29/29 [01:43<00:00,  3.43s/it]\n"
     ]
    },
    {
     "name": "stdout",
     "output_type": "stream",
     "text": [
      "Finished K7\n",
      "Working with unet_filter_attention\n"
     ]
    },
    {
     "name": "stderr",
     "output_type": "stream",
     "text": [
      "\r",
      "  0%|          | 0/29 [00:00<?, ?it/s]"
     ]
    },
    {
     "name": "stdout",
     "output_type": "stream",
     "text": [
      "loading weights from ./logs/unet_filter_attention/kfold_unet_filter_attention/kfold_unet_filter_attention_dice_DA_K8/kfold_unet_filter_attention_dice_DA_K8_weights.h5\n"
     ]
    },
    {
     "name": "stderr",
     "output_type": "stream",
     "text": [
      "100%|██████████| 29/29 [01:49<00:00,  4.54s/it]\n"
     ]
    },
    {
     "name": "stdout",
     "output_type": "stream",
     "text": [
      "Finished K8\n",
      "Working with unet_filter_attention\n",
      "loading weights from ./logs/unet_filter_attention/kfold_unet_filter_attention/kfold_unet_filter_attention_dice_DA_K9/kfold_unet_filter_attention_dice_DA_K9_weights.h5\n"
     ]
    },
    {
     "name": "stderr",
     "output_type": "stream",
     "text": [
      "100%|██████████| 29/29 [01:35<00:00,  2.94s/it]\n"
     ]
    },
    {
     "name": "stdout",
     "output_type": "stream",
     "text": [
      "Finished K9\n",
      "\n",
      "no pp\n",
      "Working with vgg19FCN_attention\n",
      "loading weights from ./logs/vgg19FCN_attention/kfold_vgg19FCN_attention/kfold_vgg19FCN_attention_dice_DA_K0/kfold_vgg19FCN_attention_dice_DA_K0_weights.h5\n"
     ]
    },
    {
     "name": "stderr",
     "output_type": "stream",
     "text": [
      "100%|██████████| 30/30 [01:42<00:00,  3.19s/it]\n"
     ]
    },
    {
     "name": "stdout",
     "output_type": "stream",
     "text": [
      "Finished K0\n",
      "Working with vgg19FCN_attention\n",
      "loading weights from ./logs/vgg19FCN_attention/kfold_vgg19FCN_attention/kfold_vgg19FCN_attention_dice_DA_K1/kfold_vgg19FCN_attention_dice_DA_K1_weights.h5\n"
     ]
    },
    {
     "name": "stderr",
     "output_type": "stream",
     "text": [
      "100%|██████████| 29/29 [01:45<00:00,  3.51s/it]\n"
     ]
    },
    {
     "name": "stdout",
     "output_type": "stream",
     "text": [
      "Finished K1\n",
      "Working with vgg19FCN_attention\n",
      "loading weights from ./logs/vgg19FCN_attention/kfold_vgg19FCN_attention/kfold_vgg19FCN_attention_dice_DA_K2/kfold_vgg19FCN_attention_dice_DA_K2_weights.h5\n"
     ]
    },
    {
     "name": "stderr",
     "output_type": "stream",
     "text": [
      "100%|██████████| 29/29 [01:37<00:00,  3.07s/it]\n"
     ]
    },
    {
     "name": "stdout",
     "output_type": "stream",
     "text": [
      "Finished K2\n",
      "Working with vgg19FCN_attention\n",
      "loading weights from ./logs/vgg19FCN_attention/kfold_vgg19FCN_attention/kfold_vgg19FCN_attention_dice_DA_K3/kfold_vgg19FCN_attention_dice_DA_K3_weights.h5\n"
     ]
    },
    {
     "name": "stderr",
     "output_type": "stream",
     "text": [
      "100%|██████████| 29/29 [01:40<00:00,  3.20s/it]\n"
     ]
    },
    {
     "name": "stdout",
     "output_type": "stream",
     "text": [
      "Finished K3\n",
      "Working with vgg19FCN_attention\n",
      "loading weights from ./logs/vgg19FCN_attention/kfold_vgg19FCN_attention/kfold_vgg19FCN_attention_dice_DA_K4/kfold_vgg19FCN_attention_dice_DA_K4_weights.h5\n"
     ]
    },
    {
     "name": "stderr",
     "output_type": "stream",
     "text": [
      "100%|██████████| 29/29 [01:43<00:00,  3.35s/it]\n"
     ]
    },
    {
     "name": "stdout",
     "output_type": "stream",
     "text": [
      "Finished K4\n",
      "Working with vgg19FCN_attention\n",
      "loading weights from ./logs/vgg19FCN_attention/kfold_vgg19FCN_attention/kfold_vgg19FCN_attention_dice_DA_K5/kfold_vgg19FCN_attention_dice_DA_K5_weights.h5\n"
     ]
    },
    {
     "name": "stderr",
     "output_type": "stream",
     "text": [
      "100%|██████████| 29/29 [01:33<00:00,  3.42s/it]\n"
     ]
    },
    {
     "name": "stdout",
     "output_type": "stream",
     "text": [
      "Finished K5\n",
      "Working with vgg19FCN_attention\n",
      "loading weights from ./logs/vgg19FCN_attention/kfold_vgg19FCN_attention/kfold_vgg19FCN_attention_dice_DA_K6/kfold_vgg19FCN_attention_dice_DA_K6_weights.h5\n"
     ]
    },
    {
     "name": "stderr",
     "output_type": "stream",
     "text": [
      "100%|██████████| 29/29 [01:32<00:00,  3.15s/it]\n"
     ]
    },
    {
     "name": "stdout",
     "output_type": "stream",
     "text": [
      "Finished K6\n",
      "Working with vgg19FCN_attention\n",
      "loading weights from ./logs/vgg19FCN_attention/kfold_vgg19FCN_attention/kfold_vgg19FCN_attention_dice_DA_K7/kfold_vgg19FCN_attention_dice_DA_K7_weights.h5\n"
     ]
    },
    {
     "name": "stderr",
     "output_type": "stream",
     "text": [
      "100%|██████████| 29/29 [01:45<00:00,  3.42s/it]\n"
     ]
    },
    {
     "name": "stdout",
     "output_type": "stream",
     "text": [
      "Finished K7\n",
      "Working with vgg19FCN_attention\n",
      "loading weights from ./logs/vgg19FCN_attention/kfold_vgg19FCN_attention/kfold_vgg19FCN_attention_dice_DA_K8/kfold_vgg19FCN_attention_dice_DA_K8_weights.h5\n"
     ]
    },
    {
     "name": "stderr",
     "output_type": "stream",
     "text": [
      "100%|██████████| 29/29 [01:54<00:00,  4.64s/it]\n"
     ]
    },
    {
     "name": "stdout",
     "output_type": "stream",
     "text": [
      "Finished K8\n",
      "Working with vgg19FCN_attention\n",
      "loading weights from ./logs/vgg19FCN_attention/kfold_vgg19FCN_attention/kfold_vgg19FCN_attention_dice_DA_K9/kfold_vgg19FCN_attention_dice_DA_K9_weights.h5\n"
     ]
    },
    {
     "name": "stderr",
     "output_type": "stream",
     "text": [
      "100%|██████████| 29/29 [01:42<00:00,  3.18s/it]\n"
     ]
    },
    {
     "name": "stdout",
     "output_type": "stream",
     "text": [
      "Finished K9\n",
      "\n",
      "no pp\n",
      "Working with vgg19_fcn_upconv\n",
      "loading weights from ./logs/vgg19_fcn_upconv/kfold_vgg19_fcn_upconv/kfold_vgg19_fcn_upconv_dice_DA_K0/kfold_vgg19_fcn_upconv_dice_DA_K0_weights.h5\n"
     ]
    },
    {
     "name": "stderr",
     "output_type": "stream",
     "text": [
      "100%|██████████| 30/30 [01:44<00:00,  3.25s/it]\n"
     ]
    },
    {
     "name": "stdout",
     "output_type": "stream",
     "text": [
      "Finished K0\n",
      "Working with vgg19_fcn_upconv\n",
      "loading weights from ./logs/vgg19_fcn_upconv/kfold_vgg19_fcn_upconv/kfold_vgg19_fcn_upconv_dice_DA_K1/kfold_vgg19_fcn_upconv_dice_DA_K1_weights.h5\n"
     ]
    },
    {
     "name": "stderr",
     "output_type": "stream",
     "text": [
      "100%|██████████| 29/29 [01:48<00:00,  3.54s/it]\n"
     ]
    },
    {
     "name": "stdout",
     "output_type": "stream",
     "text": [
      "Finished K1\n",
      "Working with vgg19_fcn_upconv\n",
      "loading weights from ./logs/vgg19_fcn_upconv/kfold_vgg19_fcn_upconv/kfold_vgg19_fcn_upconv_dice_DA_K2/kfold_vgg19_fcn_upconv_dice_DA_K2_weights.h5\n"
     ]
    },
    {
     "name": "stderr",
     "output_type": "stream",
     "text": [
      "100%|██████████| 29/29 [01:38<00:00,  3.07s/it]\n"
     ]
    },
    {
     "name": "stdout",
     "output_type": "stream",
     "text": [
      "Finished K2\n",
      "Working with vgg19_fcn_upconv\n",
      "loading weights from ./logs/vgg19_fcn_upconv/kfold_vgg19_fcn_upconv/kfold_vgg19_fcn_upconv_dice_DA_K3/kfold_vgg19_fcn_upconv_dice_DA_K3_weights.h5\n"
     ]
    },
    {
     "name": "stderr",
     "output_type": "stream",
     "text": [
      "100%|██████████| 29/29 [01:41<00:00,  3.25s/it]\n"
     ]
    },
    {
     "name": "stdout",
     "output_type": "stream",
     "text": [
      "Finished K3\n",
      "Working with vgg19_fcn_upconv\n",
      "loading weights from ./logs/vgg19_fcn_upconv/kfold_vgg19_fcn_upconv/kfold_vgg19_fcn_upconv_dice_DA_K4/kfold_vgg19_fcn_upconv_dice_DA_K4_weights.h5\n"
     ]
    },
    {
     "name": "stderr",
     "output_type": "stream",
     "text": [
      "100%|██████████| 29/29 [01:43<00:00,  3.31s/it]\n"
     ]
    },
    {
     "name": "stdout",
     "output_type": "stream",
     "text": [
      "Finished K4\n",
      "Working with vgg19_fcn_upconv\n",
      "loading weights from ./logs/vgg19_fcn_upconv/kfold_vgg19_fcn_upconv/kfold_vgg19_fcn_upconv_dice_DA_K5/kfold_vgg19_fcn_upconv_dice_DA_K5_weights.h5\n"
     ]
    },
    {
     "name": "stderr",
     "output_type": "stream",
     "text": [
      "100%|██████████| 29/29 [01:33<00:00,  3.43s/it]\n"
     ]
    },
    {
     "name": "stdout",
     "output_type": "stream",
     "text": [
      "Finished K5\n",
      "Working with vgg19_fcn_upconv\n",
      "loading weights from ./logs/vgg19_fcn_upconv/kfold_vgg19_fcn_upconv/kfold_vgg19_fcn_upconv_dice_DA_K6/kfold_vgg19_fcn_upconv_dice_DA_K6_weights.h5\n"
     ]
    },
    {
     "name": "stderr",
     "output_type": "stream",
     "text": [
      "100%|██████████| 29/29 [01:33<00:00,  3.22s/it]\n"
     ]
    },
    {
     "name": "stdout",
     "output_type": "stream",
     "text": [
      "Finished K6\n",
      "Working with vgg19_fcn_upconv\n",
      "loading weights from ./logs/vgg19_fcn_upconv/kfold_vgg19_fcn_upconv/kfold_vgg19_fcn_upconv_dice_DA_K7/kfold_vgg19_fcn_upconv_dice_DA_K7_weights.h5\n"
     ]
    },
    {
     "name": "stderr",
     "output_type": "stream",
     "text": [
      "100%|██████████| 29/29 [01:46<00:00,  3.48s/it]\n"
     ]
    },
    {
     "name": "stdout",
     "output_type": "stream",
     "text": [
      "Finished K7\n",
      "Working with vgg19_fcn_upconv\n",
      "loading weights from ./logs/vgg19_fcn_upconv/kfold_vgg19_fcn_upconv/kfold_vgg19_fcn_upconv_dice_DA_K8/kfold_vgg19_fcn_upconv_dice_DA_K8_weights.h5\n"
     ]
    },
    {
     "name": "stderr",
     "output_type": "stream",
     "text": [
      "100%|██████████| 29/29 [01:50<00:00,  4.56s/it]\n"
     ]
    },
    {
     "name": "stdout",
     "output_type": "stream",
     "text": [
      "Finished K8\n",
      "Working with vgg19_fcn_upconv\n",
      "loading weights from ./logs/vgg19_fcn_upconv/kfold_vgg19_fcn_upconv/kfold_vgg19_fcn_upconv_dice_DA_K9/kfold_vgg19_fcn_upconv_dice_DA_K9_weights.h5\n"
     ]
    },
    {
     "name": "stderr",
     "output_type": "stream",
     "text": [
      "100%|██████████| 29/29 [01:36<00:00,  3.07s/it]\n"
     ]
    },
    {
     "name": "stdout",
     "output_type": "stream",
     "text": [
      "Finished K9\n",
      "\n",
      "no pp\n",
      "Working with unet_bn_bce_loss\n",
      "BCE\n",
      "loading weights from ./logs/unet_bn_bce_loss/kfold_unet_bn_bce_loss/kfold_unet_bn_bce_loss_dice_DA_K0/kfold_unet_bn_bce_loss_dice_DA_K0_weights.h5\n"
     ]
    },
    {
     "name": "stderr",
     "output_type": "stream",
     "text": [
      "100%|██████████| 30/30 [01:41<00:00,  3.09s/it]\n"
     ]
    },
    {
     "name": "stdout",
     "output_type": "stream",
     "text": [
      "Finished K0\n",
      "Working with unet_bn_bce_loss\n",
      "BCE\n",
      "loading weights from ./logs/unet_bn_bce_loss/kfold_unet_bn_bce_loss/kfold_unet_bn_bce_loss_dice_DA_K1/kfold_unet_bn_bce_loss_dice_DA_K1_weights.h5\n"
     ]
    },
    {
     "name": "stderr",
     "output_type": "stream",
     "text": [
      "100%|██████████| 29/29 [01:42<00:00,  3.40s/it]\n"
     ]
    },
    {
     "name": "stdout",
     "output_type": "stream",
     "text": [
      "Finished K1\n",
      "Working with unet_bn_bce_loss\n",
      "BCE\n",
      "loading weights from ./logs/unet_bn_bce_loss/kfold_unet_bn_bce_loss/kfold_unet_bn_bce_loss_dice_DA_K2/kfold_unet_bn_bce_loss_dice_DA_K2_weights.h5\n"
     ]
    },
    {
     "name": "stderr",
     "output_type": "stream",
     "text": [
      "100%|██████████| 29/29 [01:36<00:00,  3.03s/it]\n"
     ]
    },
    {
     "name": "stdout",
     "output_type": "stream",
     "text": [
      "Finished K2\n",
      "Working with unet_bn_bce_loss\n",
      "BCE\n",
      "loading weights from ./logs/unet_bn_bce_loss/kfold_unet_bn_bce_loss/kfold_unet_bn_bce_loss_dice_DA_K3/kfold_unet_bn_bce_loss_dice_DA_K3_weights.h5\n"
     ]
    },
    {
     "name": "stderr",
     "output_type": "stream",
     "text": [
      "100%|██████████| 29/29 [01:37<00:00,  3.12s/it]\n"
     ]
    },
    {
     "name": "stdout",
     "output_type": "stream",
     "text": [
      "Finished K3\n",
      "Working with unet_bn_bce_loss\n",
      "BCE\n",
      "loading weights from ./logs/unet_bn_bce_loss/kfold_unet_bn_bce_loss/kfold_unet_bn_bce_loss_dice_DA_K4/kfold_unet_bn_bce_loss_dice_DA_K4_weights.h5\n"
     ]
    },
    {
     "name": "stderr",
     "output_type": "stream",
     "text": [
      "100%|██████████| 29/29 [01:41<00:00,  3.27s/it]\n"
     ]
    },
    {
     "name": "stdout",
     "output_type": "stream",
     "text": [
      "Finished K4\n",
      "Working with unet_bn_bce_loss\n",
      "BCE\n",
      "loading weights from ./logs/unet_bn_bce_loss/kfold_unet_bn_bce_loss/kfold_unet_bn_bce_loss_dice_DA_K5/kfold_unet_bn_bce_loss_dice_DA_K5_weights.h5\n"
     ]
    },
    {
     "name": "stderr",
     "output_type": "stream",
     "text": [
      "100%|██████████| 29/29 [01:32<00:00,  3.36s/it]\n"
     ]
    },
    {
     "name": "stdout",
     "output_type": "stream",
     "text": [
      "Finished K5\n",
      "Working with unet_bn_bce_loss\n",
      "BCE\n",
      "loading weights from ./logs/unet_bn_bce_loss/kfold_unet_bn_bce_loss/kfold_unet_bn_bce_loss_dice_DA_K6/kfold_unet_bn_bce_loss_dice_DA_K6_weights.h5\n"
     ]
    },
    {
     "name": "stderr",
     "output_type": "stream",
     "text": [
      "100%|██████████| 29/29 [01:31<00:00,  3.17s/it]\n"
     ]
    },
    {
     "name": "stdout",
     "output_type": "stream",
     "text": [
      "Finished K6\n",
      "Working with unet_bn_bce_loss\n",
      "BCE\n",
      "loading weights from ./logs/unet_bn_bce_loss/kfold_unet_bn_bce_loss/kfold_unet_bn_bce_loss_dice_DA_K7/kfold_unet_bn_bce_loss_dice_DA_K7_weights.h5\n"
     ]
    },
    {
     "name": "stderr",
     "output_type": "stream",
     "text": [
      "100%|██████████| 29/29 [01:45<00:00,  3.40s/it]\n"
     ]
    },
    {
     "name": "stdout",
     "output_type": "stream",
     "text": [
      "Finished K7\n",
      "Working with unet_bn_bce_loss\n",
      "BCE\n",
      "loading weights from ./logs/unet_bn_bce_loss/kfold_unet_bn_bce_loss/kfold_unet_bn_bce_loss_dice_DA_K8/kfold_unet_bn_bce_loss_dice_DA_K8_weights.h5\n"
     ]
    },
    {
     "name": "stderr",
     "output_type": "stream",
     "text": [
      "100%|██████████| 29/29 [01:48<00:00,  4.47s/it]\n"
     ]
    },
    {
     "name": "stdout",
     "output_type": "stream",
     "text": [
      "Finished K8\n",
      "Working with unet_bn_bce_loss\n",
      "BCE\n",
      "loading weights from ./logs/unet_bn_bce_loss/kfold_unet_bn_bce_loss/kfold_unet_bn_bce_loss_dice_DA_K9/kfold_unet_bn_bce_loss_dice_DA_K9_weights.h5\n"
     ]
    },
    {
     "name": "stderr",
     "output_type": "stream",
     "text": [
      "100%|██████████| 29/29 [01:34<00:00,  2.93s/it]\n"
     ]
    },
    {
     "name": "stdout",
     "output_type": "stream",
     "text": [
      "Finished K9\n",
      "\n",
      "no pp\n",
      "Working with unet_bn_dice_loss\n",
      "dice\n",
      "loading weights from ./logs/unet_bn_dice_loss/kfold_unet_bn_dice_loss/kfold_unet_bn_dice_loss_dice_DA_K0/kfold_unet_bn_dice_loss_dice_DA_K0_weights.h5\n"
     ]
    },
    {
     "name": "stderr",
     "output_type": "stream",
     "text": [
      "100%|██████████| 30/30 [01:40<00:00,  3.12s/it]\n"
     ]
    },
    {
     "name": "stdout",
     "output_type": "stream",
     "text": [
      "Finished K0\n",
      "Working with unet_bn_dice_loss\n",
      "dice\n",
      "loading weights from ./logs/unet_bn_dice_loss/kfold_unet_bn_dice_loss/kfold_unet_bn_dice_loss_dice_DA_K1/kfold_unet_bn_dice_loss_dice_DA_K1_weights.h5\n"
     ]
    },
    {
     "name": "stderr",
     "output_type": "stream",
     "text": [
      "100%|██████████| 29/29 [01:46<00:00,  3.59s/it]\n"
     ]
    },
    {
     "name": "stdout",
     "output_type": "stream",
     "text": [
      "Finished K1\n",
      "Working with unet_bn_dice_loss\n",
      "dice\n",
      "loading weights from ./logs/unet_bn_dice_loss/kfold_unet_bn_dice_loss/kfold_unet_bn_dice_loss_dice_DA_K2/kfold_unet_bn_dice_loss_dice_DA_K2_weights.h5\n"
     ]
    },
    {
     "name": "stderr",
     "output_type": "stream",
     "text": [
      "100%|██████████| 29/29 [01:38<00:00,  3.11s/it]\n"
     ]
    },
    {
     "name": "stdout",
     "output_type": "stream",
     "text": [
      "Finished K2\n",
      "Working with unet_bn_dice_loss\n",
      "dice\n",
      "loading weights from ./logs/unet_bn_dice_loss/kfold_unet_bn_dice_loss/kfold_unet_bn_dice_loss_dice_DA_K3/kfold_unet_bn_dice_loss_dice_DA_K3_weights.h5\n"
     ]
    },
    {
     "name": "stderr",
     "output_type": "stream",
     "text": [
      "100%|██████████| 29/29 [01:41<00:00,  3.24s/it]\n"
     ]
    },
    {
     "name": "stdout",
     "output_type": "stream",
     "text": [
      "Finished K3\n",
      "Working with unet_bn_dice_loss\n",
      "dice\n",
      "loading weights from ./logs/unet_bn_dice_loss/kfold_unet_bn_dice_loss/kfold_unet_bn_dice_loss_dice_DA_K4/kfold_unet_bn_dice_loss_dice_DA_K4_weights.h5\n"
     ]
    },
    {
     "name": "stderr",
     "output_type": "stream",
     "text": [
      "100%|██████████| 29/29 [01:43<00:00,  3.28s/it]\n"
     ]
    },
    {
     "name": "stdout",
     "output_type": "stream",
     "text": [
      "Finished K4\n",
      "Working with unet_bn_dice_loss\n",
      "dice\n",
      "loading weights from ./logs/unet_bn_dice_loss/kfold_unet_bn_dice_loss/kfold_unet_bn_dice_loss_dice_DA_K5/kfold_unet_bn_dice_loss_dice_DA_K5_weights.h5\n"
     ]
    },
    {
     "name": "stderr",
     "output_type": "stream",
     "text": [
      "100%|██████████| 29/29 [01:33<00:00,  3.40s/it]\n"
     ]
    },
    {
     "name": "stdout",
     "output_type": "stream",
     "text": [
      "Finished K5\n",
      "Working with unet_bn_dice_loss\n",
      "dice\n",
      "loading weights from ./logs/unet_bn_dice_loss/kfold_unet_bn_dice_loss/kfold_unet_bn_dice_loss_dice_DA_K6/kfold_unet_bn_dice_loss_dice_DA_K6_weights.h5\n"
     ]
    },
    {
     "name": "stderr",
     "output_type": "stream",
     "text": [
      "100%|██████████| 29/29 [01:31<00:00,  3.15s/it]\n"
     ]
    },
    {
     "name": "stdout",
     "output_type": "stream",
     "text": [
      "Finished K6\n",
      "Working with unet_bn_dice_loss\n",
      "dice\n",
      "loading weights from ./logs/unet_bn_dice_loss/kfold_unet_bn_dice_loss/kfold_unet_bn_dice_loss_dice_DA_K7/kfold_unet_bn_dice_loss_dice_DA_K7_weights.h5\n"
     ]
    },
    {
     "name": "stderr",
     "output_type": "stream",
     "text": [
      "100%|██████████| 29/29 [01:44<00:00,  3.38s/it]\n"
     ]
    },
    {
     "name": "stdout",
     "output_type": "stream",
     "text": [
      "Finished K7\n",
      "Working with unet_bn_dice_loss\n",
      "dice\n",
      "loading weights from ./logs/unet_bn_dice_loss/kfold_unet_bn_dice_loss/kfold_unet_bn_dice_loss_dice_DA_K8/kfold_unet_bn_dice_loss_dice_DA_K8_weights.h5\n"
     ]
    },
    {
     "name": "stderr",
     "output_type": "stream",
     "text": [
      "100%|██████████| 29/29 [01:48<00:00,  4.49s/it]\n"
     ]
    },
    {
     "name": "stdout",
     "output_type": "stream",
     "text": [
      "Finished K8\n",
      "Working with unet_bn_dice_loss\n",
      "dice\n",
      "loading weights from ./logs/unet_bn_dice_loss/kfold_unet_bn_dice_loss/kfold_unet_bn_dice_loss_dice_DA_K9/kfold_unet_bn_dice_loss_dice_DA_K9_weights.h5\n"
     ]
    },
    {
     "name": "stderr",
     "output_type": "stream",
     "text": [
      "100%|██████████| 29/29 [01:36<00:00,  3.02s/it]\n"
     ]
    },
    {
     "name": "stdout",
     "output_type": "stream",
     "text": [
      "Finished K9\n",
      "\n",
      "no pp\n",
      "Working with unet_bn_bce_dice_loss\n",
      "BCE_DICE\n",
      "loading weights from ./logs/unet_bn_bce_dice_loss/kfold_unet_bn_bce_dice_loss/kfold_unet_bn_bce_dice_loss_dice_DA_K0/kfold_unet_bn_bce_dice_loss_dice_DA_K0_weights.h5\n"
     ]
    },
    {
     "name": "stderr",
     "output_type": "stream",
     "text": [
      "100%|██████████| 30/30 [01:41<00:00,  3.12s/it]\n"
     ]
    },
    {
     "name": "stdout",
     "output_type": "stream",
     "text": [
      "Finished K0\n",
      "Working with unet_bn_bce_dice_loss\n",
      "BCE_DICE\n",
      "loading weights from ./logs/unet_bn_bce_dice_loss/kfold_unet_bn_bce_dice_loss/kfold_unet_bn_bce_dice_loss_dice_DA_K1/kfold_unet_bn_bce_dice_loss_dice_DA_K1_weights.h5\n"
     ]
    },
    {
     "name": "stderr",
     "output_type": "stream",
     "text": [
      "100%|██████████| 29/29 [01:43<00:00,  3.41s/it]\n"
     ]
    },
    {
     "name": "stdout",
     "output_type": "stream",
     "text": [
      "Finished K1\n",
      "Working with unet_bn_bce_dice_loss\n",
      "BCE_DICE\n",
      "loading weights from ./logs/unet_bn_bce_dice_loss/kfold_unet_bn_bce_dice_loss/kfold_unet_bn_bce_dice_loss_dice_DA_K2/kfold_unet_bn_bce_dice_loss_dice_DA_K2_weights.h5\n"
     ]
    },
    {
     "name": "stderr",
     "output_type": "stream",
     "text": [
      "100%|██████████| 29/29 [01:36<00:00,  2.95s/it]\n"
     ]
    },
    {
     "name": "stdout",
     "output_type": "stream",
     "text": [
      "Finished K2\n",
      "Working with unet_bn_bce_dice_loss\n",
      "BCE_DICE\n",
      "loading weights from ./logs/unet_bn_bce_dice_loss/kfold_unet_bn_bce_dice_loss/kfold_unet_bn_bce_dice_loss_dice_DA_K3/kfold_unet_bn_bce_dice_loss_dice_DA_K3_weights.h5\n"
     ]
    },
    {
     "name": "stderr",
     "output_type": "stream",
     "text": [
      "100%|██████████| 29/29 [01:38<00:00,  3.15s/it]\n"
     ]
    },
    {
     "name": "stdout",
     "output_type": "stream",
     "text": [
      "Finished K3\n",
      "Working with unet_bn_bce_dice_loss\n",
      "BCE_DICE\n",
      "loading weights from ./logs/unet_bn_bce_dice_loss/kfold_unet_bn_bce_dice_loss/kfold_unet_bn_bce_dice_loss_dice_DA_K4/kfold_unet_bn_bce_dice_loss_dice_DA_K4_weights.h5\n"
     ]
    },
    {
     "name": "stderr",
     "output_type": "stream",
     "text": [
      "100%|██████████| 29/29 [01:41<00:00,  3.34s/it]\n"
     ]
    },
    {
     "name": "stdout",
     "output_type": "stream",
     "text": [
      "Finished K4\n",
      "Working with unet_bn_bce_dice_loss\n",
      "BCE_DICE\n",
      "loading weights from ./logs/unet_bn_bce_dice_loss/kfold_unet_bn_bce_dice_loss/kfold_unet_bn_bce_dice_loss_dice_DA_K5/kfold_unet_bn_bce_dice_loss_dice_DA_K5_weights.h5\n"
     ]
    },
    {
     "name": "stderr",
     "output_type": "stream",
     "text": [
      "100%|██████████| 29/29 [01:30<00:00,  3.29s/it]\n"
     ]
    },
    {
     "name": "stdout",
     "output_type": "stream",
     "text": [
      "Finished K5\n",
      "Working with unet_bn_bce_dice_loss\n",
      "BCE_DICE\n",
      "loading weights from ./logs/unet_bn_bce_dice_loss/kfold_unet_bn_bce_dice_loss/kfold_unet_bn_bce_dice_loss_dice_DA_K6/kfold_unet_bn_bce_dice_loss_dice_DA_K6_weights.h5\n"
     ]
    },
    {
     "name": "stderr",
     "output_type": "stream",
     "text": [
      "100%|██████████| 29/29 [01:31<00:00,  3.11s/it]\n"
     ]
    },
    {
     "name": "stdout",
     "output_type": "stream",
     "text": [
      "Finished K6\n",
      "Working with unet_bn_bce_dice_loss\n",
      "BCE_DICE\n",
      "loading weights from ./logs/unet_bn_bce_dice_loss/kfold_unet_bn_bce_dice_loss/kfold_unet_bn_bce_dice_loss_dice_DA_K7/kfold_unet_bn_bce_dice_loss_dice_DA_K7_weights.h5\n"
     ]
    },
    {
     "name": "stderr",
     "output_type": "stream",
     "text": [
      "100%|██████████| 29/29 [01:43<00:00,  3.40s/it]\n"
     ]
    },
    {
     "name": "stdout",
     "output_type": "stream",
     "text": [
      "Finished K7\n",
      "Working with unet_bn_bce_dice_loss\n",
      "BCE_DICE\n",
      "loading weights from ./logs/unet_bn_bce_dice_loss/kfold_unet_bn_bce_dice_loss/kfold_unet_bn_bce_dice_loss_dice_DA_K8/kfold_unet_bn_bce_dice_loss_dice_DA_K8_weights.h5\n"
     ]
    },
    {
     "name": "stderr",
     "output_type": "stream",
     "text": [
      "100%|██████████| 29/29 [01:47<00:00,  4.46s/it]\n"
     ]
    },
    {
     "name": "stdout",
     "output_type": "stream",
     "text": [
      "Finished K8\n",
      "Working with unet_bn_bce_dice_loss\n",
      "BCE_DICE\n",
      "loading weights from ./logs/unet_bn_bce_dice_loss/kfold_unet_bn_bce_dice_loss/kfold_unet_bn_bce_dice_loss_dice_DA_K9/kfold_unet_bn_bce_dice_loss_dice_DA_K9_weights.h5\n"
     ]
    },
    {
     "name": "stderr",
     "output_type": "stream",
     "text": [
      "100%|██████████| 29/29 [01:34<00:00,  2.99s/it]\n"
     ]
    },
    {
     "name": "stdout",
     "output_type": "stream",
     "text": [
      "Finished K9\n",
      "\n",
      "pp\n",
      "Working with unet_attention\n",
      "loading weights from ./logs/unet_attention/kfold_unet_attention/kfold_unet_attention_dice_DA_K0/kfold_unet_attention_dice_DA_K0_weights.h5\n"
     ]
    },
    {
     "name": "stderr",
     "output_type": "stream",
     "text": [
      "100%|██████████| 30/30 [01:43<00:00,  3.24s/it]\n"
     ]
    },
    {
     "name": "stdout",
     "output_type": "stream",
     "text": [
      "Finished K0\n",
      "Working with unet_attention\n",
      "loading weights from ./logs/unet_attention/kfold_unet_attention/kfold_unet_attention_dice_DA_K1/kfold_unet_attention_dice_DA_K1_weights.h5\n"
     ]
    },
    {
     "name": "stderr",
     "output_type": "stream",
     "text": [
      "100%|██████████| 29/29 [01:47<00:00,  3.55s/it]\n"
     ]
    },
    {
     "name": "stdout",
     "output_type": "stream",
     "text": [
      "Finished K1\n",
      "Working with unet_attention\n",
      "loading weights from ./logs/unet_attention/kfold_unet_attention/kfold_unet_attention_dice_DA_K2/kfold_unet_attention_dice_DA_K2_weights.h5\n"
     ]
    },
    {
     "name": "stderr",
     "output_type": "stream",
     "text": [
      "100%|██████████| 29/29 [01:37<00:00,  2.97s/it]\n"
     ]
    },
    {
     "name": "stdout",
     "output_type": "stream",
     "text": [
      "Finished K2\n",
      "Working with unet_attention\n",
      "loading weights from ./logs/unet_attention/kfold_unet_attention/kfold_unet_attention_dice_DA_K3/kfold_unet_attention_dice_DA_K3_weights.h5\n"
     ]
    },
    {
     "name": "stderr",
     "output_type": "stream",
     "text": [
      "100%|██████████| 29/29 [01:40<00:00,  3.29s/it]\n"
     ]
    },
    {
     "name": "stdout",
     "output_type": "stream",
     "text": [
      "Finished K3\n",
      "Working with unet_attention\n",
      "loading weights from ./logs/unet_attention/kfold_unet_attention/kfold_unet_attention_dice_DA_K4/kfold_unet_attention_dice_DA_K4_weights.h5\n"
     ]
    },
    {
     "name": "stderr",
     "output_type": "stream",
     "text": [
      "100%|██████████| 29/29 [01:43<00:00,  3.34s/it]\n"
     ]
    },
    {
     "name": "stdout",
     "output_type": "stream",
     "text": [
      "Finished K4\n",
      "Working with unet_attention\n",
      "loading weights from ./logs/unet_attention/kfold_unet_attention/kfold_unet_attention_dice_DA_K5/kfold_unet_attention_dice_DA_K5_weights.h5\n"
     ]
    },
    {
     "name": "stderr",
     "output_type": "stream",
     "text": [
      "100%|██████████| 29/29 [01:33<00:00,  3.40s/it]\n"
     ]
    },
    {
     "name": "stdout",
     "output_type": "stream",
     "text": [
      "Finished K5\n",
      "Working with unet_attention\n",
      "loading weights from ./logs/unet_attention/kfold_unet_attention/kfold_unet_attention_dice_DA_K6/kfold_unet_attention_dice_DA_K6_weights.h5\n"
     ]
    },
    {
     "name": "stderr",
     "output_type": "stream",
     "text": [
      "100%|██████████| 29/29 [01:32<00:00,  3.17s/it]\n"
     ]
    },
    {
     "name": "stdout",
     "output_type": "stream",
     "text": [
      "Finished K6\n",
      "Working with unet_attention\n",
      "loading weights from ./logs/unet_attention/kfold_unet_attention/kfold_unet_attention_dice_DA_K7/kfold_unet_attention_dice_DA_K7_weights.h5\n"
     ]
    },
    {
     "name": "stderr",
     "output_type": "stream",
     "text": [
      "100%|██████████| 29/29 [01:44<00:00,  3.39s/it]\n"
     ]
    },
    {
     "name": "stdout",
     "output_type": "stream",
     "text": [
      "Finished K7\n",
      "Working with unet_attention\n",
      "loading weights from ./logs/unet_attention/kfold_unet_attention/kfold_unet_attention_dice_DA_K8/kfold_unet_attention_dice_DA_K8_weights.h5\n"
     ]
    },
    {
     "name": "stderr",
     "output_type": "stream",
     "text": [
      "100%|██████████| 29/29 [01:49<00:00,  4.52s/it]\n"
     ]
    },
    {
     "name": "stdout",
     "output_type": "stream",
     "text": [
      "Finished K8\n",
      "Working with unet_attention\n",
      "loading weights from ./logs/unet_attention/kfold_unet_attention/kfold_unet_attention_dice_DA_K9/kfold_unet_attention_dice_DA_K9_weights.h5\n"
     ]
    },
    {
     "name": "stderr",
     "output_type": "stream",
     "text": [
      "100%|██████████| 29/29 [01:37<00:00,  3.06s/it]\n"
     ]
    },
    {
     "name": "stdout",
     "output_type": "stream",
     "text": [
      "Finished K9\n",
      "\n",
      "pp\n",
      "Working with unet_filter_attention\n"
     ]
    },
    {
     "name": "stderr",
     "output_type": "stream",
     "text": [
      "\r",
      "  0%|          | 0/30 [00:00<?, ?it/s]"
     ]
    },
    {
     "name": "stdout",
     "output_type": "stream",
     "text": [
      "loading weights from ./logs/unet_filter_attention/kfold_unet_filter_attention/kfold_unet_filter_attention_dice_DA_K0/kfold_unet_filter_attention_dice_DA_K0_weights.h5\n"
     ]
    },
    {
     "name": "stderr",
     "output_type": "stream",
     "text": [
      "100%|██████████| 30/30 [01:44<00:00,  3.23s/it]\n"
     ]
    },
    {
     "name": "stdout",
     "output_type": "stream",
     "text": [
      "Finished K0\n",
      "Working with unet_filter_attention\n"
     ]
    },
    {
     "name": "stderr",
     "output_type": "stream",
     "text": [
      "\r",
      "  0%|          | 0/29 [00:00<?, ?it/s]"
     ]
    },
    {
     "name": "stdout",
     "output_type": "stream",
     "text": [
      "loading weights from ./logs/unet_filter_attention/kfold_unet_filter_attention/kfold_unet_filter_attention_dice_DA_K1/kfold_unet_filter_attention_dice_DA_K1_weights.h5\n"
     ]
    },
    {
     "name": "stderr",
     "output_type": "stream",
     "text": [
      "100%|██████████| 29/29 [01:46<00:00,  3.55s/it]\n"
     ]
    },
    {
     "name": "stdout",
     "output_type": "stream",
     "text": [
      "Finished K1\n",
      "Working with unet_filter_attention\n"
     ]
    },
    {
     "name": "stderr",
     "output_type": "stream",
     "text": [
      "\r",
      "  0%|          | 0/29 [00:00<?, ?it/s]"
     ]
    },
    {
     "name": "stdout",
     "output_type": "stream",
     "text": [
      "loading weights from ./logs/unet_filter_attention/kfold_unet_filter_attention/kfold_unet_filter_attention_dice_DA_K2/kfold_unet_filter_attention_dice_DA_K2_weights.h5\n"
     ]
    },
    {
     "name": "stderr",
     "output_type": "stream",
     "text": [
      "100%|██████████| 29/29 [01:38<00:00,  2.99s/it]\n"
     ]
    },
    {
     "name": "stdout",
     "output_type": "stream",
     "text": [
      "Finished K2\n",
      "Working with unet_filter_attention\n"
     ]
    },
    {
     "name": "stderr",
     "output_type": "stream",
     "text": [
      "\r",
      "  0%|          | 0/29 [00:00<?, ?it/s]"
     ]
    },
    {
     "name": "stdout",
     "output_type": "stream",
     "text": [
      "loading weights from ./logs/unet_filter_attention/kfold_unet_filter_attention/kfold_unet_filter_attention_dice_DA_K3/kfold_unet_filter_attention_dice_DA_K3_weights.h5\n"
     ]
    },
    {
     "name": "stderr",
     "output_type": "stream",
     "text": [
      "100%|██████████| 29/29 [01:40<00:00,  3.18s/it]\n"
     ]
    },
    {
     "name": "stdout",
     "output_type": "stream",
     "text": [
      "Finished K3\n",
      "Working with unet_filter_attention\n"
     ]
    },
    {
     "name": "stderr",
     "output_type": "stream",
     "text": [
      "\r",
      "  0%|          | 0/29 [00:00<?, ?it/s]"
     ]
    },
    {
     "name": "stdout",
     "output_type": "stream",
     "text": [
      "loading weights from ./logs/unet_filter_attention/kfold_unet_filter_attention/kfold_unet_filter_attention_dice_DA_K4/kfold_unet_filter_attention_dice_DA_K4_weights.h5\n"
     ]
    },
    {
     "name": "stderr",
     "output_type": "stream",
     "text": [
      "100%|██████████| 29/29 [01:43<00:00,  3.31s/it]\n"
     ]
    },
    {
     "name": "stdout",
     "output_type": "stream",
     "text": [
      "Finished K4\n",
      "Working with unet_filter_attention\n"
     ]
    },
    {
     "name": "stderr",
     "output_type": "stream",
     "text": [
      "\r",
      "  0%|          | 0/29 [00:00<?, ?it/s]"
     ]
    },
    {
     "name": "stdout",
     "output_type": "stream",
     "text": [
      "loading weights from ./logs/unet_filter_attention/kfold_unet_filter_attention/kfold_unet_filter_attention_dice_DA_K5/kfold_unet_filter_attention_dice_DA_K5_weights.h5\n"
     ]
    },
    {
     "name": "stderr",
     "output_type": "stream",
     "text": [
      "100%|██████████| 29/29 [01:34<00:00,  3.45s/it]\n"
     ]
    },
    {
     "name": "stdout",
     "output_type": "stream",
     "text": [
      "Finished K5\n",
      "Working with unet_filter_attention\n",
      "loading weights from ./logs/unet_filter_attention/kfold_unet_filter_attention/kfold_unet_filter_attention_dice_DA_K6/kfold_unet_filter_attention_dice_DA_K6_weights.h5\n"
     ]
    },
    {
     "name": "stderr",
     "output_type": "stream",
     "text": [
      "100%|██████████| 29/29 [01:31<00:00,  3.15s/it]\n"
     ]
    },
    {
     "name": "stdout",
     "output_type": "stream",
     "text": [
      "Finished K6\n",
      "Working with unet_filter_attention\n",
      "loading weights from ./logs/unet_filter_attention/kfold_unet_filter_attention/kfold_unet_filter_attention_dice_DA_K7/kfold_unet_filter_attention_dice_DA_K7_weights.h5\n"
     ]
    },
    {
     "name": "stderr",
     "output_type": "stream",
     "text": [
      "100%|██████████| 29/29 [01:48<00:00,  3.47s/it]\n"
     ]
    },
    {
     "name": "stdout",
     "output_type": "stream",
     "text": [
      "Finished K7\n",
      "Working with unet_filter_attention\n"
     ]
    },
    {
     "name": "stderr",
     "output_type": "stream",
     "text": [
      "\r",
      "  0%|          | 0/29 [00:00<?, ?it/s]"
     ]
    },
    {
     "name": "stdout",
     "output_type": "stream",
     "text": [
      "loading weights from ./logs/unet_filter_attention/kfold_unet_filter_attention/kfold_unet_filter_attention_dice_DA_K8/kfold_unet_filter_attention_dice_DA_K8_weights.h5\n"
     ]
    },
    {
     "name": "stderr",
     "output_type": "stream",
     "text": [
      "100%|██████████| 29/29 [01:48<00:00,  4.48s/it]\n"
     ]
    },
    {
     "name": "stdout",
     "output_type": "stream",
     "text": [
      "Finished K8\n",
      "Working with unet_filter_attention\n",
      "loading weights from ./logs/unet_filter_attention/kfold_unet_filter_attention/kfold_unet_filter_attention_dice_DA_K9/kfold_unet_filter_attention_dice_DA_K9_weights.h5\n"
     ]
    },
    {
     "name": "stderr",
     "output_type": "stream",
     "text": [
      "100%|██████████| 29/29 [01:35<00:00,  2.97s/it]\n"
     ]
    },
    {
     "name": "stdout",
     "output_type": "stream",
     "text": [
      "Finished K9\n",
      "\n",
      "pp\n",
      "Working with vgg19FCN_attention\n",
      "loading weights from ./logs/vgg19FCN_attention/kfold_vgg19FCN_attention/kfold_vgg19FCN_attention_dice_DA_K0/kfold_vgg19FCN_attention_dice_DA_K0_weights.h5\n"
     ]
    },
    {
     "name": "stderr",
     "output_type": "stream",
     "text": [
      "100%|██████████| 30/30 [01:43<00:00,  3.20s/it]\n"
     ]
    },
    {
     "name": "stdout",
     "output_type": "stream",
     "text": [
      "Finished K0\n",
      "Working with vgg19FCN_attention\n",
      "loading weights from ./logs/vgg19FCN_attention/kfold_vgg19FCN_attention/kfold_vgg19FCN_attention_dice_DA_K1/kfold_vgg19FCN_attention_dice_DA_K1_weights.h5\n"
     ]
    },
    {
     "name": "stderr",
     "output_type": "stream",
     "text": [
      "100%|██████████| 29/29 [01:46<00:00,  3.51s/it]\n"
     ]
    },
    {
     "name": "stdout",
     "output_type": "stream",
     "text": [
      "Finished K1\n",
      "Working with vgg19FCN_attention\n",
      "loading weights from ./logs/vgg19FCN_attention/kfold_vgg19FCN_attention/kfold_vgg19FCN_attention_dice_DA_K2/kfold_vgg19FCN_attention_dice_DA_K2_weights.h5\n"
     ]
    },
    {
     "name": "stderr",
     "output_type": "stream",
     "text": [
      "100%|██████████| 29/29 [01:37<00:00,  3.03s/it]\n"
     ]
    },
    {
     "name": "stdout",
     "output_type": "stream",
     "text": [
      "Finished K2\n",
      "Working with vgg19FCN_attention\n",
      "loading weights from ./logs/vgg19FCN_attention/kfold_vgg19FCN_attention/kfold_vgg19FCN_attention_dice_DA_K3/kfold_vgg19FCN_attention_dice_DA_K3_weights.h5\n"
     ]
    },
    {
     "name": "stderr",
     "output_type": "stream",
     "text": [
      "100%|██████████| 29/29 [01:40<00:00,  3.25s/it]\n"
     ]
    },
    {
     "name": "stdout",
     "output_type": "stream",
     "text": [
      "Finished K3\n",
      "Working with vgg19FCN_attention\n",
      "loading weights from ./logs/vgg19FCN_attention/kfold_vgg19FCN_attention/kfold_vgg19FCN_attention_dice_DA_K4/kfold_vgg19FCN_attention_dice_DA_K4_weights.h5\n"
     ]
    },
    {
     "name": "stderr",
     "output_type": "stream",
     "text": [
      "100%|██████████| 29/29 [01:43<00:00,  3.33s/it]\n"
     ]
    },
    {
     "name": "stdout",
     "output_type": "stream",
     "text": [
      "Finished K4\n",
      "Working with vgg19FCN_attention\n",
      "loading weights from ./logs/vgg19FCN_attention/kfold_vgg19FCN_attention/kfold_vgg19FCN_attention_dice_DA_K5/kfold_vgg19FCN_attention_dice_DA_K5_weights.h5\n"
     ]
    },
    {
     "name": "stderr",
     "output_type": "stream",
     "text": [
      "100%|██████████| 29/29 [01:35<00:00,  3.50s/it]\n"
     ]
    },
    {
     "name": "stdout",
     "output_type": "stream",
     "text": [
      "Finished K5\n",
      "Working with vgg19FCN_attention\n",
      "loading weights from ./logs/vgg19FCN_attention/kfold_vgg19FCN_attention/kfold_vgg19FCN_attention_dice_DA_K6/kfold_vgg19FCN_attention_dice_DA_K6_weights.h5\n"
     ]
    },
    {
     "name": "stderr",
     "output_type": "stream",
     "text": [
      "100%|██████████| 29/29 [01:34<00:00,  3.20s/it]\n"
     ]
    },
    {
     "name": "stdout",
     "output_type": "stream",
     "text": [
      "Finished K6\n",
      "Working with vgg19FCN_attention\n",
      "loading weights from ./logs/vgg19FCN_attention/kfold_vgg19FCN_attention/kfold_vgg19FCN_attention_dice_DA_K7/kfold_vgg19FCN_attention_dice_DA_K7_weights.h5\n"
     ]
    },
    {
     "name": "stderr",
     "output_type": "stream",
     "text": [
      "100%|██████████| 29/29 [01:46<00:00,  3.45s/it]\n"
     ]
    },
    {
     "name": "stdout",
     "output_type": "stream",
     "text": [
      "Finished K7\n",
      "Working with vgg19FCN_attention\n",
      "loading weights from ./logs/vgg19FCN_attention/kfold_vgg19FCN_attention/kfold_vgg19FCN_attention_dice_DA_K8/kfold_vgg19FCN_attention_dice_DA_K8_weights.h5\n"
     ]
    },
    {
     "name": "stderr",
     "output_type": "stream",
     "text": [
      "100%|██████████| 29/29 [01:51<00:00,  4.59s/it]\n"
     ]
    },
    {
     "name": "stdout",
     "output_type": "stream",
     "text": [
      "Finished K8\n",
      "Working with vgg19FCN_attention\n",
      "loading weights from ./logs/vgg19FCN_attention/kfold_vgg19FCN_attention/kfold_vgg19FCN_attention_dice_DA_K9/kfold_vgg19FCN_attention_dice_DA_K9_weights.h5\n"
     ]
    },
    {
     "name": "stderr",
     "output_type": "stream",
     "text": [
      "100%|██████████| 29/29 [01:38<00:00,  3.04s/it]\n"
     ]
    },
    {
     "name": "stdout",
     "output_type": "stream",
     "text": [
      "Finished K9\n",
      "\n",
      "pp\n",
      "Working with vgg19_fcn_upconv\n",
      "loading weights from ./logs/vgg19_fcn_upconv/kfold_vgg19_fcn_upconv/kfold_vgg19_fcn_upconv_dice_DA_K0/kfold_vgg19_fcn_upconv_dice_DA_K0_weights.h5\n"
     ]
    },
    {
     "name": "stderr",
     "output_type": "stream",
     "text": [
      "100%|██████████| 30/30 [01:42<00:00,  3.20s/it]\n"
     ]
    },
    {
     "name": "stdout",
     "output_type": "stream",
     "text": [
      "Finished K0\n",
      "Working with vgg19_fcn_upconv\n",
      "loading weights from ./logs/vgg19_fcn_upconv/kfold_vgg19_fcn_upconv/kfold_vgg19_fcn_upconv_dice_DA_K1/kfold_vgg19_fcn_upconv_dice_DA_K1_weights.h5\n"
     ]
    },
    {
     "name": "stderr",
     "output_type": "stream",
     "text": [
      "100%|██████████| 29/29 [01:46<00:00,  3.49s/it]\n"
     ]
    },
    {
     "name": "stdout",
     "output_type": "stream",
     "text": [
      "Finished K1\n",
      "Working with vgg19_fcn_upconv\n",
      "loading weights from ./logs/vgg19_fcn_upconv/kfold_vgg19_fcn_upconv/kfold_vgg19_fcn_upconv_dice_DA_K2/kfold_vgg19_fcn_upconv_dice_DA_K2_weights.h5\n"
     ]
    },
    {
     "name": "stderr",
     "output_type": "stream",
     "text": [
      "100%|██████████| 29/29 [01:37<00:00,  3.02s/it]\n"
     ]
    },
    {
     "name": "stdout",
     "output_type": "stream",
     "text": [
      "Finished K2\n",
      "Working with vgg19_fcn_upconv\n",
      "loading weights from ./logs/vgg19_fcn_upconv/kfold_vgg19_fcn_upconv/kfold_vgg19_fcn_upconv_dice_DA_K3/kfold_vgg19_fcn_upconv_dice_DA_K3_weights.h5\n"
     ]
    },
    {
     "name": "stderr",
     "output_type": "stream",
     "text": [
      "100%|██████████| 29/29 [01:41<00:00,  3.30s/it]\n"
     ]
    },
    {
     "name": "stdout",
     "output_type": "stream",
     "text": [
      "Finished K3\n",
      "Working with vgg19_fcn_upconv\n",
      "loading weights from ./logs/vgg19_fcn_upconv/kfold_vgg19_fcn_upconv/kfold_vgg19_fcn_upconv_dice_DA_K4/kfold_vgg19_fcn_upconv_dice_DA_K4_weights.h5\n"
     ]
    },
    {
     "name": "stderr",
     "output_type": "stream",
     "text": [
      "100%|██████████| 29/29 [01:44<00:00,  3.33s/it]\n"
     ]
    },
    {
     "name": "stdout",
     "output_type": "stream",
     "text": [
      "Finished K4\n",
      "Working with vgg19_fcn_upconv\n",
      "loading weights from ./logs/vgg19_fcn_upconv/kfold_vgg19_fcn_upconv/kfold_vgg19_fcn_upconv_dice_DA_K5/kfold_vgg19_fcn_upconv_dice_DA_K5_weights.h5\n"
     ]
    },
    {
     "name": "stderr",
     "output_type": "stream",
     "text": [
      "100%|██████████| 29/29 [01:34<00:00,  3.38s/it]\n"
     ]
    },
    {
     "name": "stdout",
     "output_type": "stream",
     "text": [
      "Finished K5\n",
      "Working with vgg19_fcn_upconv\n",
      "loading weights from ./logs/vgg19_fcn_upconv/kfold_vgg19_fcn_upconv/kfold_vgg19_fcn_upconv_dice_DA_K6/kfold_vgg19_fcn_upconv_dice_DA_K6_weights.h5\n"
     ]
    },
    {
     "name": "stderr",
     "output_type": "stream",
     "text": [
      "100%|██████████| 29/29 [01:33<00:00,  3.20s/it]\n"
     ]
    },
    {
     "name": "stdout",
     "output_type": "stream",
     "text": [
      "Finished K6\n",
      "Working with vgg19_fcn_upconv\n",
      "loading weights from ./logs/vgg19_fcn_upconv/kfold_vgg19_fcn_upconv/kfold_vgg19_fcn_upconv_dice_DA_K7/kfold_vgg19_fcn_upconv_dice_DA_K7_weights.h5\n"
     ]
    },
    {
     "name": "stderr",
     "output_type": "stream",
     "text": [
      "100%|██████████| 29/29 [01:46<00:00,  3.57s/it]\n"
     ]
    },
    {
     "name": "stdout",
     "output_type": "stream",
     "text": [
      "Finished K7\n",
      "Working with vgg19_fcn_upconv\n",
      "loading weights from ./logs/vgg19_fcn_upconv/kfold_vgg19_fcn_upconv/kfold_vgg19_fcn_upconv_dice_DA_K8/kfold_vgg19_fcn_upconv_dice_DA_K8_weights.h5\n"
     ]
    },
    {
     "name": "stderr",
     "output_type": "stream",
     "text": [
      "100%|██████████| 29/29 [01:52<00:00,  4.63s/it]\n"
     ]
    },
    {
     "name": "stdout",
     "output_type": "stream",
     "text": [
      "Finished K8\n",
      "Working with vgg19_fcn_upconv\n",
      "loading weights from ./logs/vgg19_fcn_upconv/kfold_vgg19_fcn_upconv/kfold_vgg19_fcn_upconv_dice_DA_K9/kfold_vgg19_fcn_upconv_dice_DA_K9_weights.h5\n"
     ]
    },
    {
     "name": "stderr",
     "output_type": "stream",
     "text": [
      "100%|██████████| 29/29 [01:38<00:00,  3.11s/it]\n"
     ]
    },
    {
     "name": "stdout",
     "output_type": "stream",
     "text": [
      "Finished K9\n",
      "\n",
      "pp\n",
      "Working with unet_bn_bce_loss\n",
      "BCE\n",
      "loading weights from ./logs/unet_bn_bce_loss/kfold_unet_bn_bce_loss/kfold_unet_bn_bce_loss_dice_DA_K0/kfold_unet_bn_bce_loss_dice_DA_K0_weights.h5\n"
     ]
    },
    {
     "name": "stderr",
     "output_type": "stream",
     "text": [
      "100%|██████████| 30/30 [01:41<00:00,  3.15s/it]\n"
     ]
    },
    {
     "name": "stdout",
     "output_type": "stream",
     "text": [
      "Finished K0\n",
      "Working with unet_bn_bce_loss\n",
      "BCE\n",
      "loading weights from ./logs/unet_bn_bce_loss/kfold_unet_bn_bce_loss/kfold_unet_bn_bce_loss_dice_DA_K1/kfold_unet_bn_bce_loss_dice_DA_K1_weights.h5\n"
     ]
    },
    {
     "name": "stderr",
     "output_type": "stream",
     "text": [
      "100%|██████████| 29/29 [01:46<00:00,  3.44s/it]\n"
     ]
    },
    {
     "name": "stdout",
     "output_type": "stream",
     "text": [
      "Finished K1\n",
      "Working with unet_bn_bce_loss\n",
      "BCE\n",
      "loading weights from ./logs/unet_bn_bce_loss/kfold_unet_bn_bce_loss/kfold_unet_bn_bce_loss_dice_DA_K2/kfold_unet_bn_bce_loss_dice_DA_K2_weights.h5\n"
     ]
    },
    {
     "name": "stderr",
     "output_type": "stream",
     "text": [
      "100%|██████████| 29/29 [01:37<00:00,  3.00s/it]\n"
     ]
    },
    {
     "name": "stdout",
     "output_type": "stream",
     "text": [
      "Finished K2\n",
      "Working with unet_bn_bce_loss\n",
      "BCE\n",
      "loading weights from ./logs/unet_bn_bce_loss/kfold_unet_bn_bce_loss/kfold_unet_bn_bce_loss_dice_DA_K3/kfold_unet_bn_bce_loss_dice_DA_K3_weights.h5\n"
     ]
    },
    {
     "name": "stderr",
     "output_type": "stream",
     "text": [
      "100%|██████████| 29/29 [01:40<00:00,  3.23s/it]\n"
     ]
    },
    {
     "name": "stdout",
     "output_type": "stream",
     "text": [
      "Finished K3\n",
      "Working with unet_bn_bce_loss\n",
      "BCE\n",
      "loading weights from ./logs/unet_bn_bce_loss/kfold_unet_bn_bce_loss/kfold_unet_bn_bce_loss_dice_DA_K4/kfold_unet_bn_bce_loss_dice_DA_K4_weights.h5\n"
     ]
    },
    {
     "name": "stderr",
     "output_type": "stream",
     "text": [
      "100%|██████████| 29/29 [01:42<00:00,  3.32s/it]\n"
     ]
    },
    {
     "name": "stdout",
     "output_type": "stream",
     "text": [
      "Finished K4\n",
      "Working with unet_bn_bce_loss\n",
      "BCE\n",
      "loading weights from ./logs/unet_bn_bce_loss/kfold_unet_bn_bce_loss/kfold_unet_bn_bce_loss_dice_DA_K5/kfold_unet_bn_bce_loss_dice_DA_K5_weights.h5\n"
     ]
    },
    {
     "name": "stderr",
     "output_type": "stream",
     "text": [
      "100%|██████████| 29/29 [01:34<00:00,  3.42s/it]\n"
     ]
    },
    {
     "name": "stdout",
     "output_type": "stream",
     "text": [
      "Finished K5\n",
      "Working with unet_bn_bce_loss\n",
      "BCE\n",
      "loading weights from ./logs/unet_bn_bce_loss/kfold_unet_bn_bce_loss/kfold_unet_bn_bce_loss_dice_DA_K6/kfold_unet_bn_bce_loss_dice_DA_K6_weights.h5\n"
     ]
    },
    {
     "name": "stderr",
     "output_type": "stream",
     "text": [
      "100%|██████████| 29/29 [01:34<00:00,  3.32s/it]\n"
     ]
    },
    {
     "name": "stdout",
     "output_type": "stream",
     "text": [
      "Finished K6\n",
      "Working with unet_bn_bce_loss\n",
      "BCE\n",
      "loading weights from ./logs/unet_bn_bce_loss/kfold_unet_bn_bce_loss/kfold_unet_bn_bce_loss_dice_DA_K7/kfold_unet_bn_bce_loss_dice_DA_K7_weights.h5\n"
     ]
    },
    {
     "name": "stderr",
     "output_type": "stream",
     "text": [
      "100%|██████████| 29/29 [01:44<00:00,  3.40s/it]\n"
     ]
    },
    {
     "name": "stdout",
     "output_type": "stream",
     "text": [
      "Finished K7\n",
      "Working with unet_bn_bce_loss\n",
      "BCE\n",
      "loading weights from ./logs/unet_bn_bce_loss/kfold_unet_bn_bce_loss/kfold_unet_bn_bce_loss_dice_DA_K8/kfold_unet_bn_bce_loss_dice_DA_K8_weights.h5\n"
     ]
    },
    {
     "name": "stderr",
     "output_type": "stream",
     "text": [
      "100%|██████████| 29/29 [01:51<00:00,  4.59s/it]\n"
     ]
    },
    {
     "name": "stdout",
     "output_type": "stream",
     "text": [
      "Finished K8\n",
      "Working with unet_bn_bce_loss\n",
      "BCE\n",
      "loading weights from ./logs/unet_bn_bce_loss/kfold_unet_bn_bce_loss/kfold_unet_bn_bce_loss_dice_DA_K9/kfold_unet_bn_bce_loss_dice_DA_K9_weights.h5\n"
     ]
    },
    {
     "name": "stderr",
     "output_type": "stream",
     "text": [
      "100%|██████████| 29/29 [01:35<00:00,  2.94s/it]\n"
     ]
    },
    {
     "name": "stdout",
     "output_type": "stream",
     "text": [
      "Finished K9\n",
      "\n",
      "pp\n",
      "Working with unet_bn_dice_loss\n",
      "dice\n",
      "loading weights from ./logs/unet_bn_dice_loss/kfold_unet_bn_dice_loss/kfold_unet_bn_dice_loss_dice_DA_K0/kfold_unet_bn_dice_loss_dice_DA_K0_weights.h5\n"
     ]
    },
    {
     "name": "stderr",
     "output_type": "stream",
     "text": [
      "100%|██████████| 30/30 [01:41<00:00,  3.12s/it]\n"
     ]
    },
    {
     "name": "stdout",
     "output_type": "stream",
     "text": [
      "Finished K0\n",
      "Working with unet_bn_dice_loss\n",
      "dice\n",
      "loading weights from ./logs/unet_bn_dice_loss/kfold_unet_bn_dice_loss/kfold_unet_bn_dice_loss_dice_DA_K1/kfold_unet_bn_dice_loss_dice_DA_K1_weights.h5\n"
     ]
    },
    {
     "name": "stderr",
     "output_type": "stream",
     "text": [
      "100%|██████████| 29/29 [01:43<00:00,  3.40s/it]\n"
     ]
    },
    {
     "name": "stdout",
     "output_type": "stream",
     "text": [
      "Finished K1\n",
      "Working with unet_bn_dice_loss\n",
      "dice\n",
      "loading weights from ./logs/unet_bn_dice_loss/kfold_unet_bn_dice_loss/kfold_unet_bn_dice_loss_dice_DA_K2/kfold_unet_bn_dice_loss_dice_DA_K2_weights.h5\n"
     ]
    },
    {
     "name": "stderr",
     "output_type": "stream",
     "text": [
      "100%|██████████| 29/29 [01:35<00:00,  3.01s/it]\n"
     ]
    },
    {
     "name": "stdout",
     "output_type": "stream",
     "text": [
      "Finished K2\n",
      "Working with unet_bn_dice_loss\n",
      "dice\n",
      "loading weights from ./logs/unet_bn_dice_loss/kfold_unet_bn_dice_loss/kfold_unet_bn_dice_loss_dice_DA_K3/kfold_unet_bn_dice_loss_dice_DA_K3_weights.h5\n"
     ]
    },
    {
     "name": "stderr",
     "output_type": "stream",
     "text": [
      "100%|██████████| 29/29 [01:43<00:00,  3.32s/it]\n"
     ]
    },
    {
     "name": "stdout",
     "output_type": "stream",
     "text": [
      "Finished K3\n",
      "Working with unet_bn_dice_loss\n",
      "dice\n",
      "loading weights from ./logs/unet_bn_dice_loss/kfold_unet_bn_dice_loss/kfold_unet_bn_dice_loss_dice_DA_K4/kfold_unet_bn_dice_loss_dice_DA_K4_weights.h5\n"
     ]
    },
    {
     "name": "stderr",
     "output_type": "stream",
     "text": [
      "100%|██████████| 29/29 [01:45<00:00,  3.35s/it]\n"
     ]
    },
    {
     "name": "stdout",
     "output_type": "stream",
     "text": [
      "Finished K4\n",
      "Working with unet_bn_dice_loss\n",
      "dice\n",
      "loading weights from ./logs/unet_bn_dice_loss/kfold_unet_bn_dice_loss/kfold_unet_bn_dice_loss_dice_DA_K5/kfold_unet_bn_dice_loss_dice_DA_K5_weights.h5\n"
     ]
    },
    {
     "name": "stderr",
     "output_type": "stream",
     "text": [
      "100%|██████████| 29/29 [01:33<00:00,  3.39s/it]\n"
     ]
    },
    {
     "name": "stdout",
     "output_type": "stream",
     "text": [
      "Finished K5\n",
      "Working with unet_bn_dice_loss\n",
      "dice\n",
      "loading weights from ./logs/unet_bn_dice_loss/kfold_unet_bn_dice_loss/kfold_unet_bn_dice_loss_dice_DA_K6/kfold_unet_bn_dice_loss_dice_DA_K6_weights.h5\n"
     ]
    },
    {
     "name": "stderr",
     "output_type": "stream",
     "text": [
      "100%|██████████| 29/29 [01:30<00:00,  3.11s/it]\n"
     ]
    },
    {
     "name": "stdout",
     "output_type": "stream",
     "text": [
      "Finished K6\n",
      "Working with unet_bn_dice_loss\n",
      "dice\n",
      "loading weights from ./logs/unet_bn_dice_loss/kfold_unet_bn_dice_loss/kfold_unet_bn_dice_loss_dice_DA_K7/kfold_unet_bn_dice_loss_dice_DA_K7_weights.h5\n"
     ]
    },
    {
     "name": "stderr",
     "output_type": "stream",
     "text": [
      "100%|██████████| 29/29 [01:43<00:00,  3.38s/it]\n"
     ]
    },
    {
     "name": "stdout",
     "output_type": "stream",
     "text": [
      "Finished K7\n",
      "Working with unet_bn_dice_loss\n",
      "dice\n",
      "loading weights from ./logs/unet_bn_dice_loss/kfold_unet_bn_dice_loss/kfold_unet_bn_dice_loss_dice_DA_K8/kfold_unet_bn_dice_loss_dice_DA_K8_weights.h5\n"
     ]
    },
    {
     "name": "stderr",
     "output_type": "stream",
     "text": [
      " 90%|████████▉ | 26/29 [01:32<00:09,  3.13s/it]"
     ]
    }
   ],
   "source": [
    "#Get data and generators\n",
    "#'unet', 'unet_se', 'unet_upconv',\n",
    "#'unet_upconv_se', 'unet_upconv_bn', 'vgg19FCN','vgg19SEFCN',\n",
    "# 'resnetFCN', 'resnetSEFCN', 'unet_resnet','unet_resnet_se', \n",
    "# 'unet_resnet_upconv', 'unet_resnet_upconv_se'\n",
    "model_types = ['unet_attention_bn_bce_dice_loss', 'unet_attention_bn_dice_loss', 'unet_bn_focal_loss']\n",
    "\n",
    "for post_processing in [False, True]:\n",
    "    \n",
    "    for model_type in model_types:\n",
    "        \n",
    "        print()\n",
    "        if post_processing:\n",
    "            print('pp')\n",
    "        else:\n",
    "            print('no pp')\n",
    "                \n",
    "        dh = DataHandler()\n",
    "        all_dice = []\n",
    "        all_hd = []\n",
    "        all_hd95 = []\n",
    "        all_names = []\n",
    "\n",
    "        for i in range(len(kfold_indices)):\n",
    "            exp_name = 'kfold_%s_dice_DA_K%d'%(model_type, i)\n",
    "\n",
    "            #get parameters\n",
    "            params = getParams(exp_name, unet_type=model_type)\n",
    "\n",
    "            val_img_files = np.take(image_files, kfold_indices[i]['val'])\n",
    "            val_mask_files = np.take(mask_files, kfold_indices[i]['val'])\n",
    "\n",
    "            model = getModel(model_type)\n",
    "\n",
    "            print('loading weights from %s'%params['checkpoint']['name'])\n",
    "            model.load_weights(params['checkpoint']['name'])\n",
    "\n",
    "            data = zip(val_img_files, val_mask_files)\n",
    "\n",
    "            dice_score, hd_score, hd95_score, names = predictAll(model, model_type, data, \n",
    "                                                                 num_data=len(val_mask_files),\n",
    "                                                                post_processing = post_processing)\n",
    "\n",
    "            print('Finished K%d'%i)\n",
    "\n",
    "            all_dice += dice_score\n",
    "            all_hd += hd_score\n",
    "            all_hd95 += hd95_score\n",
    "            all_names.extend(names)\n",
    "            \n",
    "        if post_processing:\n",
    "            report_name = 'data/eval_pp/' + model_type + '/' + model_type + '_report.txt'\n",
    "            \n",
    "        else:\n",
    "            report_name = 'data/eval/' + model_type + '/' + model_type + '_report.txt'\n",
    "            \n",
    "        with open(report_name, 'w+') as f:\n",
    "            for i in range(len(all_dice)):\n",
    "                f.write(\"%s, %f, %f, %f\\n\"%(all_names[i],\n",
    "                                          all_dice[i],\n",
    "                                          all_hd[i],\n",
    "                                          all_hd95[i]))\n",
    "                \n",
    "            f.write('\\n')\n",
    "            f.write('Final results for %s\\n'%model_type)\n",
    "            f.write('dice %f\\n'%np.mean(all_dice))\n",
    "            f.write('hd %f\\n'%np.mean(all_hd))\n",
    "            f.write('hd95 %f\\n'%np.mean(all_hd95))\n"
   ]
  },
  {
   "cell_type": "code",
   "execution_count": null,
   "metadata": {},
   "outputs": [],
   "source": []
  }
 ],
 "metadata": {
  "kernelspec": {
   "display_name": "Python 3",
   "language": "python",
   "name": "python3"
  },
  "language_info": {
   "codemirror_mode": {
    "name": "ipython",
    "version": 3
   },
   "file_extension": ".py",
   "mimetype": "text/x-python",
   "name": "python",
   "nbconvert_exporter": "python",
   "pygments_lexer": "ipython3",
   "version": "3.6.7"
  }
 },
 "nbformat": 4,
 "nbformat_minor": 2
}
