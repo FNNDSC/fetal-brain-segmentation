{
 "cells": [
  {
   "cell_type": "code",
   "execution_count": 1,
   "metadata": {},
   "outputs": [
    {
     "name": "stderr",
     "output_type": "stream",
     "text": [
      "Using TensorFlow backend.\n"
     ]
    }
   ],
   "source": [
    "import numpy as np\n",
    "\n",
    "from keras.models import *\n",
    "from keras import backend as K\n",
    "from keras.preprocessing.image import ImageDataGenerator\n",
    "\n",
    "from model_provider import getModel\n",
    "\n",
    "from datahandler import DataHandler\n",
    "from kfold_data_loader import *\n",
    "from params import *\n",
    "import os\n",
    "import cv2\n",
    "import skimage.io as io\n",
    "from tqdm import tqdm\n",
    "\n",
    "from medpy.io import save\n",
    "\n",
    "from math import ceil, floor\n",
    "from matplotlib import pyplot as plt\n",
    "from sklearn.metrics import f1_score, jaccard_similarity_score\n",
    "\n",
    "from scipy.ndimage import _ni_support\n",
    "from scipy.ndimage.morphology import distance_transform_edt, binary_erosion,\\\n",
    "     generate_binary_structure\n",
    "\n",
    "from skimage.morphology import cube, binary_closing\n",
    "from skimage.measure import label\n",
    "\n",
    "import warnings\n",
    "warnings.filterwarnings(\"ignore\")\n",
    "\n",
    "plt.gray()"
   ]
  },
  {
   "cell_type": "code",
   "execution_count": 2,
   "metadata": {},
   "outputs": [],
   "source": [
    "def destiny_directory(model_name, dice_score, post_processing = False):\n",
    "    if post_processing:\n",
    "        pre = './data/eval_pp/'+model_name+'/'\n",
    "    else:\n",
    "        pre = './data/eval/'+model_name+'/'\n",
    "        \n",
    "    if dice_score >= 98:\n",
    "        return pre + 'dice_98_100/'\n",
    "    elif dice_score >= 96:\n",
    "        return pre + 'dice_96_98/'\n",
    "    elif dice_score >= 94:\n",
    "        return pre + 'dice_94_96/'\n",
    "    elif dice_score >= 92:\n",
    "        return pre + 'dice_92_94/'\n",
    "    elif dice_score >= 90:\n",
    "        return pre + 'dice_90_92/'\n",
    "    elif dice_score >= 88:\n",
    "        return pre + 'dice_88_90/'\n",
    "    elif dice_score >= 85:\n",
    "        return pre + 'dice_85_88'\n",
    "    elif dice_score >= 80:\n",
    "        return pre + 'dice_80_85/'\n",
    "    elif dice_score >= 70:\n",
    "        return pre + 'dice_70_80/'\n",
    "    elif dice_score >= 60:\n",
    "        return pre + 'dice_60_70/'\n",
    "    else:\n",
    "        return pre + 'dice_less_60'"
   ]
  },
  {
   "cell_type": "code",
   "execution_count": 3,
   "metadata": {},
   "outputs": [],
   "source": [
    "def getGenerator(images, bs=1):\n",
    "    image_datagen = ImageDataGenerator(rescale=1./255)\n",
    "    image_datagen.fit(images, augment = True)\n",
    "    image_generator = image_datagen.flow(x = images, batch_size=bs,\n",
    "            shuffle = False)\n",
    "\n",
    "    return image_generator\n"
   ]
  },
  {
   "cell_type": "code",
   "execution_count": 4,
   "metadata": {},
   "outputs": [],
   "source": [
    "def getDiceScore(ground_truth, prediction):\n",
    "    #convert to boolean values and flatten\n",
    "    ground_truth = np.asarray(ground_truth, dtype=np.bool).flatten()\n",
    "    prediction = np.asarray(prediction, dtype=np.bool).flatten()    \n",
    "    return f1_score(ground_truth, prediction)\n"
   ]
  },
  {
   "cell_type": "code",
   "execution_count": 5,
   "metadata": {},
   "outputs": [],
   "source": [
    " def hd(result, reference, voxelspacing=None, connectivity=1):\n",
    "    hd1 = __surface_distances(result, reference, voxelspacing, connectivity).max()\n",
    "    hd2 = __surface_distances(reference, result, voxelspacing, connectivity).max()\n",
    "    hd = max(hd1, hd2)\n",
    "    return hd\n",
    "\n",
    "def hd95(result, reference, voxelspacing=None, connectivity=1):\n",
    "    hd1 = __surface_distances(result, reference, voxelspacing, connectivity)\n",
    "    hd2 = __surface_distances(reference, result, voxelspacing, connectivity)\n",
    "    hd95 = np.percentile(np.hstack((hd1, hd2)), 95)\n",
    "    return hd95\n",
    "\n",
    "def __surface_distances(result, reference, voxelspacing=None, connectivity=1):\n",
    "    result = np.atleast_1d(result.astype(np.bool))\n",
    "    reference = np.atleast_1d(reference.astype(np.bool))\n",
    "    if voxelspacing is not None:\n",
    "        voxelspacing = _ni_support._normalize_sequence(voxelspacing, result.ndim)\n",
    "        voxelspacing = np.asarray(voxelspacing, dtype=np.float64)\n",
    "        if not voxelspacing.flags.contiguous:\n",
    "            voxelspacing = voxelspacing.copy()\n",
    "\n",
    "    footprint = generate_binary_structure(result.ndim, connectivity)\n",
    "\n",
    "    if 0 == np.count_nonzero(result):\n",
    "        raise RuntimeError('The first supplied array does not contain any binary object.')\n",
    "    if 0 == np.count_nonzero(reference):\n",
    "        raise RuntimeError('The second supplied array does not contain any binary object.')\n",
    "\n",
    "    result_border = result ^ binary_erosion(result, structure=footprint, iterations=1)\n",
    "    reference_border = reference ^ binary_erosion(reference, structure=footprint, iterations=1)\n",
    "\n",
    "    dt = distance_transform_edt(~reference_border, sampling=voxelspacing)\n",
    "    sds = dt[result_border]\n",
    "\n",
    "    return sds"
   ]
  },
  {
   "cell_type": "code",
   "execution_count": 6,
   "metadata": {},
   "outputs": [
    {
     "name": "stdout",
     "output_type": "stream",
     "text": [
      "291\n",
      "291\n"
     ]
    }
   ],
   "source": [
    "image_files, mask_files = load_data_files('data/kfold_data/')\n",
    "print(len(image_files))\n",
    "print(len(mask_files))\n",
    "skf = getKFolds(image_files, mask_files, n=10)\n",
    "\n",
    "kfold_indices = []\n",
    "for train_index, val_index in skf.split(image_files, mask_files):\n",
    "    kfold_indices.append({'train': train_index, 'val': val_index})"
   ]
  },
  {
   "cell_type": "code",
   "execution_count": 7,
   "metadata": {},
   "outputs": [],
   "source": [
    "def predictMask(model, image):  \n",
    "    image_gen = getGenerator(image)\n",
    "    return model.predict_generator(image_gen, steps=len(image))"
   ]
  },
  {
   "cell_type": "code",
   "execution_count": 8,
   "metadata": {},
   "outputs": [],
   "source": [
    "def prepareForSaving(image):\n",
    "    #image = np.swapaxes(image, -1, 0)\n",
    "    image = np.moveaxis(image, 0, -1)\n",
    "    \n",
    "    return image\n",
    "\n",
    "def predictAll(model, model_name, data, num_data=0, post_processing = False):\n",
    "    dice_scores = []\n",
    "    names = []\n",
    "    hd_scores = []\n",
    "    hd95_scores = []\n",
    "\n",
    "    for image_file, mask_file in tqdm(data, total=num_data):\n",
    "        \n",
    "        fname = image_file[image_file.rindex('/')+1 : image_file.rindex('.')]\n",
    "        image, hdr = dh.getImageData(image_file)\n",
    "        gt_mask, _ = dh.getImageData(mask_file, is_mask=True)\n",
    "        \n",
    "        assert image.shape == gt_mask.shape\n",
    "        \n",
    "        if image.shape[1] != 256:\n",
    "            continue\n",
    "        \n",
    "        pred_mask = predictMask(model, image)\n",
    "        pred_mask[pred_mask>=0.5] = 1\n",
    "        pred_mask[pred_mask<0.5] = 0\n",
    "                \n",
    "        pred_mask = np.squeeze(pred_mask)\n",
    "        \n",
    "        #closing and defrag squeze of mask\n",
    "        \n",
    "        if post_processing:\n",
    "            pred_mask = binary_closing(pred_mask, cube(2))\n",
    "\n",
    "            try:\n",
    "                labels = label(pred_mask)\n",
    "                pred_mask = (labels == np.argmax(np.bincount(labels.flat)[1:])+1).astype(int)\n",
    "            except:\n",
    "                pred_mask = pred_mask\n",
    "            \n",
    "            pred_mask = np.array(pred_mask, dtype=np.uint16)\n",
    "            \n",
    "        gt_mask = np.squeeze(gt_mask)\n",
    "        dice_score = getDiceScore(gt_mask, pred_mask)\n",
    "        \n",
    "        if dice_score == 0:\n",
    "            dice_scores.append(dice_score)\n",
    "            hd_scores.append(200)\n",
    "            hd95_scores.append(200) \n",
    "            names.append(fname)\n",
    "            save_path = destiny_directory(model_name, int_dice_score, \n",
    "                                          post_processing = post_processing)\n",
    "            pred_mask = prepareForSaving(pred_mask)\n",
    "            save(pred_mask, os.path.join(save_path, fname + '_' + model_name + '_' \n",
    "                + str(int_dice_score) + '.nii'), hdr)\n",
    "            \n",
    "            continue\n",
    "        \n",
    "        names.append(fname)\n",
    "        dice_scores.append(dice_score)\n",
    "        \n",
    "        hd_score = hd(gt_mask, pred_mask)\n",
    "        hd_scores.append(hd_score)\n",
    "        \n",
    "        hd95_score = hd95(gt_mask, pred_mask)\n",
    "        hd95_scores.append(hd95_score)\n",
    "        \n",
    "        int_dice_score = floor(dice_score * 100)\n",
    "        save_path = destiny_directory(model_name, int_dice_score, \n",
    "                                      post_processing = post_processing)\n",
    "        \n",
    "        pred_mask = prepareForSaving(pred_mask)\n",
    "        \n",
    "        '''image = prepareForSaving(image)\n",
    "        gt_mask = prepareForSaving(gt_mask)'''\n",
    "                    \n",
    "        save(pred_mask, os.path.join(save_path, fname + '_' + model_name + '_' \n",
    "            + str(int_dice_score) + '.nii'), hdr)\n",
    "        \n",
    "        '''save(image, os.path.join(save_path, fname + '_img.nii'), hdr)'''\n",
    "        '''save(gt_mask, os.path.join(save_path, fname + '_mask.nii'), hdr)'''\n",
    "\n",
    "    return dice_scores, hd_scores, hd95_scores, names"
   ]
  },
  {
   "cell_type": "code",
   "execution_count": 9,
   "metadata": {
    "scrolled": true
   },
   "outputs": [
    {
     "name": "stdout",
     "output_type": "stream",
     "text": [
      "\n",
      "no pp\n",
      "Working with unet\n",
      "loading weights from ./logs/unet/kfold_unet/kfold_unet_dice_DA_K0/kfold_unet_dice_DA_K0_weights.h5\n"
     ]
    },
    {
     "name": "stderr",
     "output_type": "stream",
     "text": [
      "100%|██████████| 30/30 [01:41<00:00,  3.18s/it]\n"
     ]
    },
    {
     "name": "stdout",
     "output_type": "stream",
     "text": [
      "Finished K0\n",
      "\n",
      "no pp\n",
      "Working with unet_bn_bce_dice_loss\n",
      "BCE_DICE\n",
      "loading weights from ./logs/unet_bn_bce_dice_loss/kfold_unet_bn_bce_dice_loss/kfold_unet_bn_bce_dice_loss_dice_DA_K0/kfold_unet_bn_bce_dice_loss_dice_DA_K0_weights.h5\n"
     ]
    },
    {
     "name": "stderr",
     "output_type": "stream",
     "text": [
      "100%|██████████| 30/30 [01:41<00:00,  3.19s/it]\n"
     ]
    },
    {
     "name": "stdout",
     "output_type": "stream",
     "text": [
      "Finished K0\n",
      "\n",
      "no pp\n",
      "Working with vgg19_fcn_upconv\n",
      "loading weights from ./logs/vgg19_fcn_upconv/kfold_vgg19_fcn_upconv/kfold_vgg19_fcn_upconv_dice_DA_K0/kfold_vgg19_fcn_upconv_dice_DA_K0_weights.h5\n"
     ]
    },
    {
     "name": "stderr",
     "output_type": "stream",
     "text": [
      "100%|██████████| 30/30 [01:42<00:00,  3.15s/it]\n"
     ]
    },
    {
     "name": "stdout",
     "output_type": "stream",
     "text": [
      "Finished K0\n",
      "\n",
      "no pp\n",
      "Working with vgg19FCN\n"
     ]
    },
    {
     "name": "stderr",
     "output_type": "stream",
     "text": [
      "\r",
      "  0%|          | 0/30 [00:00<?, ?it/s]"
     ]
    },
    {
     "name": "stdout",
     "output_type": "stream",
     "text": [
      "loading weights from ./logs/vgg19FCN/kfold_vgg19FCN/kfold_vgg19FCN_dice_DA_K0/kfold_vgg19FCN_dice_DA_K0_weights.h5\n"
     ]
    },
    {
     "name": "stderr",
     "output_type": "stream",
     "text": [
      "100%|██████████| 30/30 [01:43<00:00,  3.21s/it]\n"
     ]
    },
    {
     "name": "stdout",
     "output_type": "stream",
     "text": [
      "Finished K0\n",
      "\n",
      "no pp\n",
      "Working with unet_se\n",
      "loading weights from ./logs/unet_se/kfold_unet_se/kfold_unet_se_dice_DA_K0/kfold_unet_se_dice_DA_K0_weights.h5\n"
     ]
    },
    {
     "name": "stderr",
     "output_type": "stream",
     "text": [
      "100%|██████████| 30/30 [01:41<00:00,  3.19s/it]\n"
     ]
    },
    {
     "name": "stdout",
     "output_type": "stream",
     "text": [
      "Finished K0\n",
      "\n",
      "pp\n",
      "Working with unet\n",
      "loading weights from ./logs/unet/kfold_unet/kfold_unet_dice_DA_K0/kfold_unet_dice_DA_K0_weights.h5\n"
     ]
    },
    {
     "name": "stderr",
     "output_type": "stream",
     "text": [
      "100%|██████████| 30/30 [01:41<00:00,  3.20s/it]\n"
     ]
    },
    {
     "name": "stdout",
     "output_type": "stream",
     "text": [
      "Finished K0\n",
      "\n",
      "pp\n",
      "Working with unet_bn_bce_dice_loss\n",
      "BCE_DICE\n",
      "loading weights from ./logs/unet_bn_bce_dice_loss/kfold_unet_bn_bce_dice_loss/kfold_unet_bn_bce_dice_loss_dice_DA_K0/kfold_unet_bn_bce_dice_loss_dice_DA_K0_weights.h5\n"
     ]
    },
    {
     "name": "stderr",
     "output_type": "stream",
     "text": [
      "100%|██████████| 30/30 [01:43<00:00,  3.21s/it]\n"
     ]
    },
    {
     "name": "stdout",
     "output_type": "stream",
     "text": [
      "Finished K0\n",
      "\n",
      "pp\n",
      "Working with vgg19_fcn_upconv\n",
      "loading weights from ./logs/vgg19_fcn_upconv/kfold_vgg19_fcn_upconv/kfold_vgg19_fcn_upconv_dice_DA_K0/kfold_vgg19_fcn_upconv_dice_DA_K0_weights.h5\n"
     ]
    },
    {
     "name": "stderr",
     "output_type": "stream",
     "text": [
      "100%|██████████| 30/30 [01:44<00:00,  3.22s/it]\n"
     ]
    },
    {
     "name": "stdout",
     "output_type": "stream",
     "text": [
      "Finished K0\n",
      "\n",
      "pp\n",
      "Working with vgg19FCN\n",
      "loading weights from ./logs/vgg19FCN/kfold_vgg19FCN/kfold_vgg19FCN_dice_DA_K0/kfold_vgg19FCN_dice_DA_K0_weights.h5\n"
     ]
    },
    {
     "name": "stderr",
     "output_type": "stream",
     "text": [
      "100%|██████████| 30/30 [01:44<00:00,  3.24s/it]\n"
     ]
    },
    {
     "name": "stdout",
     "output_type": "stream",
     "text": [
      "Finished K0\n",
      "\n",
      "pp\n",
      "Working with unet_se\n",
      "loading weights from ./logs/unet_se/kfold_unet_se/kfold_unet_se_dice_DA_K0/kfold_unet_se_dice_DA_K0_weights.h5\n"
     ]
    },
    {
     "name": "stderr",
     "output_type": "stream",
     "text": [
      "100%|██████████| 30/30 [01:40<00:00,  3.17s/it]"
     ]
    },
    {
     "name": "stdout",
     "output_type": "stream",
     "text": [
      "Finished K0\n"
     ]
    },
    {
     "name": "stderr",
     "output_type": "stream",
     "text": [
      "\n"
     ]
    }
   ],
   "source": [
    "\n",
    "model_types = ['unet', 'vgg19_fcn_upconv', 'vgg19FCN', 'unet_se']\n",
    "\n",
    "for post_processing in [False, True]:\n",
    "    \n",
    "    for model_type in model_types:\n",
    "        \n",
    "        print()\n",
    "        if post_processing:\n",
    "            print('pp')\n",
    "        else:\n",
    "            print('no pp')\n",
    "                \n",
    "        dh = DataHandler()\n",
    "        all_dice = []\n",
    "        all_hd = []\n",
    "        all_hd95 = []\n",
    "        all_names = []\n",
    "\n",
    "        for i in range(len(kfold_indices)):\n",
    "            exp_name = 'kfold_%s_dice_DA_K%d'%(model_type, i)\n",
    "\n",
    "            #get parameters\n",
    "            params = getParams(exp_name, unet_type=model_type)\n",
    "\n",
    "            val_img_files = np.take(image_files, kfold_indices[i]['val'])\n",
    "            val_mask_files = np.take(mask_files, kfold_indices[i]['val'])\n",
    "\n",
    "            model = getModel(model_type)\n",
    "\n",
    "            print('loading weights from %s'%params['checkpoint']['name'])\n",
    "            model.load_weights(params['checkpoint']['name'])\n",
    "\n",
    "            data = zip(val_img_files, val_mask_files)\n",
    "\n",
    "            dice_score, hd_score, hd95_score, names = predictAll(model, model_type, data, \n",
    "                                                                 num_data=len(val_mask_files),\n",
    "                                                                post_processing = post_processing)\n",
    "\n",
    "            print('Finished K%d'%i)\n",
    "\n",
    "            all_dice += dice_score\n",
    "            all_hd += hd_score\n",
    "            all_hd95 += hd95_score\n",
    "            all_names.extend(names)\n",
    "            \n",
    "        if post_processing:\n",
    "            report_name = 'data/eval_pp/' + model_type + '/' + model_type + '_report.txt'\n",
    "            \n",
    "        else:\n",
    "            report_name = 'data/eval/' + model_type + '/' + model_type + '_report.txt'\n",
    "            \n",
    "        with open(report_name, 'w+') as f:\n",
    "            for i in range(len(all_dice)):\n",
    "                f.write(\"%s, %f, %f, %f\\n\"%(all_names[i],\n",
    "                                          all_dice[i],\n",
    "                                          all_hd[i],\n",
    "                                          all_hd95[i]))\n",
    "                \n",
    "            f.write('\\n')\n",
    "            f.write('Final results for %s\\n'%model_type)\n",
    "            f.write('dice %f\\n'%np.mean(all_dice))\n",
    "            f.write('hd %f\\n'%np.mean(all_hd))\n",
    "            f.write('hd95 %f\\n'%np.mean(all_hd95))\n"
   ]
  },
  {
   "cell_type": "code",
   "execution_count": null,
   "metadata": {},
   "outputs": [],
   "source": []
  }
 ],
 "metadata": {
  "kernelspec": {
   "display_name": "Python 3",
   "language": "python",
   "name": "python3"
  },
  "language_info": {
   "codemirror_mode": {
    "name": "ipython",
    "version": 3
   },
   "file_extension": ".py",
   "mimetype": "text/x-python",
   "name": "python",
   "nbconvert_exporter": "python",
   "pygments_lexer": "ipython3",
   "version": "3.6.7"
  }
 },
 "nbformat": 4,
 "nbformat_minor": 2
}
