{
 "cells": [
  {
   "cell_type": "code",
   "execution_count": 1,
   "metadata": {},
   "outputs": [
    {
     "name": "stderr",
     "output_type": "stream",
     "text": [
      "Using TensorFlow backend.\n"
     ]
    }
   ],
   "source": [
    "import os\n",
    "import cv2\n",
    "import glob\n",
    "import numpy as np\n",
    "import skimage.io as io\n",
    "from tqdm import tqdm\n",
    "from medpy.io import save\n",
    "from matplotlib import pyplot as plt\n",
    "from tta_wrapper import tta_segmentation\n",
    "from sklearn.metrics import f1_score, jaccard_similarity_score\n",
    "\n",
    "import tensorflow as tf\n",
    "from keras import backend as K\n",
    "from keras.models import *\n",
    "from keras.preprocessing.image import ImageDataGenerator\n",
    "\n",
    "from models.unet import *\n",
    "from datahandler import DataHandler\n",
    "\n",
    "%matplotlib inline"
   ]
  },
  {
   "cell_type": "markdown",
   "metadata": {},
   "source": [
    "### 1. Load Model and Images"
   ]
  },
  {
   "cell_type": "code",
   "execution_count": 2,
   "metadata": {},
   "outputs": [],
   "source": [
    "model = getUnet()\n",
    "model.load_weights('logs/unet/unet_dice_nobells/unet_dice_nobells_weights.h5')\n",
    "\n",
    "params = dict(\n",
    "        h_flip=True,\n",
    "        v_flip=True,\n",
    "        rotation=(90, 180, 270),\n",
    "        merge='mean')\n",
    "\n",
    "tta_model = tta_segmentation(model, **params)\n",
    "\n",
    "dh = DataHandler()\n",
    "\n",
    "def resetSeed():\n",
    "    np.random.seed(1)\n",
    "\n",
    "def getGenerator(images, bs=32):\n",
    "    resetSeed()\n",
    "\n",
    "    image_datagen = ImageDataGenerator(rescale=1./255)\n",
    "    image_datagen.fit(images, augment = True)\n",
    "    image_generator = image_datagen.flow(x = images, batch_size=bs,\n",
    "            shuffle = False)\n",
    "\n",
    "    return image_generator"
   ]
  },
  {
   "cell_type": "code",
   "execution_count": 28,
   "metadata": {},
   "outputs": [],
   "source": [
    "def ensemble_prediction(image):\n",
    "    \"\"\"Test time augmentation method using non-maximum supression\"\"\"\n",
    "\n",
    "    masks = []    \n",
    "\n",
    "    results = {}\n",
    "\n",
    "    result = model.predict(image)\n",
    "    print(result.shape)\n",
    "    \n",
    "    if result.shape[2] == 0:\n",
    "        return result\n",
    "    \n",
    "    masks.append(result)\n",
    "\n",
    "    temp_img = np.fliplr(image)\n",
    "    result = model.predict(temp_img)\n",
    "    mask = np.fliplr(result)\n",
    "    masks.append(mask)\n",
    "\n",
    "    temp_img = np.flipud(image)\n",
    "    result = model.predict(temp_img)\n",
    "    mask = np.flipud(result)\n",
    "    masks.append(mask)\n",
    "    \n",
    "    temp_img = np.roll(image, 10, axis=0)\n",
    "    result = model.predict(temp_img)\n",
    "    mask = np.roll(result, -10, axis=0)\n",
    "    masks.append(mask)\n",
    "    \n",
    "    temp_img = np.roll(image, 10, axis=1)\n",
    "    result = model.predict(temp_img)\n",
    "    mask = np.roll(result, -10, axis=1)\n",
    "    masks.append(mask)\n",
    "\n",
    "    angles = [90,180,270]\n",
    "    for angle in angles:\n",
    "        temp_img = np.rot90(image, k=angle, axes=(0, 1))\n",
    "        result = model.predict(temp_img)\n",
    "        mask = np.rot90(result, k=-angle, axes=(0, 1))\n",
    "        masks.append(mask)\n",
    "\n",
    "    masks = np.concatenate(masks, axis=-1)\n",
    "    print(masks.shape)\n",
    "\n",
    "    masks = np.sum(masks, axis=-1)\n",
    "    masks[masks<6] = 0\n",
    "    masks[masks>=6] = 1\n",
    "\n",
    "    results['masks'] = mask\n",
    "\n",
    "    return results"
   ]
  },
  {
   "cell_type": "markdown",
   "metadata": {},
   "source": [
    "### 2. Model Evaluation"
   ]
  },
  {
   "cell_type": "code",
   "execution_count": 33,
   "metadata": {},
   "outputs": [],
   "source": [
    "def destiny_directory(data_origin, dice_score):\n",
    "    pre = './data/eval/unet_'+data_origin+'/'\n",
    "    if dice_score >= 98:\n",
    "        return pre + 'dice_98_100/'\n",
    "    elif dice_score >= 96:\n",
    "        return pre + 'dice_96_98/'\n",
    "    elif dice_score >= 94:\n",
    "        return pre + 'dice_94_96/'\n",
    "    elif dice_score >= 92:\n",
    "        return pre + 'dice_92_94/'\n",
    "    elif dice_score >= 90:\n",
    "        return pre + 'dice_90_92/'\n",
    "    elif dice_score >= 88:\n",
    "        return pre + 'dice_88_90/'\n",
    "    elif dice_score >= 85:\n",
    "        return pre + 'dice_85_88'\n",
    "    elif dice_score >= 80:\n",
    "        return pre + 'dice_80_85/'\n",
    "    elif dice_score >= 70:\n",
    "        return pre + 'dice_70_80/'\n",
    "    elif dice_score >= 60:\n",
    "        return pre + 'dice_60_70/'\n",
    "    else:\n",
    "        return pre + 'dice_less_60'\n",
    "    \n",
    "def getFileName(fname):\n",
    "    original_name = fname.split('/')[-1]\n",
    "    original_name = original_name[:original_name.index('.')]\n",
    "    return original_name\n",
    "\n",
    "def predictMask(image, tta=None, my_tta=False):\n",
    "    if my_tta:\n",
    "        results = []\n",
    "        for i in range(image.shape[0]):\n",
    "            img = image[i,:,:,:]\n",
    "            results = ensemble_prediction(img)\n",
    "            results[results>=0.5] = 1\n",
    "            results[results<0.5] = 0\n",
    "        return results\n",
    "    \n",
    "    if tta:\n",
    "        images = []\n",
    "        for im in image:\n",
    "            images.append(im)\n",
    "        \n",
    "        images = np.asarray(images)\n",
    "        test_gen = getGenerator(images, bs=1)\n",
    "        results = tta.predict_generator(test_gen, len(images), verbose=0)\n",
    "        results[results>=0.5] = 1\n",
    "        results[results<0.5] = 0\n",
    "        return results\n",
    "    \n",
    "    return model.predict(image)\n",
    "\n",
    "def evaluateMask(ground_truth, prediction):\n",
    "    #convert to boolean values and flatten\n",
    "    ground_truth = np.asarray(ground_truth, dtype=np.bool).flatten()\n",
    "    prediction = np.asarray(prediction, dtype=np.bool).flatten()    \n",
    "    return f1_score(ground_truth, prediction)\n",
    "\n",
    "def saveAll(data_origin, fname, hdr, image, gt_mask, pred_mask, score):\n",
    "    fname = getFileName(fname)\n",
    "    dice_score = int(score * 100)\n",
    "    \n",
    "    save_path = destiny_directory(data_origin, dice_score)\n",
    "        \n",
    "    save(pred_mask, os.path.join(save_path, fname + '_pred_' \n",
    "        + str(dice_score) + '.nii'), hdr)\n",
    "    save(image, os.path.join(save_path, fname + '_img.nii'), hdr)\n",
    "    save(gt_mask, os.path.join(save_path, fname + '_mask.nii'), hdr)\n",
    "    "
   ]
  },
  {
   "cell_type": "markdown",
   "metadata": {},
   "source": [
    "### 2.1 Refinement"
   ]
  },
  {
   "cell_type": "code",
   "execution_count": 5,
   "metadata": {},
   "outputs": [],
   "source": [
    "def chooseComponent(image):\n",
    "    image = image.astype('uint8')\n",
    "    new_image = np.zeros(image.shape)\n",
    "    for i in range(image.shape[0]):\n",
    "        image_slice = image[i,:,:,:]\n",
    "        nb_components, output, stats, centroids = cv2.connectedComponentsWithStats(\n",
    "        image_slice, connectivity=4)\n",
    "        sizes = stats[:, -1]\n",
    " \n",
    "        max_label = 1\n",
    "        if len(sizes) < 3:\n",
    "            return image\n",
    "        \n",
    "        max_size = sizes[1]\n",
    "        \n",
    "        for j in range(2, nb_components):\n",
    "            if sizes[j] > max_size:\n",
    "                max_label = j\n",
    "                max_size = sizes[j]\n",
    " \n",
    "        new_slice = np.zeros(output.shape)\n",
    "        new_slice[output == max_label] = 1\n",
    "        new_slice = new_slice[..., np.newaxis]\n",
    "        \n",
    "        new_image[i,:,:,:] = new_slice\n",
    "    \n",
    "    return new_image"
   ]
  },
  {
   "cell_type": "markdown",
   "metadata": {},
   "source": [
    "### 3. Predict masks and evaluate"
   ]
  },
  {
   "cell_type": "code",
   "execution_count": 23,
   "metadata": {},
   "outputs": [],
   "source": [
    "def predictAll(data_origin, dict_prefix, keep_main_only=False, tta=None, my_tta=False):\n",
    "    print(my_tta)\n",
    "    images_dir = './data/'+data_origin+'/images/*'\n",
    "    masks_dir = './data/'+data_origin+'/masks/*'\n",
    "    \n",
    "    data_origin+=dict_prefix\n",
    "    \n",
    "    glob_images = sorted(glob.glob(images_dir))\n",
    "    glob_masks = sorted(glob.glob(masks_dir))\n",
    "    \n",
    "    inputs = zip(glob_images, glob_masks)\n",
    "    dice_scores = []\n",
    "\n",
    "    for image_file, mask_file in tqdm(inputs, total=len(glob_images)):\n",
    "        image, hdr = dh.getImageData(image_file)\n",
    "        gt_mask, _ = dh.getImageData(mask_file, is_mask=True)\n",
    "\n",
    "        assert image.shape == gt_mask.shape\n",
    "        if image.shape[1] != 256:\n",
    "            continue\n",
    "\n",
    "        pred_mask = predictMask(image, tta, my_tta)\n",
    "        \n",
    "        if keep_main_only:\n",
    "            pred_mask = chooseComponent(pred_mask)\n",
    "            \n",
    "        score = evaluateMask(gt_mask, pred_mask)\n",
    "        dice_scores.append(score)\n",
    "            \n",
    "        saveAll(data_origin, image_file, hdr, image, \n",
    "                gt_mask, pred_mask, score)\n",
    "\n",
    "    print('Number of images %d'%len(dice_scores))\n",
    "    print(np.mean(dice_scores))"
   ]
  },
  {
   "cell_type": "markdown",
   "metadata": {},
   "source": [
    "### Vanilla Run"
   ]
  },
  {
   "cell_type": "code",
   "execution_count": 7,
   "metadata": {
    "scrolled": true
   },
   "outputs": [
    {
     "name": "stderr",
     "output_type": "stream",
     "text": [
      "100%|██████████| 43/43 [01:55<00:00,  2.51s/it]"
     ]
    },
    {
     "name": "stdout",
     "output_type": "stream",
     "text": [
      "Number of images 43\n",
      "0.8337489323247731\n"
     ]
    },
    {
     "name": "stderr",
     "output_type": "stream",
     "text": [
      "\n"
     ]
    }
   ],
   "source": [
    "data_origin = 'test'\n",
    "dict_prefix = ''\n",
    "predictAll(data_origin, dict_prefix)"
   ]
  },
  {
   "cell_type": "markdown",
   "metadata": {},
   "source": [
    "### Keeping largest component"
   ]
  },
  {
   "cell_type": "code",
   "execution_count": 8,
   "metadata": {
    "scrolled": false
   },
   "outputs": [
    {
     "name": "stderr",
     "output_type": "stream",
     "text": [
      "100%|██████████| 43/43 [01:45<00:00,  2.41s/it]"
     ]
    },
    {
     "name": "stdout",
     "output_type": "stream",
     "text": [
      "Number of images 43\n",
      "0.8562939566958778\n"
     ]
    },
    {
     "name": "stderr",
     "output_type": "stream",
     "text": [
      "\n"
     ]
    }
   ],
   "source": [
    "data_origin = 'test'\n",
    "dict_prefix = 'CC'\n",
    "predictAll(data_origin, dict_prefix, keep_main_only=True)"
   ]
  },
  {
   "cell_type": "markdown",
   "metadata": {},
   "source": [
    "### TTA"
   ]
  },
  {
   "cell_type": "code",
   "execution_count": 9,
   "metadata": {},
   "outputs": [
    {
     "name": "stderr",
     "output_type": "stream",
     "text": [
      "100%|██████████| 43/43 [04:09<00:00,  5.69s/it]"
     ]
    },
    {
     "name": "stdout",
     "output_type": "stream",
     "text": [
      "Number of images 43\n",
      "0.923457878437851\n"
     ]
    },
    {
     "name": "stderr",
     "output_type": "stream",
     "text": [
      "\n"
     ]
    }
   ],
   "source": [
    "data_origin = 'test'\n",
    "dict_prefix = 'TTA'\n",
    "predictAll(data_origin, dict_prefix, tta=tta_model)"
   ]
  },
  {
   "cell_type": "code",
   "execution_count": 34,
   "metadata": {},
   "outputs": [
    {
     "name": "stderr",
     "output_type": "stream",
     "text": [
      "\n",
      "\n",
      "\n",
      "\n",
      "\n",
      "  0%|          | 0/43 [00:00<?, ?it/s]\u001b[A\u001b[A\u001b[A\u001b[A\u001b[A"
     ]
    },
    {
     "name": "stdout",
     "output_type": "stream",
     "text": [
      "True\n"
     ]
    },
    {
     "ename": "ValueError",
     "evalue": "Error when checking input: expected input_1 to have 4 dimensions, but got array with shape (256, 256, 1)",
     "output_type": "error",
     "traceback": [
      "\u001b[0;31m---------------------------------------------------------------------------\u001b[0m",
      "\u001b[0;31mValueError\u001b[0m                                Traceback (most recent call last)",
      "\u001b[0;32m<ipython-input-34-d024a3e13308>\u001b[0m in \u001b[0;36m<module>\u001b[0;34m\u001b[0m\n\u001b[1;32m      1\u001b[0m \u001b[0mdata_origin\u001b[0m \u001b[0;34m=\u001b[0m \u001b[0;34m'test'\u001b[0m\u001b[0;34m\u001b[0m\u001b[0;34m\u001b[0m\u001b[0m\n\u001b[1;32m      2\u001b[0m \u001b[0mdict_prefix\u001b[0m \u001b[0;34m=\u001b[0m \u001b[0;34m'TTA_MINE'\u001b[0m\u001b[0;34m\u001b[0m\u001b[0;34m\u001b[0m\u001b[0m\n\u001b[0;32m----> 3\u001b[0;31m \u001b[0mpredictAll\u001b[0m\u001b[0;34m(\u001b[0m\u001b[0mdata_origin\u001b[0m\u001b[0;34m,\u001b[0m \u001b[0mdict_prefix\u001b[0m\u001b[0;34m,\u001b[0m \u001b[0mmy_tta\u001b[0m\u001b[0;34m=\u001b[0m\u001b[0;32mTrue\u001b[0m\u001b[0;34m)\u001b[0m\u001b[0;34m\u001b[0m\u001b[0;34m\u001b[0m\u001b[0m\n\u001b[0m",
      "\u001b[0;32m<ipython-input-23-097d06ff83ef>\u001b[0m in \u001b[0;36mpredictAll\u001b[0;34m(data_origin, dict_prefix, keep_main_only, tta, my_tta)\u001b[0m\n\u001b[1;32m     20\u001b[0m             \u001b[0;32mcontinue\u001b[0m\u001b[0;34m\u001b[0m\u001b[0;34m\u001b[0m\u001b[0m\n\u001b[1;32m     21\u001b[0m \u001b[0;34m\u001b[0m\u001b[0m\n\u001b[0;32m---> 22\u001b[0;31m         \u001b[0mpred_mask\u001b[0m \u001b[0;34m=\u001b[0m \u001b[0mpredictMask\u001b[0m\u001b[0;34m(\u001b[0m\u001b[0mimage\u001b[0m\u001b[0;34m,\u001b[0m \u001b[0mtta\u001b[0m\u001b[0;34m,\u001b[0m \u001b[0mmy_tta\u001b[0m\u001b[0;34m)\u001b[0m\u001b[0;34m\u001b[0m\u001b[0;34m\u001b[0m\u001b[0m\n\u001b[0m\u001b[1;32m     23\u001b[0m \u001b[0;34m\u001b[0m\u001b[0m\n\u001b[1;32m     24\u001b[0m         \u001b[0;32mif\u001b[0m \u001b[0mkeep_main_only\u001b[0m\u001b[0;34m:\u001b[0m\u001b[0;34m\u001b[0m\u001b[0;34m\u001b[0m\u001b[0m\n",
      "\u001b[0;32m<ipython-input-33-054651802aab>\u001b[0m in \u001b[0;36mpredictMask\u001b[0;34m(image, tta, my_tta)\u001b[0m\n\u001b[1;32m     34\u001b[0m         \u001b[0;32mfor\u001b[0m \u001b[0mi\u001b[0m \u001b[0;32min\u001b[0m \u001b[0mrange\u001b[0m\u001b[0;34m(\u001b[0m\u001b[0mimage\u001b[0m\u001b[0;34m.\u001b[0m\u001b[0mshape\u001b[0m\u001b[0;34m[\u001b[0m\u001b[0;36m0\u001b[0m\u001b[0;34m]\u001b[0m\u001b[0;34m)\u001b[0m\u001b[0;34m:\u001b[0m\u001b[0;34m\u001b[0m\u001b[0;34m\u001b[0m\u001b[0m\n\u001b[1;32m     35\u001b[0m             \u001b[0mimg\u001b[0m \u001b[0;34m=\u001b[0m \u001b[0mimage\u001b[0m\u001b[0;34m[\u001b[0m\u001b[0mi\u001b[0m\u001b[0;34m,\u001b[0m\u001b[0;34m:\u001b[0m\u001b[0;34m,\u001b[0m\u001b[0;34m:\u001b[0m\u001b[0;34m,\u001b[0m\u001b[0;34m:\u001b[0m\u001b[0;34m]\u001b[0m\u001b[0;34m\u001b[0m\u001b[0;34m\u001b[0m\u001b[0m\n\u001b[0;32m---> 36\u001b[0;31m             \u001b[0mresults\u001b[0m \u001b[0;34m=\u001b[0m \u001b[0mensemble_prediction\u001b[0m\u001b[0;34m(\u001b[0m\u001b[0mimg\u001b[0m\u001b[0;34m)\u001b[0m\u001b[0;34m\u001b[0m\u001b[0;34m\u001b[0m\u001b[0m\n\u001b[0m\u001b[1;32m     37\u001b[0m             \u001b[0mresults\u001b[0m\u001b[0;34m[\u001b[0m\u001b[0mresults\u001b[0m\u001b[0;34m>=\u001b[0m\u001b[0;36m0.5\u001b[0m\u001b[0;34m]\u001b[0m \u001b[0;34m=\u001b[0m \u001b[0;36m1\u001b[0m\u001b[0;34m\u001b[0m\u001b[0;34m\u001b[0m\u001b[0m\n\u001b[1;32m     38\u001b[0m             \u001b[0mresults\u001b[0m\u001b[0;34m[\u001b[0m\u001b[0mresults\u001b[0m\u001b[0;34m<\u001b[0m\u001b[0;36m0.5\u001b[0m\u001b[0;34m]\u001b[0m \u001b[0;34m=\u001b[0m \u001b[0;36m0\u001b[0m\u001b[0;34m\u001b[0m\u001b[0;34m\u001b[0m\u001b[0m\n",
      "\u001b[0;32m<ipython-input-28-334eaf4be5b0>\u001b[0m in \u001b[0;36mensemble_prediction\u001b[0;34m(image)\u001b[0m\n\u001b[1;32m      6\u001b[0m     \u001b[0mresults\u001b[0m \u001b[0;34m=\u001b[0m \u001b[0;34m{\u001b[0m\u001b[0;34m}\u001b[0m\u001b[0;34m\u001b[0m\u001b[0;34m\u001b[0m\u001b[0m\n\u001b[1;32m      7\u001b[0m \u001b[0;34m\u001b[0m\u001b[0m\n\u001b[0;32m----> 8\u001b[0;31m     \u001b[0mresult\u001b[0m \u001b[0;34m=\u001b[0m \u001b[0mmodel\u001b[0m\u001b[0;34m.\u001b[0m\u001b[0mpredict\u001b[0m\u001b[0;34m(\u001b[0m\u001b[0mimage\u001b[0m\u001b[0;34m)\u001b[0m\u001b[0;34m\u001b[0m\u001b[0;34m\u001b[0m\u001b[0m\n\u001b[0m\u001b[1;32m      9\u001b[0m     \u001b[0mprint\u001b[0m\u001b[0;34m(\u001b[0m\u001b[0mresult\u001b[0m\u001b[0;34m.\u001b[0m\u001b[0mshape\u001b[0m\u001b[0;34m)\u001b[0m\u001b[0;34m\u001b[0m\u001b[0;34m\u001b[0m\u001b[0m\n\u001b[1;32m     10\u001b[0m \u001b[0;34m\u001b[0m\u001b[0m\n",
      "\u001b[0;32m~/.local/share/virtualenvs/fetal-brain-segmentation-9O2pP5m0/lib/python3.6/site-packages/keras/engine/training.py\u001b[0m in \u001b[0;36mpredict\u001b[0;34m(self, x, batch_size, verbose, steps)\u001b[0m\n\u001b[1;32m   1147\u001b[0m                              'argument.')\n\u001b[1;32m   1148\u001b[0m         \u001b[0;31m# Validate user data.\u001b[0m\u001b[0;34m\u001b[0m\u001b[0;34m\u001b[0m\u001b[0;34m\u001b[0m\u001b[0m\n\u001b[0;32m-> 1149\u001b[0;31m         \u001b[0mx\u001b[0m\u001b[0;34m,\u001b[0m \u001b[0m_\u001b[0m\u001b[0;34m,\u001b[0m \u001b[0m_\u001b[0m \u001b[0;34m=\u001b[0m \u001b[0mself\u001b[0m\u001b[0;34m.\u001b[0m\u001b[0m_standardize_user_data\u001b[0m\u001b[0;34m(\u001b[0m\u001b[0mx\u001b[0m\u001b[0;34m)\u001b[0m\u001b[0;34m\u001b[0m\u001b[0;34m\u001b[0m\u001b[0m\n\u001b[0m\u001b[1;32m   1150\u001b[0m         \u001b[0;32mif\u001b[0m \u001b[0mself\u001b[0m\u001b[0;34m.\u001b[0m\u001b[0mstateful\u001b[0m\u001b[0;34m:\u001b[0m\u001b[0;34m\u001b[0m\u001b[0;34m\u001b[0m\u001b[0m\n\u001b[1;32m   1151\u001b[0m             \u001b[0;32mif\u001b[0m \u001b[0mx\u001b[0m\u001b[0;34m[\u001b[0m\u001b[0;36m0\u001b[0m\u001b[0;34m]\u001b[0m\u001b[0;34m.\u001b[0m\u001b[0mshape\u001b[0m\u001b[0;34m[\u001b[0m\u001b[0;36m0\u001b[0m\u001b[0;34m]\u001b[0m \u001b[0;34m>\u001b[0m \u001b[0mbatch_size\u001b[0m \u001b[0;32mand\u001b[0m \u001b[0mx\u001b[0m\u001b[0;34m[\u001b[0m\u001b[0;36m0\u001b[0m\u001b[0;34m]\u001b[0m\u001b[0;34m.\u001b[0m\u001b[0mshape\u001b[0m\u001b[0;34m[\u001b[0m\u001b[0;36m0\u001b[0m\u001b[0;34m]\u001b[0m \u001b[0;34m%\u001b[0m \u001b[0mbatch_size\u001b[0m \u001b[0;34m!=\u001b[0m \u001b[0;36m0\u001b[0m\u001b[0;34m:\u001b[0m\u001b[0;34m\u001b[0m\u001b[0;34m\u001b[0m\u001b[0m\n",
      "\u001b[0;32m~/.local/share/virtualenvs/fetal-brain-segmentation-9O2pP5m0/lib/python3.6/site-packages/keras/engine/training.py\u001b[0m in \u001b[0;36m_standardize_user_data\u001b[0;34m(self, x, y, sample_weight, class_weight, check_array_lengths, batch_size)\u001b[0m\n\u001b[1;32m    749\u001b[0m             \u001b[0mfeed_input_shapes\u001b[0m\u001b[0;34m,\u001b[0m\u001b[0;34m\u001b[0m\u001b[0;34m\u001b[0m\u001b[0m\n\u001b[1;32m    750\u001b[0m             \u001b[0mcheck_batch_axis\u001b[0m\u001b[0;34m=\u001b[0m\u001b[0;32mFalse\u001b[0m\u001b[0;34m,\u001b[0m  \u001b[0;31m# Don't enforce the batch size.\u001b[0m\u001b[0;34m\u001b[0m\u001b[0;34m\u001b[0m\u001b[0m\n\u001b[0;32m--> 751\u001b[0;31m             exception_prefix='input')\n\u001b[0m\u001b[1;32m    752\u001b[0m \u001b[0;34m\u001b[0m\u001b[0m\n\u001b[1;32m    753\u001b[0m         \u001b[0;32mif\u001b[0m \u001b[0my\u001b[0m \u001b[0;32mis\u001b[0m \u001b[0;32mnot\u001b[0m \u001b[0;32mNone\u001b[0m\u001b[0;34m:\u001b[0m\u001b[0;34m\u001b[0m\u001b[0;34m\u001b[0m\u001b[0m\n",
      "\u001b[0;32m~/.local/share/virtualenvs/fetal-brain-segmentation-9O2pP5m0/lib/python3.6/site-packages/keras/engine/training_utils.py\u001b[0m in \u001b[0;36mstandardize_input_data\u001b[0;34m(data, names, shapes, check_batch_axis, exception_prefix)\u001b[0m\n\u001b[1;32m    126\u001b[0m                         \u001b[0;34m': expected '\u001b[0m \u001b[0;34m+\u001b[0m \u001b[0mnames\u001b[0m\u001b[0;34m[\u001b[0m\u001b[0mi\u001b[0m\u001b[0;34m]\u001b[0m \u001b[0;34m+\u001b[0m \u001b[0;34m' to have '\u001b[0m \u001b[0;34m+\u001b[0m\u001b[0;34m\u001b[0m\u001b[0;34m\u001b[0m\u001b[0m\n\u001b[1;32m    127\u001b[0m                         \u001b[0mstr\u001b[0m\u001b[0;34m(\u001b[0m\u001b[0mlen\u001b[0m\u001b[0;34m(\u001b[0m\u001b[0mshape\u001b[0m\u001b[0;34m)\u001b[0m\u001b[0;34m)\u001b[0m \u001b[0;34m+\u001b[0m \u001b[0;34m' dimensions, but got array '\u001b[0m\u001b[0;34m\u001b[0m\u001b[0;34m\u001b[0m\u001b[0m\n\u001b[0;32m--> 128\u001b[0;31m                         'with shape ' + str(data_shape))\n\u001b[0m\u001b[1;32m    129\u001b[0m                 \u001b[0;32mif\u001b[0m \u001b[0;32mnot\u001b[0m \u001b[0mcheck_batch_axis\u001b[0m\u001b[0;34m:\u001b[0m\u001b[0;34m\u001b[0m\u001b[0;34m\u001b[0m\u001b[0m\n\u001b[1;32m    130\u001b[0m                     \u001b[0mdata_shape\u001b[0m \u001b[0;34m=\u001b[0m \u001b[0mdata_shape\u001b[0m\u001b[0;34m[\u001b[0m\u001b[0;36m1\u001b[0m\u001b[0;34m:\u001b[0m\u001b[0;34m]\u001b[0m\u001b[0;34m\u001b[0m\u001b[0;34m\u001b[0m\u001b[0m\n",
      "\u001b[0;31mValueError\u001b[0m: Error when checking input: expected input_1 to have 4 dimensions, but got array with shape (256, 256, 1)"
     ]
    }
   ],
   "source": [
    "data_origin = 'test'\n",
    "dict_prefix = 'TTA_MINE'\n",
    "predictAll(data_origin, dict_prefix, my_tta=True)"
   ]
  },
  {
   "cell_type": "markdown",
   "metadata": {},
   "source": [
    "### TTA and CC"
   ]
  },
  {
   "cell_type": "code",
   "execution_count": null,
   "metadata": {},
   "outputs": [],
   "source": [
    "data_origin = 'test'\n",
    "dict_prefix = 'TTACC'\n",
    "predictAll(data_origin, dict_prefix, keep_main_only=True, tta=tta_model)"
   ]
  }
 ],
 "metadata": {
  "celltoolbar": "Raw Cell Format",
  "kernelspec": {
   "display_name": "Python 3",
   "language": "python",
   "name": "python3"
  },
  "language_info": {
   "codemirror_mode": {
    "name": "ipython",
    "version": 3
   },
   "file_extension": ".py",
   "mimetype": "text/x-python",
   "name": "python",
   "nbconvert_exporter": "python",
   "pygments_lexer": "ipython3",
   "version": "3.6.7"
  }
 },
 "nbformat": 4,
 "nbformat_minor": 2
}
