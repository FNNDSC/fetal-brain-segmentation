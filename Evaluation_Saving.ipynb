{
 "cells": [
  {
   "cell_type": "code",
   "execution_count": 1,
   "metadata": {},
   "outputs": [
    {
     "name": "stderr",
     "output_type": "stream",
     "text": [
      "Using TensorFlow backend.\n"
     ]
    }
   ],
   "source": [
    "import os\n",
    "import cv2\n",
    "import glob\n",
    "import numpy as np\n",
    "import skimage.io as io\n",
    "from tqdm import tqdm\n",
    "from medpy.io import save\n",
    "from matplotlib import pyplot as plt\n",
    "from tta_wrapper import tta_segmentation\n",
    "from sklearn.metrics import f1_score, jaccard_similarity_score\n",
    "\n",
    "import tensorflow as tf\n",
    "from keras import backend as K\n",
    "from keras.models import *\n",
    "from keras.preprocessing.image import ImageDataGenerator\n",
    "\n",
    "from models.unet import *\n",
    "from datahandler import DataHandler\n",
    "\n",
    "%matplotlib inline"
   ]
  },
  {
   "cell_type": "markdown",
   "metadata": {},
   "source": [
    "### 1. Load Model and Images"
   ]
  },
  {
   "cell_type": "code",
   "execution_count": 2,
   "metadata": {},
   "outputs": [],
   "source": [
    "model = getUnet()\n",
    "model.load_weights('logs/unet/unet_dice_nobells/unet_dice_nobells_weights.h5')\n",
    "\n",
    "params = dict(\n",
    "        h_flip=True,\n",
    "        v_flip=True,\n",
    "        h_shift=None,\n",
    "        v_shift=None,\n",
    "        rotation=(90,180,270),\n",
    "        contrast=None,\n",
    "        add=None,\n",
    "        mul=None,\n",
    "        merge='mean')\n",
    "\n",
    "tta_model = tta_segmentation(model, **params)\n",
    "\n",
    "dh = DataHandler()\n",
    "\n",
    "def resetSeed():\n",
    "    np.random.seed(1)\n"
   ]
  },
  {
   "cell_type": "code",
   "execution_count": 3,
   "metadata": {},
   "outputs": [],
   "source": [
    "def getGenerator(images, bs=1):\n",
    "    resetSeed()\n",
    "\n",
    "    image_datagen = ImageDataGenerator(rescale=1./255)\n",
    "    image_datagen.fit(images, augment = True)\n",
    "    image_generator = image_datagen.flow(x = images, batch_size=bs,\n",
    "            shuffle = False)\n",
    "\n",
    "    return image_generator"
   ]
  },
  {
   "cell_type": "markdown",
   "metadata": {},
   "source": [
    "### 2. Model Evaluation"
   ]
  },
  {
   "cell_type": "code",
   "execution_count": 4,
   "metadata": {},
   "outputs": [],
   "source": [
    "def destiny_directory(data_origin, dice_score):\n",
    "    pre = './data/eval/unet_'+data_origin+'/'\n",
    "    if dice_score >= 98:\n",
    "        return pre + 'dice_98_100/'\n",
    "    elif dice_score >= 96:\n",
    "        return pre + 'dice_96_98/'\n",
    "    elif dice_score >= 94:\n",
    "        return pre + 'dice_94_96/'\n",
    "    elif dice_score >= 92:\n",
    "        return pre + 'dice_92_94/'\n",
    "    elif dice_score >= 90:\n",
    "        return pre + 'dice_90_92/'\n",
    "    elif dice_score >= 88:\n",
    "        return pre + 'dice_88_90/'\n",
    "    elif dice_score >= 85:\n",
    "        return pre + 'dice_85_88'\n",
    "    elif dice_score >= 80:\n",
    "        return pre + 'dice_80_85/'\n",
    "    elif dice_score >= 70:\n",
    "        return pre + 'dice_70_80/'\n",
    "    elif dice_score >= 60:\n",
    "        return pre + 'dice_60_70/'\n",
    "    else:\n",
    "        return pre + 'dice_less_60'\n",
    "    \n",
    "def getFileName(fname):\n",
    "    original_name = fname.split('/')[-1]\n",
    "    original_name = original_name[:original_name.index('.')]\n",
    "    return original_name\n",
    "\n",
    "def evaluateMask(ground_truth, prediction):\n",
    "    #convert to boolean values and flatten\n",
    "    ground_truth = np.asarray(ground_truth, dtype=np.bool).flatten()\n",
    "    prediction = np.asarray(prediction, dtype=np.bool).flatten()    \n",
    "    return f1_score(ground_truth, prediction)\n",
    "\n",
    "def saveAll(data_origin, fname, hdr, image, gt_mask, pred_mask, score):\n",
    "    fname = getFileName(fname)\n",
    "    dice_score = int(score * 100)\n",
    "    \n",
    "    save_path = destiny_directory(data_origin, dice_score)\n",
    "        \n",
    "    save(pred_mask, os.path.join(save_path, fname + '_pred_' \n",
    "        + str(dice_score) + '.nii'), hdr)\n",
    "    save(image, os.path.join(save_path, fname + '_img.nii'), hdr)\n",
    "    save(gt_mask, os.path.join(save_path, fname + '_mask.nii'), hdr)\n",
    "    "
   ]
  },
  {
   "cell_type": "markdown",
   "metadata": {},
   "source": [
    "### 2.1 Refinement"
   ]
  },
  {
   "cell_type": "code",
   "execution_count": 5,
   "metadata": {},
   "outputs": [],
   "source": [
    "def chooseComponent(image):\n",
    "    image = image.astype('uint8')\n",
    "    new_image = np.zeros(image.shape)\n",
    "    for i in range(image.shape[0]):\n",
    "        image_slice = image[i,:,:,:]\n",
    "        nb_components, output, stats, centroids = cv2.connectedComponentsWithStats(\n",
    "        image_slice, connectivity=4)\n",
    "        sizes = stats[:, -1]\n",
    " \n",
    "        max_label = 1\n",
    "        if len(sizes) < 3:\n",
    "            return image\n",
    "        \n",
    "        max_size = sizes[1]\n",
    "        \n",
    "        for j in range(2, nb_components):\n",
    "            if sizes[j] > max_size:\n",
    "                max_label = j\n",
    "                max_size = sizes[j]\n",
    " \n",
    "        new_slice = np.zeros(output.shape)\n",
    "        new_slice[output == max_label] = 1\n",
    "        new_slice = new_slice[..., np.newaxis]\n",
    "        \n",
    "        new_image[i,:,:,:] = new_slice\n",
    "    \n",
    "    return new_image"
   ]
  },
  {
   "cell_type": "code",
   "execution_count": 6,
   "metadata": {},
   "outputs": [],
   "source": [
    "import itertools\n",
    "\n",
    "def vflip(image):\n",
    "    return np.flipud(image)\n",
    "\n",
    "def hflip(image):\n",
    "    return np.fliplr(image)\n",
    "\n",
    "def rotate(image, k):\n",
    "    return np.rot90(image, k, axes=(1,2))\n",
    "\n",
    "\n",
    "def ensemble_prediction(image, image_gen):\n",
    "    \"\"\"Test time augmentation method using non-maximum supression\"\"\"\n",
    "    prediction = np.zeros(image.shape)\n",
    "    slice_count = len(image_gen)\n",
    "    for i in range(slice_count):\n",
    "        img_slice = image_gen[i]\n",
    "        masks = []\n",
    "    \n",
    "        result = model.predict(img_slice)\n",
    "        masks.append(np.squeeze(result, axis=0))\n",
    "    \n",
    "        flip_v = [True, False]\n",
    "        flip_h = [True, False]\n",
    "        rotations = [0,1,2,3]\n",
    "        \n",
    "        transformations = list(itertools.product(flip_v, flip_h, rotations))\n",
    "        \n",
    "        for fv, fh, r in transformations:\n",
    "            result = img_slice\n",
    "            result = vflip(result) if fv else result\n",
    "            result = hflip(result) if fh else result\n",
    "            result = rotate(result, r)\n",
    "            result = model.predict(result)\n",
    "            result = rotate(result, -r)\n",
    "            result = hflip(result) if fh else result\n",
    "            result = vflip(result) if fv else result\n",
    "            masks.append(np.squeeze(result, axis=0))\n",
    "\n",
    "        masks = np.concatenate(masks, axis=-1)\n",
    "        masks = np.mean(masks, axis=-1, keepdims=True)\n",
    "        \n",
    "        prediction[i] = masks\n",
    "    return prediction"
   ]
  },
  {
   "cell_type": "markdown",
   "metadata": {},
   "source": [
    "### 3. Predict masks and evaluate"
   ]
  },
  {
   "cell_type": "code",
   "execution_count": 7,
   "metadata": {},
   "outputs": [],
   "source": [
    "def predictMask(image, tta=None, my_tta=False):\n",
    "    image_gen = getGenerator(image)\n",
    "    \n",
    "    if my_tta:\n",
    "        results = ensemble_prediction(image, image_gen)\n",
    "        return results\n",
    "    \n",
    "    if tta:\n",
    "        return tta.predict_generator(image_gen)    \n",
    "    \n",
    "    return model.predict_generator(image_gen, steps=len(image))\n",
    "\n",
    "def predictAll(data_origin, dict_prefix, keep_main_only=False, tta=None, my_tta=False):\n",
    "    images_dir = './data/'+data_origin+'/images/*'\n",
    "    masks_dir = './data/'+data_origin+'/masks/*'\n",
    "    \n",
    "    data_origin+=dict_prefix\n",
    "    \n",
    "    glob_images = sorted(glob.glob(images_dir))\n",
    "    glob_masks = sorted(glob.glob(masks_dir))\n",
    "    \n",
    "    inputs = zip(glob_images, glob_masks)\n",
    "    dice_scores = []\n",
    "\n",
    "    for image_file, mask_file in tqdm(inputs, total=len(glob_images)):\n",
    "        image, hdr = dh.getImageData(image_file)\n",
    "        gt_mask, _ = dh.getImageData(mask_file, is_mask=True)\n",
    "\n",
    "        assert image.shape == gt_mask.shape\n",
    "        if image.shape[1] != 256:\n",
    "            continue\n",
    "\n",
    "        pred_mask = predictMask(image, tta, my_tta)\n",
    "        pred_mask[pred_mask>=0.7] = 1\n",
    "        pred_mask[pred_mask<0.7] = 0\n",
    "        \n",
    "        if keep_main_only:\n",
    "            pred_mask = chooseComponent(pred_mask)\n",
    "            \n",
    "        score = evaluateMask(gt_mask, pred_mask)\n",
    "        dice_scores.append(score)\n",
    "            \n",
    "        saveAll(data_origin, image_file, hdr, image, \n",
    "                gt_mask, pred_mask, score)\n",
    "\n",
    "    print('Number of images %d'%len(dice_scores))\n",
    "    print(np.mean(dice_scores))"
   ]
  },
  {
   "cell_type": "markdown",
   "metadata": {},
   "source": [
    "### Vanilla Run"
   ]
  },
  {
   "cell_type": "code",
   "execution_count": 8,
   "metadata": {
    "scrolled": true
   },
   "outputs": [
    {
     "name": "stderr",
     "output_type": "stream",
     "text": [
      "100%|██████████| 43/43 [01:57<00:00,  2.69s/it]"
     ]
    },
    {
     "name": "stdout",
     "output_type": "stream",
     "text": [
      "Number of images 43\n",
      "0.9277734986264862\n"
     ]
    },
    {
     "name": "stderr",
     "output_type": "stream",
     "text": [
      "\n"
     ]
    }
   ],
   "source": [
    "data_origin = 'test'\n",
    "dict_prefix = ''\n",
    "predictAll(data_origin, dict_prefix)"
   ]
  },
  {
   "cell_type": "markdown",
   "metadata": {},
   "source": [
    "### Keeping largest component"
   ]
  },
  {
   "cell_type": "code",
   "execution_count": 9,
   "metadata": {
    "scrolled": false
   },
   "outputs": [
    {
     "name": "stderr",
     "output_type": "stream",
     "text": [
      "100%|██████████| 43/43 [01:55<00:00,  2.66s/it]"
     ]
    },
    {
     "name": "stdout",
     "output_type": "stream",
     "text": [
      "Number of images 43\n",
      "0.9277734986264862\n"
     ]
    },
    {
     "name": "stderr",
     "output_type": "stream",
     "text": [
      "\n"
     ]
    }
   ],
   "source": [
    "data_origin = 'test'\n",
    "dict_prefix = 'CC'\n",
    "predictAll(data_origin, dict_prefix, keep_main_only=True)"
   ]
  },
  {
   "cell_type": "markdown",
   "metadata": {},
   "source": [
    "### TTA"
   ]
  },
  {
   "cell_type": "code",
   "execution_count": 10,
   "metadata": {
    "scrolled": true
   },
   "outputs": [
    {
     "name": "stderr",
     "output_type": "stream",
     "text": [
      "100%|██████████| 43/43 [04:11<00:00,  5.72s/it]"
     ]
    },
    {
     "name": "stdout",
     "output_type": "stream",
     "text": [
      "Number of images 43\n",
      "0.9148326878501317\n"
     ]
    },
    {
     "name": "stderr",
     "output_type": "stream",
     "text": [
      "\n"
     ]
    }
   ],
   "source": [
    "data_origin = 'test'\n",
    "dict_prefix = 'TTA'\n",
    "predictAll(data_origin, dict_prefix, tta=tta_model)"
   ]
  },
  {
   "cell_type": "code",
   "execution_count": 11,
   "metadata": {},
   "outputs": [
    {
     "name": "stderr",
     "output_type": "stream",
     "text": [
      "100%|██████████| 43/43 [05:32<00:00,  7.52s/it]"
     ]
    },
    {
     "name": "stdout",
     "output_type": "stream",
     "text": [
      "Number of images 43\n",
      "0.9150217444187126\n"
     ]
    },
    {
     "name": "stderr",
     "output_type": "stream",
     "text": [
      "\n"
     ]
    }
   ],
   "source": [
    "data_origin = 'test'\n",
    "dict_prefix = 'TTA_MINE'\n",
    "predictAll(data_origin, dict_prefix, my_tta=True)"
   ]
  },
  {
   "cell_type": "markdown",
   "metadata": {},
   "source": [
    "### TTA and CC"
   ]
  },
  {
   "cell_type": "code",
   "execution_count": 12,
   "metadata": {},
   "outputs": [
    {
     "name": "stderr",
     "output_type": "stream",
     "text": [
      "100%|██████████| 43/43 [04:09<00:00,  5.69s/it]"
     ]
    },
    {
     "name": "stdout",
     "output_type": "stream",
     "text": [
      "Number of images 43\n",
      "0.9148326878501317\n"
     ]
    },
    {
     "name": "stderr",
     "output_type": "stream",
     "text": [
      "\n"
     ]
    }
   ],
   "source": [
    "data_origin = 'test'\n",
    "dict_prefix = 'TTACC'\n",
    "predictAll(data_origin, dict_prefix, keep_main_only=True, tta=tta_model)"
   ]
  }
 ],
 "metadata": {
  "celltoolbar": "Raw Cell Format",
  "kernelspec": {
   "display_name": "Python 3",
   "language": "python",
   "name": "python3"
  },
  "language_info": {
   "codemirror_mode": {
    "name": "ipython",
    "version": 3
   },
   "file_extension": ".py",
   "mimetype": "text/x-python",
   "name": "python",
   "nbconvert_exporter": "python",
   "pygments_lexer": "ipython3",
   "version": "3.6.7"
  }
 },
 "nbformat": 4,
 "nbformat_minor": 2
}
