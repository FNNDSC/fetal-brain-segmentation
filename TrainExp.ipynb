{
 "cells": [
  {
   "cell_type": "code",
   "execution_count": 1,
   "metadata": {},
   "outputs": [
    {
     "name": "stderr",
     "output_type": "stream",
     "text": [
      "Using TensorFlow backend.\n"
     ]
    }
   ],
   "source": [
    "from datahandler import DataHandler\n",
    "from models.unet import *\n",
    "from models.unet_se import *\n",
    "from models.resnet_fcn import *\n",
    "from models.resnet_se_fcn import *\n",
    "from models.resnet_fcn import *\n",
    "from models.vgg19_fcn import *\n",
    "from models.vgg19_se_fcn import *\n",
    "from generator import *\n",
    "from params import *\n",
    "from callbacks import getCallbacks\n",
    "\n",
    "from tqdm import tqdm\n",
    "import os\n",
    "import skimage.io as io\n",
    "\n",
    "from keras.models import *\n",
    "from keras import backend as K\n",
    "\n",
    "%matplotlib inline\n",
    "import matplotlib.pyplot as plt\n",
    "\n",
    "import argparse\n",
    "import sys"
   ]
  },
  {
   "cell_type": "code",
   "execution_count": 2,
   "metadata": {},
   "outputs": [],
   "source": [
    "#set common variables\n",
    "epochs = 25\n",
    "batch_size = 32\n",
    "verbose = 1\n",
    "\n",
    "\n",
    "resetSeed()"
   ]
  },
  {
   "cell_type": "code",
   "execution_count": 3,
   "metadata": {},
   "outputs": [
    {
     "name": "stderr",
     "output_type": "stream",
     "text": [
      "Training data: 100%|██████████████████████████| 172/172 [02:40<00:00,  1.14it/s]\n",
      "Validation data: 100%|██████████████████████████| 43/43 [00:43<00:00,  1.01s/it]\n"
     ]
    }
   ],
   "source": [
    "#Get data and generators\n",
    "dh = DataHandler()\n",
    "tr_images, tr_masks, te_images, te_masks = dh.getData()"
   ]
  },
  {
   "cell_type": "code",
   "execution_count": 4,
   "metadata": {},
   "outputs": [
    {
     "ename": "SyntaxError",
     "evalue": "unexpected EOF while parsing (<ipython-input-4-70fe2624a794>, line 2)",
     "output_type": "error",
     "traceback": [
      "\u001b[0;36m  File \u001b[0;32m\"<ipython-input-4-70fe2624a794>\"\u001b[0;36m, line \u001b[0;32m2\u001b[0m\n\u001b[0;31m    model.load_weights('logs/vgg19FCN/kfold_vgg19FCN/kfold_vgg19FCN_dice_DA_K2/kfold_vgg19FCN_dice_DA_K2_weights.h5'\u001b[0m\n\u001b[0m                                                                                                                    ^\u001b[0m\n\u001b[0;31mSyntaxError\u001b[0m\u001b[0;31m:\u001b[0m unexpected EOF while parsing\n"
     ]
    }
   ],
   "source": [
    "model = getVGG19FCN()\n",
    "model.load_weights('logs/vgg19FCN/kfold_vgg19FCN/kfold_vgg19FCN_dice_DA_K2/kfold_vgg19FCN_dice_DA_K2_weights.h5'"
   ]
  },
  {
   "cell_type": "code",
   "execution_count": null,
   "metadata": {},
   "outputs": [],
   "source": [
    "plt.gray()\n",
    "\n",
    "plt.imshow(np.squeeze(tr_images[104] + tr_masks[104]))"
   ]
  },
  {
   "cell_type": "code",
   "execution_count": null,
   "metadata": {},
   "outputs": [],
   "source": [
    "def getGenerator(images, bs=1):\n",
    "    image_datagen = ImageDataGenerator(rescale=1./255)\n",
    "    image_datagen.fit(images, augment = True)\n",
    "    image_generator = image_datagen.flow(x = images, batch_size=bs,\n",
    "            shuffle = False)\n",
    "\n",
    "    return image_generator\n",
    "\n",
    "image, hdr = dh.getImageData('./data/kfold_data/images/0.nii')\n",
    "gt_mask, _ = dh.getImageData('./data/kfold_data/masks/0.nii', is_mask=True)\n",
    "    \n",
    "g = getGenerator(image)\n",
    "r = model.predict_generator(g, steps=len(image))\n",
    "\n",
    "print(r.shape)\n",
    "\n",
    "plt.imshow(np.squeeze(r[24] * 255))"
   ]
  }
 ],
 "metadata": {
  "kernelspec": {
   "display_name": "Python 3",
   "language": "python",
   "name": "python3"
  },
  "language_info": {
   "codemirror_mode": {
    "name": "ipython",
    "version": 3
   },
   "file_extension": ".py",
   "mimetype": "text/x-python",
   "name": "python",
   "nbconvert_exporter": "python",
   "pygments_lexer": "ipython3",
   "version": "3.6.7"
  }
 },
 "nbformat": 4,
 "nbformat_minor": 2
}
