{
 "cells": [
  {
   "cell_type": "code",
   "execution_count": 1,
   "metadata": {},
   "outputs": [
    {
     "name": "stderr",
     "output_type": "stream",
     "text": [
      "Using TensorFlow backend.\n",
      "loading data:   0%|          | 0/43 [00:00<?, ?it/s]"
     ]
    },
    {
     "name": "stdout",
     "output_type": "stream",
     "text": [
      "[name: \"/device:CPU:0\"\n",
      "device_type: \"CPU\"\n",
      "memory_limit: 268435456\n",
      "locality {\n",
      "}\n",
      "incarnation: 1580837802784881484\n",
      ", name: \"/device:GPU:0\"\n",
      "device_type: \"GPU\"\n",
      "memory_limit: 10257639015\n",
      "locality {\n",
      "  bus_id: 1\n",
      "  links {\n",
      "  }\n",
      "}\n",
      "incarnation: 17922900125706554562\n",
      "physical_device_desc: \"device: 0, name: GeForce GTX 1080 Ti, pci bus id: 0000:01:00.0, compute capability: 6.1\"\n",
      "]\n"
     ]
    },
    {
     "name": "stderr",
     "output_type": "stream",
     "text": [
      "loading data: 100%|██████████| 43/43 [00:47<00:00,  1.11s/it]\n"
     ]
    }
   ],
   "source": [
    "import os\n",
    "import sys\n",
    "import numpy as np\n",
    "from fbs import FBSDataset, FBSConfig\n",
    "  \n",
    "from mrcnn import model as modellib    \n",
    "  \n",
    "ROOT_DIR = os.path.abspath('../../')\n",
    "sys.path.append(ROOT_DIR)         \n",
    "      \n",
    "LOG_DIR = os.path.join(ROOT_DIR, 'logs')\n",
    "MODEL_DIR = os.path.join(LOG_DIR, \"mask_rcnn\")\n",
    "DATASET_DIR = os.path.join(ROOT_DIR, 'data/')\n",
    "\n",
    "dataset_val = FBSDataset()        \n",
    "dataset_val.load_data(DATASET_DIR, subset='validate')\n",
    "dataset_val.prepare() "
   ]
  },
  {
   "cell_type": "code",
   "execution_count": 2,
   "metadata": {},
   "outputs": [
    {
     "name": "stdout",
     "output_type": "stream",
     "text": [
      "Re-starting from epoch 30\n"
     ]
    }
   ],
   "source": [
    "class InferenceConfig(FBSConfig):\n",
    "    IMAGES_PER_GPU = 1\n",
    "inference_config = InferenceConfig()\n",
    "\n",
    "model = modellib.MaskRCNN(        \n",
    "         mode='inference',\n",
    "         config=inference_config,\n",
    "         model_dir=MODEL_DIR\n",
    "         )      \n",
    "  \n",
    "model_path = '../../logs/mask_rcnn/fbs_resnet50_da_tf_nominimask_20190225T1120/mask_rcnn_fbs_resnet50_da_tf_nominimask__0030.h5'\n",
    "model.load_weights(model_path, by_name=True)"
   ]
  },
  {
   "cell_type": "code",
   "execution_count": 12,
   "metadata": {},
   "outputs": [
    {
     "data": {
      "text/plain": [
       "<Figure size 432x288 with 0 Axes>"
      ]
     },
     "metadata": {},
     "output_type": "display_data"
    }
   ],
   "source": [
    "from matplotlib import pyplot as plt\n",
    "from sklearn.metrics import f1_score, jaccard_similarity_score\n",
    "from tqdm import tqdm\n",
    "import warnings\n",
    "warnings.filterwarnings(\"ignore\")\n",
    "\n",
    "plt.gray()\n",
    "\n",
    "def dice_coef(y_true, y_pred):     \n",
    "    intersection = np.sum(y_pred[y_true==1])\n",
    "    insum = np.sum(y_true) + np.sum(y_pred)\n",
    "    \n",
    "    if insum == 0:\n",
    "        return 1\n",
    "    \n",
    "    return 2. * intersection / insum"
   ]
  },
  {
   "cell_type": "code",
   "execution_count": 13,
   "metadata": {},
   "outputs": [
    {
     "name": "stdout",
     "output_type": "stream",
     "text": [
      "0.6852639240582237\n",
      "0.9933114436778878\n",
      "0.7810658616255002\n"
     ]
    }
   ],
   "source": [
    "f1_scores = []\n",
    "iou_scores = []\n",
    "dice_scores = []\n",
    "\n",
    "\n",
    "for img_id in dataset_val.image_ids:\n",
    "    image, image_meta, class_ids, bbox, mask = modellib.load_image_gt(\n",
    "        dataset_val, inference_config, img_id, use_mini_mask=False)\n",
    "    \n",
    "    results = model.detect([image], verbose = 0)\n",
    "    r = results[0]\n",
    "    pred = r['masks']\n",
    "\n",
    "    \n",
    "    if(pred.shape[2] == 0):\n",
    "        pred = np.zeros((256,256))\n",
    "\n",
    "    if(mask.shape[2] == 0):\n",
    "        mask = np.zeros((256,256))\n",
    "\n",
    "    mask = np.asarray(np.squeeze(mask), dtype=np.bool)\n",
    "    pred = np.squeeze(pred)\n",
    "    \n",
    "\n",
    "    f1_scores.append(f1_score(mask.flatten(), pred.flatten()))\n",
    "    iou_scores.append(jaccard_similarity_score(mask.flatten(), pred.flatten()))\n",
    "    dice_scores.append(dice_coef(mask.flatten(), pred.flatten()))\n",
    "    \n",
    "    \n",
    "    \n",
    "print(np.mean(f1_scores))\n",
    "print(np.mean(iou_scores))\n",
    "print(np.mean(dice_scores))"
   ]
  },
  {
   "cell_type": "code",
   "execution_count": 31,
   "metadata": {},
   "outputs": [],
   "source": [
    "from mrcnn.utils import extract_bboxes, non_max_suppression\n",
    "def ensemble_prediction(model, config, image):\n",
    "\n",
    "    \"\"\" Test time augmentation method using non-maximum supression\"\"\"\n",
    "\n",
    "    masks = []\n",
    "    scores = []\n",
    "    boxes = []\n",
    "    \n",
    "\n",
    "    results = {}\n",
    "\n",
    "    result = model.detect([image], verbose=0)[0]\n",
    "    \n",
    "    if result['masks'].shape[2] == 0:\n",
    "        return result\n",
    "    \n",
    "    masks.append(result['masks'])\n",
    "    scores.append(result['scores'])\n",
    "    boxes.append(extract_bboxes(result['masks']))\n",
    "\n",
    "    temp_img = np.fliplr(image)\n",
    "    result = model.detect([temp_img], verbose=0)[0]\n",
    "    mask = np.fliplr(result['masks'])\n",
    "    masks.append(mask)\n",
    "    scores.append(result['scores'])\n",
    "    boxes.append(extract_bboxes(mask))\n",
    "\n",
    "    temp_img = np.flipud(image)\n",
    "    result = model.detect([temp_img], verbose=0)[0]\n",
    "    mask = np.flipud(result['masks'])\n",
    "    masks.append(mask)\n",
    "    scores.append(result['scores'])\n",
    "    boxes.append(extract_bboxes(mask))\n",
    "\n",
    "    angle = np.random.choice([1, -1])\n",
    "    temp_img = np.rot90(image, k=angle, axes=(0, 1))\n",
    "    result = model.detect([temp_img], verbose=0)[0]\n",
    "    mask = np.rot90(result['masks'], k=-angle, axes=(0, 1))\n",
    "    masks.append(mask)\n",
    "    scores.append(result['scores'])\n",
    "    boxes.append(extract_bboxes(mask))\n",
    "\n",
    "    masks = np.concatenate(masks, axis=-1)\n",
    "    scores = np.concatenate(scores, axis=-1)\n",
    "    boxes = np.concatenate(boxes, axis=0)\n",
    "\n",
    "    # config.DETECTION_NMS_THRESHOLD)\n",
    "    keep_ind = non_max_suppression(boxes, scores, 0.1)[0]\n",
    "    masks = masks[:, :, keep_ind]\n",
    "    scores = scores[keep_ind]\n",
    "\n",
    "    results['masks'] = masks\n",
    "    results['scores'] = scores\n",
    "\n",
    "    return results"
   ]
  },
  {
   "cell_type": "code",
   "execution_count": 34,
   "metadata": {},
   "outputs": [
    {
     "name": "stdout",
     "output_type": "stream",
     "text": [
      "0.6856554314972212\n",
      "0.9932094610930773\n",
      "0.7814573690644978\n"
     ]
    }
   ],
   "source": [
    "f1_scores = []\n",
    "iou_scores = []\n",
    "dice_scores = []\n",
    "\n",
    "\n",
    "for img_id in dataset_val.image_ids:\n",
    "    image, image_meta, class_ids, bbox, mask = modellib.load_image_gt(\n",
    "        dataset_val, inference_config, img_id, use_mini_mask=False)\n",
    "    \n",
    "    results = ensemble_prediction(model, inference_config, image)\n",
    "    r = results\n",
    "    pred = r['masks']\n",
    "    \n",
    "    if(len(pred.shape) > 2 and pred.shape[2] == 0):\n",
    "        pred = np.zeros((256,256))\n",
    "\n",
    "    if(mask.shape[2] == 0):\n",
    "        mask = np.zeros((256,256))\n",
    "\n",
    "    mask = np.asarray(np.squeeze(mask), dtype=np.bool)\n",
    "    pred = np.squeeze(pred)\n",
    "    \n",
    "\n",
    "    f1_scores.append(f1_score(mask.flatten(), pred.flatten()))\n",
    "    iou_scores.append(jaccard_similarity_score(mask.flatten(), pred.flatten()))\n",
    "    dice_scores.append(dice_coef(mask.flatten(), pred.flatten()))\n",
    "    \n",
    "    \n",
    "    \n",
    "print(np.mean(f1_scores))\n",
    "print(np.mean(iou_scores))\n",
    "print(np.mean(dice_scores))"
   ]
  }
 ],
 "metadata": {
  "kernelspec": {
   "display_name": "Python 3",
   "language": "python",
   "name": "python3"
  },
  "language_info": {
   "codemirror_mode": {
    "name": "ipython",
    "version": 3
   },
   "file_extension": ".py",
   "mimetype": "text/x-python",
   "name": "python",
   "nbconvert_exporter": "python",
   "pygments_lexer": "ipython3",
   "version": "3.6.7"
  }
 },
 "nbformat": 4,
 "nbformat_minor": 2
}
