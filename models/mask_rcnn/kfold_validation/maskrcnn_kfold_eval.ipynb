{
 "cells": [
  {
   "cell_type": "code",
   "execution_count": 1,
   "metadata": {},
   "outputs": [
    {
     "name": "stderr",
     "output_type": "stream",
     "text": [
      "Using TensorFlow backend.\n"
     ]
    }
   ],
   "source": [
    "import os\n",
    "import sys\n",
    "import numpy as np\n",
    "import cv2\n",
    "\n",
    "from data_loader import *\n",
    "from fbs_config import TrainFBSConfig, InferenceFBSConfig\n",
    "from fbs_dataset import FBSDataset\n",
    "\n",
    "from mrcnn import model as modellib\n",
    "from datahandler import DataHandler\n",
    "\n",
    "from sklearn.metrics import f1_score\n",
    "from scipy.ndimage import _ni_support\n",
    "from scipy.ndimage.morphology import distance_transform_edt, binary_erosion,\\\n",
    "     generate_binary_structure\n",
    "from tqdm import tqdm\n",
    "\n",
    "import skimage.color\n",
    "\n",
    "ROOT_DIR = os.path.abspath('../../../')\n",
    "sys.path.append(ROOT_DIR)\n",
    "\n",
    "DEFAULT_LOGS_DIR = os.path.join(ROOT_DIR, 'logs')\n",
    "DEFAULT_MODEL_DIR = os.path.join(DEFAULT_LOGS_DIR, 'mask_rcnn/kfold')\n",
    "\n",
    "kernel = np.ones((5,5),np.uint8)\n",
    "\n",
    "dh = DataHandler()"
   ]
  },
  {
   "cell_type": "code",
   "execution_count": 2,
   "metadata": {},
   "outputs": [],
   "source": [
    "image_files, mask_files = load_data_files('data/kfold_data/')\n",
    "\n",
    "skf = getKFolds(image_files, mask_files, n=5)\n",
    "\n",
    "kfold_indices = []\n",
    "for train_index, test_index in skf.split(image_files, mask_files):\n",
    "    kfold_indices.append({'train': train_index, 'val': test_index})"
   ]
  },
  {
   "cell_type": "code",
   "execution_count": 3,
   "metadata": {},
   "outputs": [],
   "source": [
    "def getDataset(val_index):\n",
    "    image_val_files = np.take(image_files, val_index)\n",
    "    mask_val_files = np.take(mask_files, val_index)\n",
    "\n",
    "    val_files = ([image_val_files], [mask_val_files])\n",
    "\n",
    "    dataset_val = FBSDataset()\n",
    "    len_dataset_val = dataset_val.load_data(val_files)\n",
    "    dataset_val.prepare()\n",
    "    return dataset_val"
   ]
  },
  {
   "cell_type": "code",
   "execution_count": 4,
   "metadata": {},
   "outputs": [],
   "source": [
    "def getDiceScore(ground_truth, prediction):\n",
    "    #convert to boolean values and flatten\n",
    "    ground_truth = np.asarray(ground_truth, dtype=np.bool).flatten()\n",
    "    prediction = np.asarray(prediction, dtype=np.bool).flatten()    \n",
    "    return f1_score(ground_truth, prediction)"
   ]
  },
  {
   "cell_type": "code",
   "execution_count": 5,
   "metadata": {},
   "outputs": [],
   "source": [
    " def hd(result, reference, voxelspacing=None, connectivity=1):\n",
    "    hd1 = __surface_distances(result, reference, voxelspacing, connectivity).max()\n",
    "    hd2 = __surface_distances(reference, result, voxelspacing, connectivity).max()\n",
    "    hd = max(hd1, hd2)\n",
    "    return hd\n",
    "\n",
    "def hd95(result, reference, voxelspacing=None, connectivity=1):\n",
    "    hd1 = __surface_distances(result, reference, voxelspacing, connectivity)\n",
    "    hd2 = __surface_distances(reference, result, voxelspacing, connectivity)\n",
    "    hd95 = np.percentile(np.hstack((hd1, hd2)), 95)\n",
    "    return hd95\n",
    "\n",
    "def __surface_distances(result, reference, voxelspacing=None, connectivity=1):\n",
    "    result = np.atleast_1d(result.astype(np.bool))\n",
    "    reference = np.atleast_1d(reference.astype(np.bool))\n",
    "    if voxelspacing is not None:\n",
    "        voxelspacing = _ni_support._normalize_sequence(voxelspacing, result.ndim)\n",
    "        voxelspacing = np.asarray(voxelspacing, dtype=np.float64)\n",
    "        if not voxelspacing.flags.contiguous:\n",
    "            voxelspacing = voxelspacing.copy()\n",
    "\n",
    "    footprint = generate_binary_structure(result.ndim, connectivity)\n",
    "\n",
    "    if 0 == np.count_nonzero(result):\n",
    "        raise RuntimeError('The first supplied array does not contain any binary object.')\n",
    "    if 0 == np.count_nonzero(reference):\n",
    "        raise RuntimeError('The second supplied array does not contain any binary object.')\n",
    "\n",
    "    result_border = result ^ binary_erosion(result, structure=footprint, iterations=1)\n",
    "    reference_border = reference ^ binary_erosion(reference, structure=footprint, iterations=1)\n",
    "\n",
    "    dt = distance_transform_edt(~reference_border, sampling=voxelspacing)\n",
    "    sds = dt[result_border]\n",
    "\n",
    "    return sds"
   ]
  },
  {
   "cell_type": "code",
   "execution_count": 6,
   "metadata": {},
   "outputs": [],
   "source": [
    "def evaluateMask(gt_mask, pred_mask):\n",
    "    return getDiceScore(gt_mask, pred_mask), hd(gt_mask, pred_mask), hd95(gt_mask, pred_mask)\n",
    "    "
   ]
  },
  {
   "cell_type": "code",
   "execution_count": 7,
   "metadata": {},
   "outputs": [],
   "source": [
    "import random\n",
    "def predictAll(inferenceFBSConfig, val_indices):\n",
    "    model = modellib.MaskRCNN(mode='inference', config=inferenceFBSConfig, model_dir=DEFAULT_MODEL_DIR)\n",
    "    \n",
    "    weights_path = model.find_last()\n",
    "    print('Loading weights from %s'%weights_path)\n",
    "    model.load_weights(weights_path, by_name=True)\n",
    "    \n",
    "    dice_scores = []\n",
    "    hd_scores = []\n",
    "    hd95_scores = []\n",
    "    \n",
    "    for image_index in tqdm(val_indices):        \n",
    "        dataset = getDataset(image_index)\n",
    "                \n",
    "        prediction = []\n",
    "        gt_mask = []\n",
    "    \n",
    "        for img_id in dataset.image_ids:\n",
    "            image, image_meta, class_ids, bbox, mask = modellib.load_image_gt(\n",
    "            dataset, inferenceFBSConfig, img_id, use_mini_mask=False)\n",
    "            \n",
    "            results = model.detect([image], verbose=0)\n",
    "            r = results[0]\n",
    "            \n",
    "            pred = r['masks']\n",
    "            \n",
    "            if(len(pred.shape) > 2 and pred.shape[2] == 0):\n",
    "                pred = np.zeros((pred.shape[0],pred.shape[1],1))\n",
    "            \n",
    "            if(mask.shape[2] == 0):\n",
    "                mask = np.zeros((pred.shape[0],pred.shape[1],1))\n",
    "            \n",
    "            pred = np.asarray(pred, dtype=np.uint8)\n",
    "            pred = cv2.dilate(pred,kernel,iterations = 1)\n",
    "                     \n",
    "            prediction.append(pred)\n",
    "            gt_mask.append(mask)\n",
    "        \n",
    "        pred_mask = np.asarray(prediction, dtype=np.bool)\n",
    "        gt_mask = np.asarray(gt_mask, dtype=np.bool)\n",
    "        \n",
    "        dice_score, hd_score, hd95_score = evaluateMask(np.squeeze(gt_mask), pred_mask)\n",
    "    \n",
    "        dice_scores.append(dice_score)\n",
    "        hd_scores.append(hd_score)\n",
    "        hd95_scores.append(hd95_score)\n",
    "    \n",
    "    return np.mean(dice_scores), np.mean(hd_scores), np.mean(hd95_scores)"
   ]
  },
  {
   "cell_type": "code",
   "execution_count": null,
   "metadata": {},
   "outputs": [
    {
     "name": "stdout",
     "output_type": "stream",
     "text": [
      "Loading weights from /home/alejandrovaldes/projects/fetal-brain-segmentation/logs/mask_rcnn/kfold/fbm_resnet50_da_wl_70_28_5k_0_20190401T1609/mask_rcnn_fbm_resnet50_da_wl_70_28_5k_0__0025.h5\n"
     ]
    },
    {
     "name": "stderr",
     "output_type": "stream",
     "text": [
      "\r",
      "  0%|          | 0/59 [00:00<?, ?it/s]"
     ]
    },
    {
     "name": "stdout",
     "output_type": "stream",
     "text": [
      "Re-starting from epoch 25\n"
     ]
    },
    {
     "name": "stderr",
     "output_type": "stream",
     "text": [
      "100%|██████████| 59/59 [05:33<00:00,  5.49s/it]\n"
     ]
    },
    {
     "name": "stdout",
     "output_type": "stream",
     "text": [
      "K0 results\n",
      "dice 0.850203\n",
      "hd 59.429573\n",
      "hd95 33.146121\n",
      "\n",
      "Loading weights from /home/alejandrovaldes/projects/fetal-brain-segmentation/logs/mask_rcnn/kfold/fbm_resnet50_da_wl_70_28_5k_1_20190402T1040/mask_rcnn_fbm_resnet50_da_wl_70_28_5k_1__0022.h5\n"
     ]
    },
    {
     "name": "stderr",
     "output_type": "stream",
     "text": [
      "\r",
      "  0%|          | 0/58 [00:00<?, ?it/s]"
     ]
    },
    {
     "name": "stdout",
     "output_type": "stream",
     "text": [
      "Re-starting from epoch 22\n"
     ]
    },
    {
     "name": "stderr",
     "output_type": "stream",
     "text": [
      "\r",
      "  2%|▏         | 1/58 [00:05<05:33,  5.85s/it]"
     ]
    }
   ],
   "source": [
    "all_dice = []\n",
    "all_hd = []\n",
    "all_hd95 = []\n",
    "\n",
    "for i in range(len(kfold_indices)):    \n",
    "    \n",
    "    configParams = {'da': True, 'mask_dim': 28, 'wl': True, 'kfold_i': i}\n",
    "\n",
    "    trainFBSConfig = TrainFBSConfig(**configParams)\n",
    "    inferenceFBSConfig = InferenceFBSConfig(**configParams)    \n",
    "    \n",
    "    dice_score, hd_score, hd95_score = predictAll(inferenceFBSConfig, kfold_indices[i]['val'])\n",
    "    \n",
    "    print('K%d results'%i)\n",
    "    print('dice %f'%dice_score)\n",
    "    print('hd %f'%hd_score)\n",
    "    print('hd95 %f'%hd95_score)\n",
    "    print()\n",
    "    \n",
    "    all_dice.append(dice_score)\n",
    "    all_hd.append(hd_score)\n",
    "    all_hd95.append(hd95_score)"
   ]
  },
  {
   "cell_type": "code",
   "execution_count": null,
   "metadata": {},
   "outputs": [],
   "source": [
    "print()\n",
    "print('Final results for Mask Rcnn')\n",
    "print('dice %f'%np.mean(all_dice))\n",
    "print('hd %f'%np.mean(all_hd))\n",
    "print('hd95 %f'%np.mean(all_hd95))"
   ]
  }
 ],
 "metadata": {
  "kernelspec": {
   "display_name": "Python 3",
   "language": "python",
   "name": "python3"
  },
  "language_info": {
   "codemirror_mode": {
    "name": "ipython",
    "version": 3
   },
   "file_extension": ".py",
   "mimetype": "text/x-python",
   "name": "python",
   "nbconvert_exporter": "python",
   "pygments_lexer": "ipython3",
   "version": "3.6.7"
  }
 },
 "nbformat": 4,
 "nbformat_minor": 2
}
