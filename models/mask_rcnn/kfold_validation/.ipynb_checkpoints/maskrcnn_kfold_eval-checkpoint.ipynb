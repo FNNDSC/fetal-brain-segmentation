{
 "cells": [
  {
   "cell_type": "code",
   "execution_count": 1,
   "metadata": {},
   "outputs": [
    {
     "name": "stderr",
     "output_type": "stream",
     "text": [
      "Using TensorFlow backend.\n"
     ]
    }
   ],
   "source": [
    "import os\n",
    "import sys\n",
    "import numpy as np\n",
    "\n",
    "from data_loader import *\n",
    "from fbs_config import TrainFBSConfig, InferenceFBSConfig\n",
    "from fbs_dataset import FBSDataset\n",
    "\n",
    "from mrcnn import model as modellib\n",
    "from datahandler import DataHandler\n",
    "\n",
    "from sklearn.metrics import f1_score\n",
    "from scipy.ndimage import _ni_support\n",
    "from scipy.ndimage.morphology import distance_transform_edt, binary_erosion,\\\n",
    "     generate_binary_structure\n",
    "from tqdm import tqdm\n",
    "\n",
    "import skimage.color\n",
    "\n",
    "ROOT_DIR = os.path.abspath('../../../')\n",
    "sys.path.append(ROOT_DIR)\n",
    "\n",
    "DEFAULT_LOGS_DIR = os.path.join(ROOT_DIR, 'logs')\n",
    "DEFAULT_MODEL_DIR = os.path.join(DEFAULT_LOGS_DIR, 'mask_rcnn/kfold')\n",
    "\n",
    "dh = DataHandler()"
   ]
  },
  {
   "cell_type": "code",
   "execution_count": 2,
   "metadata": {},
   "outputs": [],
   "source": [
    "image_files, mask_files = load_data_files('data/kfold_data/')\n",
    "\n",
    "skf = getKFolds(image_files, mask_files, n=5)\n",
    "\n",
    "kfold_indices = []\n",
    "for train_index, test_index in skf.split(image_files, mask_files):\n",
    "    kfold_indices.append({'train': train_index, 'val': test_index})"
   ]
  },
  {
   "cell_type": "code",
   "execution_count": 3,
   "metadata": {},
   "outputs": [],
   "source": [
    "def getDataset(val_index):\n",
    "    image_val_files = np.take(image_files, val_index)\n",
    "    mask_val_files = np.take(mask_files, val_index)\n",
    "\n",
    "    val_files = ([image_val_files], [mask_val_files])\n",
    "\n",
    "    dataset_val = FBSDataset()\n",
    "    len_dataset_val = dataset_val.load_data(val_files)\n",
    "    dataset_val.prepare()\n",
    "    return dataset_val"
   ]
  },
  {
   "cell_type": "code",
   "execution_count": 4,
   "metadata": {},
   "outputs": [],
   "source": [
    "def getDiceScore(ground_truth, prediction):\n",
    "    #convert to boolean values and flatten\n",
    "    ground_truth = np.asarray(ground_truth, dtype=np.bool).flatten()\n",
    "    prediction = np.asarray(prediction, dtype=np.bool).flatten()    \n",
    "    return f1_score(ground_truth, prediction)"
   ]
  },
  {
   "cell_type": "code",
   "execution_count": 5,
   "metadata": {},
   "outputs": [],
   "source": [
    " def hd(result, reference, voxelspacing=None, connectivity=1):\n",
    "    hd1 = __surface_distances(result, reference, voxelspacing, connectivity).max()\n",
    "    hd2 = __surface_distances(reference, result, voxelspacing, connectivity).max()\n",
    "    hd = max(hd1, hd2)\n",
    "    return hd\n",
    "\n",
    "def hd95(result, reference, voxelspacing=None, connectivity=1):\n",
    "    hd1 = __surface_distances(result, reference, voxelspacing, connectivity)\n",
    "    hd2 = __surface_distances(reference, result, voxelspacing, connectivity)\n",
    "    hd95 = np.percentile(np.hstack((hd1, hd2)), 95)\n",
    "    return hd95\n",
    "\n",
    "def __surface_distances(result, reference, voxelspacing=None, connectivity=1):\n",
    "    result = np.atleast_1d(result.astype(np.bool))\n",
    "    reference = np.atleast_1d(reference.astype(np.bool))\n",
    "    if voxelspacing is not None:\n",
    "        voxelspacing = _ni_support._normalize_sequence(voxelspacing, result.ndim)\n",
    "        voxelspacing = np.asarray(voxelspacing, dtype=np.float64)\n",
    "        if not voxelspacing.flags.contiguous:\n",
    "            voxelspacing = voxelspacing.copy()\n",
    "\n",
    "    footprint = generate_binary_structure(result.ndim, connectivity)\n",
    "\n",
    "    if 0 == np.count_nonzero(result):\n",
    "        raise RuntimeError('The first supplied array does not contain any binary object.')\n",
    "    if 0 == np.count_nonzero(reference):\n",
    "        raise RuntimeError('The second supplied array does not contain any binary object.')\n",
    "\n",
    "    result_border = result ^ binary_erosion(result, structure=footprint, iterations=1)\n",
    "    reference_border = reference ^ binary_erosion(reference, structure=footprint, iterations=1)\n",
    "\n",
    "    dt = distance_transform_edt(~reference_border, sampling=voxelspacing)\n",
    "    sds = dt[result_border]\n",
    "\n",
    "    return sds"
   ]
  },
  {
   "cell_type": "code",
   "execution_count": 6,
   "metadata": {},
   "outputs": [],
   "source": [
    "def evaluateMask(gt_mask, pred_mask):\n",
    "    return getDiceScore(gt_mask, pred_mask), hd(gt_mask, pred_mask), hd95(gt_mask, pred_mask)\n",
    "    "
   ]
  },
  {
   "cell_type": "code",
   "execution_count": 7,
   "metadata": {},
   "outputs": [],
   "source": [
    "import random\n",
    "def predictAll(inferenceFBSConfig, val_indices):\n",
    "    model = modellib.MaskRCNN(mode='inference', config=inferenceFBSConfig, model_dir=DEFAULT_MODEL_DIR)\n",
    "    \n",
    "    weights_path = model.find_last()\n",
    "    print('Loading weights from %s'%weights_path)\n",
    "    model.load_weights(weights_path, by_name=True)\n",
    "    \n",
    "    dice_scores = []\n",
    "    hd_scores = []\n",
    "    hd95_scores = []\n",
    "    \n",
    "    for image_index in tqdm(val_indices):        \n",
    "        dataset = getDataset(image_index)\n",
    "                \n",
    "        prediction = []\n",
    "        gt_mask, _ = dh.getImageData(mask_files[image_index], is_mask=True)\n",
    "    \n",
    "        for img_id in dataset.image_ids:\n",
    "            image, image_meta, class_ids, bbox, mask = modellib.load_image_gt(\n",
    "            dataset, inferenceFBSConfig, img_id, use_mini_mask=False)\n",
    "            \n",
    "            results = model.detect([image], verbose=0)\n",
    "            r = results[0]\n",
    "            \n",
    "            pred = r['masks']\n",
    "            \n",
    "            if(len(pred.shape) > 2 and pred.shape[2] == 0):\n",
    "                pred = np.zeros((256,256,1))\n",
    "            \n",
    "            prediction.append(pred)\n",
    "        \n",
    "        pred_mask = np.asarray(prediction, dtype=np.bool)\n",
    "        \n",
    "        dice_score, hd_score, hd95_score = evaluateMask(gt_mask, pred_mask)\n",
    "    \n",
    "        dice_scores.append(dice_score)\n",
    "        hd_scores.append(hd_score)\n",
    "        hd95_scores.append(hd95_score)\n",
    "    \n",
    "    return np.mean(dice_scores), np.mean(hd_scores), np.mean(hd95_scores)"
   ]
  },
  {
   "cell_type": "code",
   "execution_count": 8,
   "metadata": {},
   "outputs": [
    {
     "name": "stdout",
     "output_type": "stream",
     "text": [
      "Loading weights from /home/alejandrovaldes/projects/fetal-brain-segmentation/logs/mask_rcnn/kfold/fbm_resnet50_da_wl_70_28_5k_0_20190401T1609/mask_rcnn_fbm_resnet50_da_wl_70_28_5k_0__0025.h5\n"
     ]
    },
    {
     "name": "stderr",
     "output_type": "stream",
     "text": [
      "\r",
      "  0%|          | 0/59 [00:00<?, ?it/s]"
     ]
    },
    {
     "name": "stdout",
     "output_type": "stream",
     "text": [
      "Re-starting from epoch 25\n"
     ]
    },
    {
     "name": "stderr",
     "output_type": "stream",
     "text": [
      "100%|██████████| 59/59 [06:05<00:00,  5.93s/it]\n"
     ]
    },
    {
     "name": "stdout",
     "output_type": "stream",
     "text": [
      "K0 results\n",
      "dice 0.872103\n",
      "hd 57.241924\n",
      "hd95 12.209548\n",
      "Loading weights from /home/alejandrovaldes/projects/fetal-brain-segmentation/logs/mask_rcnn/kfold/fbm_resnet50_da_wl_70_28_5k_1_20190402T1040/mask_rcnn_fbm_resnet50_da_wl_70_28_5k_1__0022.h5\n"
     ]
    },
    {
     "name": "stderr",
     "output_type": "stream",
     "text": [
      "\r",
      "  0%|          | 0/58 [00:00<?, ?it/s]"
     ]
    },
    {
     "name": "stdout",
     "output_type": "stream",
     "text": [
      "Re-starting from epoch 22\n"
     ]
    },
    {
     "name": "stderr",
     "output_type": "stream",
     "text": [
      "\r",
      "  2%|▏         | 1/58 [00:06<06:02,  6.36s/it]"
     ]
    },
    {
     "ename": "ValueError",
     "evalue": "Found input variables with inconsistent numbers of samples: [9961472, 2490368]",
     "output_type": "error",
     "traceback": [
      "\u001b[0;31m---------------------------------------------------------------------------\u001b[0m",
      "\u001b[0;31mValueError\u001b[0m                                Traceback (most recent call last)",
      "\u001b[0;32m<ipython-input-8-e9334bbbd303>\u001b[0m in \u001b[0;36m<module>\u001b[0;34m\u001b[0m\n\u001b[1;32m     10\u001b[0m     \u001b[0minferenceFBSConfig\u001b[0m \u001b[0;34m=\u001b[0m \u001b[0mInferenceFBSConfig\u001b[0m\u001b[0;34m(\u001b[0m\u001b[0;34m**\u001b[0m\u001b[0mconfigParams\u001b[0m\u001b[0;34m)\u001b[0m\u001b[0;34m\u001b[0m\u001b[0;34m\u001b[0m\u001b[0m\n\u001b[1;32m     11\u001b[0m \u001b[0;34m\u001b[0m\u001b[0m\n\u001b[0;32m---> 12\u001b[0;31m     \u001b[0mdice_score\u001b[0m\u001b[0;34m,\u001b[0m \u001b[0mhd_score\u001b[0m\u001b[0;34m,\u001b[0m \u001b[0mhd95_score\u001b[0m \u001b[0;34m=\u001b[0m \u001b[0mpredictAll\u001b[0m\u001b[0;34m(\u001b[0m\u001b[0minferenceFBSConfig\u001b[0m\u001b[0;34m,\u001b[0m \u001b[0mkfold_indices\u001b[0m\u001b[0;34m[\u001b[0m\u001b[0mi\u001b[0m\u001b[0;34m]\u001b[0m\u001b[0;34m[\u001b[0m\u001b[0;34m'val'\u001b[0m\u001b[0;34m]\u001b[0m\u001b[0;34m)\u001b[0m\u001b[0;34m\u001b[0m\u001b[0;34m\u001b[0m\u001b[0m\n\u001b[0m\u001b[1;32m     13\u001b[0m \u001b[0;34m\u001b[0m\u001b[0m\n\u001b[1;32m     14\u001b[0m     \u001b[0mprint\u001b[0m\u001b[0;34m(\u001b[0m\u001b[0;34m'K%d results'\u001b[0m\u001b[0;34m%\u001b[0m\u001b[0mi\u001b[0m\u001b[0;34m)\u001b[0m\u001b[0;34m\u001b[0m\u001b[0;34m\u001b[0m\u001b[0m\n",
      "\u001b[0;32m<ipython-input-7-caddf9fc28fa>\u001b[0m in \u001b[0;36mpredictAll\u001b[0;34m(inferenceFBSConfig, val_indices)\u001b[0m\n\u001b[1;32m     33\u001b[0m         \u001b[0mpred_mask\u001b[0m \u001b[0;34m=\u001b[0m \u001b[0mnp\u001b[0m\u001b[0;34m.\u001b[0m\u001b[0masarray\u001b[0m\u001b[0;34m(\u001b[0m\u001b[0mprediction\u001b[0m\u001b[0;34m,\u001b[0m \u001b[0mdtype\u001b[0m\u001b[0;34m=\u001b[0m\u001b[0mnp\u001b[0m\u001b[0;34m.\u001b[0m\u001b[0mbool\u001b[0m\u001b[0;34m)\u001b[0m\u001b[0;34m\u001b[0m\u001b[0;34m\u001b[0m\u001b[0m\n\u001b[1;32m     34\u001b[0m \u001b[0;34m\u001b[0m\u001b[0m\n\u001b[0;32m---> 35\u001b[0;31m         \u001b[0mdice_score\u001b[0m\u001b[0;34m,\u001b[0m \u001b[0mhd_score\u001b[0m\u001b[0;34m,\u001b[0m \u001b[0mhd95_score\u001b[0m \u001b[0;34m=\u001b[0m \u001b[0mevaluateMask\u001b[0m\u001b[0;34m(\u001b[0m\u001b[0mgt_mask\u001b[0m\u001b[0;34m,\u001b[0m \u001b[0mpred_mask\u001b[0m\u001b[0;34m)\u001b[0m\u001b[0;34m\u001b[0m\u001b[0;34m\u001b[0m\u001b[0m\n\u001b[0m\u001b[1;32m     36\u001b[0m \u001b[0;34m\u001b[0m\u001b[0m\n\u001b[1;32m     37\u001b[0m         \u001b[0mdice_scores\u001b[0m\u001b[0;34m.\u001b[0m\u001b[0mappend\u001b[0m\u001b[0;34m(\u001b[0m\u001b[0mdice_score\u001b[0m\u001b[0;34m)\u001b[0m\u001b[0;34m\u001b[0m\u001b[0;34m\u001b[0m\u001b[0m\n",
      "\u001b[0;32m<ipython-input-6-a2a98b2ac45e>\u001b[0m in \u001b[0;36mevaluateMask\u001b[0;34m(gt_mask, pred_mask)\u001b[0m\n\u001b[1;32m      1\u001b[0m \u001b[0;32mdef\u001b[0m \u001b[0mevaluateMask\u001b[0m\u001b[0;34m(\u001b[0m\u001b[0mgt_mask\u001b[0m\u001b[0;34m,\u001b[0m \u001b[0mpred_mask\u001b[0m\u001b[0;34m)\u001b[0m\u001b[0;34m:\u001b[0m\u001b[0;34m\u001b[0m\u001b[0;34m\u001b[0m\u001b[0m\n\u001b[0;32m----> 2\u001b[0;31m     \u001b[0;32mreturn\u001b[0m \u001b[0mgetDiceScore\u001b[0m\u001b[0;34m(\u001b[0m\u001b[0mgt_mask\u001b[0m\u001b[0;34m,\u001b[0m \u001b[0mpred_mask\u001b[0m\u001b[0;34m)\u001b[0m\u001b[0;34m,\u001b[0m \u001b[0mhd\u001b[0m\u001b[0;34m(\u001b[0m\u001b[0mgt_mask\u001b[0m\u001b[0;34m,\u001b[0m \u001b[0mpred_mask\u001b[0m\u001b[0;34m)\u001b[0m\u001b[0;34m,\u001b[0m \u001b[0mhd95\u001b[0m\u001b[0;34m(\u001b[0m\u001b[0mgt_mask\u001b[0m\u001b[0;34m,\u001b[0m \u001b[0mpred_mask\u001b[0m\u001b[0;34m)\u001b[0m\u001b[0;34m\u001b[0m\u001b[0;34m\u001b[0m\u001b[0m\n\u001b[0m\u001b[1;32m      3\u001b[0m \u001b[0;34m\u001b[0m\u001b[0m\n",
      "\u001b[0;32m<ipython-input-4-b8347332a600>\u001b[0m in \u001b[0;36mgetDiceScore\u001b[0;34m(ground_truth, prediction)\u001b[0m\n\u001b[1;32m      3\u001b[0m     \u001b[0mground_truth\u001b[0m \u001b[0;34m=\u001b[0m \u001b[0mnp\u001b[0m\u001b[0;34m.\u001b[0m\u001b[0masarray\u001b[0m\u001b[0;34m(\u001b[0m\u001b[0mground_truth\u001b[0m\u001b[0;34m,\u001b[0m \u001b[0mdtype\u001b[0m\u001b[0;34m=\u001b[0m\u001b[0mnp\u001b[0m\u001b[0;34m.\u001b[0m\u001b[0mbool\u001b[0m\u001b[0;34m)\u001b[0m\u001b[0;34m.\u001b[0m\u001b[0mflatten\u001b[0m\u001b[0;34m(\u001b[0m\u001b[0;34m)\u001b[0m\u001b[0;34m\u001b[0m\u001b[0;34m\u001b[0m\u001b[0m\n\u001b[1;32m      4\u001b[0m     \u001b[0mprediction\u001b[0m \u001b[0;34m=\u001b[0m \u001b[0mnp\u001b[0m\u001b[0;34m.\u001b[0m\u001b[0masarray\u001b[0m\u001b[0;34m(\u001b[0m\u001b[0mprediction\u001b[0m\u001b[0;34m,\u001b[0m \u001b[0mdtype\u001b[0m\u001b[0;34m=\u001b[0m\u001b[0mnp\u001b[0m\u001b[0;34m.\u001b[0m\u001b[0mbool\u001b[0m\u001b[0;34m)\u001b[0m\u001b[0;34m.\u001b[0m\u001b[0mflatten\u001b[0m\u001b[0;34m(\u001b[0m\u001b[0;34m)\u001b[0m\u001b[0;34m\u001b[0m\u001b[0;34m\u001b[0m\u001b[0m\n\u001b[0;32m----> 5\u001b[0;31m     \u001b[0;32mreturn\u001b[0m \u001b[0mf1_score\u001b[0m\u001b[0;34m(\u001b[0m\u001b[0mground_truth\u001b[0m\u001b[0;34m,\u001b[0m \u001b[0mprediction\u001b[0m\u001b[0;34m)\u001b[0m\u001b[0;34m\u001b[0m\u001b[0;34m\u001b[0m\u001b[0m\n\u001b[0m",
      "\u001b[0;32m~/.virtualenvs/fetal-brain-segmentation-9O2pP5m0/lib/python3.6/site-packages/sklearn/metrics/classification.py\u001b[0m in \u001b[0;36mf1_score\u001b[0;34m(y_true, y_pred, labels, pos_label, average, sample_weight)\u001b[0m\n\u001b[1;32m    718\u001b[0m     return fbeta_score(y_true, y_pred, 1, labels=labels,\n\u001b[1;32m    719\u001b[0m                        \u001b[0mpos_label\u001b[0m\u001b[0;34m=\u001b[0m\u001b[0mpos_label\u001b[0m\u001b[0;34m,\u001b[0m \u001b[0maverage\u001b[0m\u001b[0;34m=\u001b[0m\u001b[0maverage\u001b[0m\u001b[0;34m,\u001b[0m\u001b[0;34m\u001b[0m\u001b[0;34m\u001b[0m\u001b[0m\n\u001b[0;32m--> 720\u001b[0;31m                        sample_weight=sample_weight)\n\u001b[0m\u001b[1;32m    721\u001b[0m \u001b[0;34m\u001b[0m\u001b[0m\n\u001b[1;32m    722\u001b[0m \u001b[0;34m\u001b[0m\u001b[0m\n",
      "\u001b[0;32m~/.virtualenvs/fetal-brain-segmentation-9O2pP5m0/lib/python3.6/site-packages/sklearn/metrics/classification.py\u001b[0m in \u001b[0;36mfbeta_score\u001b[0;34m(y_true, y_pred, beta, labels, pos_label, average, sample_weight)\u001b[0m\n\u001b[1;32m    832\u001b[0m                                                  \u001b[0maverage\u001b[0m\u001b[0;34m=\u001b[0m\u001b[0maverage\u001b[0m\u001b[0;34m,\u001b[0m\u001b[0;34m\u001b[0m\u001b[0;34m\u001b[0m\u001b[0m\n\u001b[1;32m    833\u001b[0m                                                  \u001b[0mwarn_for\u001b[0m\u001b[0;34m=\u001b[0m\u001b[0;34m(\u001b[0m\u001b[0;34m'f-score'\u001b[0m\u001b[0;34m,\u001b[0m\u001b[0;34m)\u001b[0m\u001b[0;34m,\u001b[0m\u001b[0;34m\u001b[0m\u001b[0;34m\u001b[0m\u001b[0m\n\u001b[0;32m--> 834\u001b[0;31m                                                  sample_weight=sample_weight)\n\u001b[0m\u001b[1;32m    835\u001b[0m     \u001b[0;32mreturn\u001b[0m \u001b[0mf\u001b[0m\u001b[0;34m\u001b[0m\u001b[0;34m\u001b[0m\u001b[0m\n\u001b[1;32m    836\u001b[0m \u001b[0;34m\u001b[0m\u001b[0m\n",
      "\u001b[0;32m~/.virtualenvs/fetal-brain-segmentation-9O2pP5m0/lib/python3.6/site-packages/sklearn/metrics/classification.py\u001b[0m in \u001b[0;36mprecision_recall_fscore_support\u001b[0;34m(y_true, y_pred, beta, labels, pos_label, average, warn_for, sample_weight)\u001b[0m\n\u001b[1;32m   1029\u001b[0m         \u001b[0;32mraise\u001b[0m \u001b[0mValueError\u001b[0m\u001b[0;34m(\u001b[0m\u001b[0;34m\"beta should be >0 in the F-beta score\"\u001b[0m\u001b[0;34m)\u001b[0m\u001b[0;34m\u001b[0m\u001b[0;34m\u001b[0m\u001b[0m\n\u001b[1;32m   1030\u001b[0m \u001b[0;34m\u001b[0m\u001b[0m\n\u001b[0;32m-> 1031\u001b[0;31m     \u001b[0my_type\u001b[0m\u001b[0;34m,\u001b[0m \u001b[0my_true\u001b[0m\u001b[0;34m,\u001b[0m \u001b[0my_pred\u001b[0m \u001b[0;34m=\u001b[0m \u001b[0m_check_targets\u001b[0m\u001b[0;34m(\u001b[0m\u001b[0my_true\u001b[0m\u001b[0;34m,\u001b[0m \u001b[0my_pred\u001b[0m\u001b[0;34m)\u001b[0m\u001b[0;34m\u001b[0m\u001b[0;34m\u001b[0m\u001b[0m\n\u001b[0m\u001b[1;32m   1032\u001b[0m     \u001b[0mcheck_consistent_length\u001b[0m\u001b[0;34m(\u001b[0m\u001b[0my_true\u001b[0m\u001b[0;34m,\u001b[0m \u001b[0my_pred\u001b[0m\u001b[0;34m,\u001b[0m \u001b[0msample_weight\u001b[0m\u001b[0;34m)\u001b[0m\u001b[0;34m\u001b[0m\u001b[0;34m\u001b[0m\u001b[0m\n\u001b[1;32m   1033\u001b[0m     \u001b[0mpresent_labels\u001b[0m \u001b[0;34m=\u001b[0m \u001b[0munique_labels\u001b[0m\u001b[0;34m(\u001b[0m\u001b[0my_true\u001b[0m\u001b[0;34m,\u001b[0m \u001b[0my_pred\u001b[0m\u001b[0;34m)\u001b[0m\u001b[0;34m\u001b[0m\u001b[0;34m\u001b[0m\u001b[0m\n",
      "\u001b[0;32m~/.virtualenvs/fetal-brain-segmentation-9O2pP5m0/lib/python3.6/site-packages/sklearn/metrics/classification.py\u001b[0m in \u001b[0;36m_check_targets\u001b[0;34m(y_true, y_pred)\u001b[0m\n\u001b[1;32m     69\u001b[0m     \u001b[0my_pred\u001b[0m \u001b[0;34m:\u001b[0m \u001b[0marray\u001b[0m \u001b[0;32mor\u001b[0m \u001b[0mindicator\u001b[0m \u001b[0mmatrix\u001b[0m\u001b[0;34m\u001b[0m\u001b[0;34m\u001b[0m\u001b[0m\n\u001b[1;32m     70\u001b[0m     \"\"\"\n\u001b[0;32m---> 71\u001b[0;31m     \u001b[0mcheck_consistent_length\u001b[0m\u001b[0;34m(\u001b[0m\u001b[0my_true\u001b[0m\u001b[0;34m,\u001b[0m \u001b[0my_pred\u001b[0m\u001b[0;34m)\u001b[0m\u001b[0;34m\u001b[0m\u001b[0;34m\u001b[0m\u001b[0m\n\u001b[0m\u001b[1;32m     72\u001b[0m     \u001b[0mtype_true\u001b[0m \u001b[0;34m=\u001b[0m \u001b[0mtype_of_target\u001b[0m\u001b[0;34m(\u001b[0m\u001b[0my_true\u001b[0m\u001b[0;34m)\u001b[0m\u001b[0;34m\u001b[0m\u001b[0;34m\u001b[0m\u001b[0m\n\u001b[1;32m     73\u001b[0m     \u001b[0mtype_pred\u001b[0m \u001b[0;34m=\u001b[0m \u001b[0mtype_of_target\u001b[0m\u001b[0;34m(\u001b[0m\u001b[0my_pred\u001b[0m\u001b[0;34m)\u001b[0m\u001b[0;34m\u001b[0m\u001b[0;34m\u001b[0m\u001b[0m\n",
      "\u001b[0;32m~/.virtualenvs/fetal-brain-segmentation-9O2pP5m0/lib/python3.6/site-packages/sklearn/utils/validation.py\u001b[0m in \u001b[0;36mcheck_consistent_length\u001b[0;34m(*arrays)\u001b[0m\n\u001b[1;32m    233\u001b[0m     \u001b[0;32mif\u001b[0m \u001b[0mlen\u001b[0m\u001b[0;34m(\u001b[0m\u001b[0muniques\u001b[0m\u001b[0;34m)\u001b[0m \u001b[0;34m>\u001b[0m \u001b[0;36m1\u001b[0m\u001b[0;34m:\u001b[0m\u001b[0;34m\u001b[0m\u001b[0;34m\u001b[0m\u001b[0m\n\u001b[1;32m    234\u001b[0m         raise ValueError(\"Found input variables with inconsistent numbers of\"\n\u001b[0;32m--> 235\u001b[0;31m                          \" samples: %r\" % [int(l) for l in lengths])\n\u001b[0m\u001b[1;32m    236\u001b[0m \u001b[0;34m\u001b[0m\u001b[0m\n\u001b[1;32m    237\u001b[0m \u001b[0;34m\u001b[0m\u001b[0m\n",
      "\u001b[0;31mValueError\u001b[0m: Found input variables with inconsistent numbers of samples: [9961472, 2490368]"
     ]
    }
   ],
   "source": [
    "all_dice = []\n",
    "all_hd = []\n",
    "all_hd95 = []\n",
    "\n",
    "for i in range(len(kfold_indices)):    \n",
    "    \n",
    "    configParams = {'da': True, 'mask_dim': 28, 'wl': True, 'kfold_i': i}\n",
    "\n",
    "    trainFBSConfig = TrainFBSConfig(**configParams)\n",
    "    inferenceFBSConfig = InferenceFBSConfig(**configParams)    \n",
    "    \n",
    "    dice_score, hd_score, hd95_score = predictAll(inferenceFBSConfig, kfold_indices[i]['val'])\n",
    "    \n",
    "    print('K%d results'%i)\n",
    "    print('dice %f'%dice_score)\n",
    "    print('hd %f'%hd_score)\n",
    "    print('hd95 %f'%hd95_score)\n",
    "    print()\n",
    "    \n",
    "    all_dice.append(dice_score)\n",
    "    all_hd.append(hd_score)\n",
    "    all_hd95.append(hd95_score)"
   ]
  },
  {
   "cell_type": "code",
   "execution_count": null,
   "metadata": {},
   "outputs": [],
   "source": [
    "print()\n",
    "print('Final results for Mask Rcnn')\n",
    "print('dice %f'%np.mean(all_dice))\n",
    "print('hd %f'%np.mean(all_hd))\n",
    "print('hd95 %f'%np.mean(all_hd95))"
   ]
  }
 ],
 "metadata": {
  "kernelspec": {
   "display_name": "Python 3",
   "language": "python",
   "name": "python3"
  },
  "language_info": {
   "codemirror_mode": {
    "name": "ipython",
    "version": 3
   },
   "file_extension": ".py",
   "mimetype": "text/x-python",
   "name": "python",
   "nbconvert_exporter": "python",
   "pygments_lexer": "ipython3",
   "version": "3.6.7"
  }
 },
 "nbformat": 4,
 "nbformat_minor": 2
}
