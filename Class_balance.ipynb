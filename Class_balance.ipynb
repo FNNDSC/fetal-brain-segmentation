{
 "cells": [
  {
   "cell_type": "code",
   "execution_count": 6,
   "metadata": {
    "collapsed": true
   },
   "outputs": [],
   "source": [
    "from datahandler import DataHandler\n",
    "import glob\n",
    "import numpy as np\n",
    "import tqdm"
   ]
  },
  {
   "cell_type": "code",
   "execution_count": 8,
   "metadata": {
    "collapsed": false
   },
   "outputs": [
    {
     "name": "stdout",
     "output_type": "stream",
     "text": [
      "291\n"
     ]
    }
   ],
   "source": [
    "dh = DataHandler()\n",
    "mask_files = glob.glob('data/masks/*.nii')\n",
    "print(len(mask_files))"
   ]
  },
  {
   "cell_type": "code",
   "execution_count": 11,
   "metadata": {
    "collapsed": false
   },
   "outputs": [
    {
     "name": "stderr",
     "output_type": "stream",
     "text": [
      "100%|██████████| 291/291 [00:05<00:00, 65.21it/s]\n"
     ]
    }
   ],
   "source": [
    "masks = []\n",
    "\n",
    "for mf in tqdm.tqdm(mask_files):\n",
    "    mask, _ = dh.getImageData(mf, is_mask=True)\n",
    "    masks.append(mask)"
   ]
  },
  {
   "cell_type": "code",
   "execution_count": 24,
   "metadata": {
    "collapsed": false
   },
   "outputs": [
    {
     "name": "stderr",
     "output_type": "stream",
     "text": [
      "100%|██████████| 291/291 [00:10<00:00, 30.25it/s]\n"
     ]
    }
   ],
   "source": [
    "one_ratio = []\n",
    "cero_ratio = []\n",
    "\n",
    "for mask in tqdm.tqdm(masks):\n",
    "    ceros, ones = np.array(np.unique(mask,return_counts=True)).T\n",
    "    total = ceros[1] + ones[1]\n",
    "    one_ratio.append(ones[1]/total)\n",
    "    cero_ratio.append(ceros[1]/total)    "
   ]
  },
  {
   "cell_type": "code",
   "execution_count": 25,
   "metadata": {
    "collapsed": false
   },
   "outputs": [
    {
     "name": "stdout",
     "output_type": "stream",
     "text": [
      "0.03487996579799183\n"
     ]
    }
   ],
   "source": [
    "print(np.average(one_ratio))"
   ]
  },
  {
   "cell_type": "code",
   "execution_count": 26,
   "metadata": {
    "collapsed": false
   },
   "outputs": [
    {
     "name": "stdout",
     "output_type": "stream",
     "text": [
      "0.9651200342020081\n"
     ]
    }
   ],
   "source": [
    "print(np.average(cero_ratio))"
   ]
  }
 ],
 "metadata": {
  "kernelspec": {
   "display_name": "Python 3",
   "language": "python",
   "name": "python3"
  },
  "language_info": {
   "codemirror_mode": {
    "name": "ipython",
    "version": 3
   },
   "file_extension": ".py",
   "mimetype": "text/x-python",
   "name": "python",
   "nbconvert_exporter": "python",
   "pygments_lexer": "ipython3",
   "version": "3.6.8"
  }
 },
 "nbformat": 4,
 "nbformat_minor": 2
}
