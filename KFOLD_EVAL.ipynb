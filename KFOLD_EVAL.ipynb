{
 "cells": [
  {
   "cell_type": "code",
   "execution_count": 1,
   "metadata": {},
   "outputs": [
    {
     "name": "stderr",
     "output_type": "stream",
     "text": [
      "Using TensorFlow backend.\n"
     ]
    }
   ],
   "source": [
    "import numpy as np\n",
    "\n",
    "from keras.models import *\n",
    "from keras import backend as K\n",
    "from keras.preprocessing.image import ImageDataGenerator\n",
    "\n",
    "from models.unet_se import *\n",
    "from models.unet import *\n",
    "\n",
    "from models.resnet_fcn import *\n",
    "from models.resnet_se_fcn import *\n",
    "\n",
    "from models.vgg19_fcn import *\n",
    "from models.vgg19_se_fcn import *\n",
    "\n",
    "from models.unet_upconv import *\n",
    "from models.unet_upconv_se import *\n",
    "\n",
    "from models.unet_resnet_se import *\n",
    "from models.unet_resnet_upconv_se import *\n",
    "\n",
    "from models.unet_upconv_bn import *\n",
    "\n",
    "from datahandler import DataHandler\n",
    "from data_loader import *\n",
    "from params import *\n",
    "import os\n",
    "import cv2\n",
    "import skimage.io as io\n",
    "from tqdm import tqdm\n",
    "\n",
    "from medpy.io import save\n",
    "\n",
    "from math import ceil, floor\n",
    "from matplotlib import pyplot as plt\n",
    "from sklearn.metrics import f1_score, jaccard_similarity_score\n",
    "\n",
    "from scipy.ndimage import _ni_support\n",
    "from scipy.ndimage.morphology import distance_transform_edt, binary_erosion,\\\n",
    "     generate_binary_structure\n",
    "\n",
    "from skimage.morphology import cube, binary_closing\n",
    "from skimage.measure import label\n",
    "\n",
    "import warnings\n",
    "warnings.filterwarnings(\"ignore\")\n",
    "\n",
    "os.environ[\"CUDA_VISIBLE_DEVICES\"]=\"1\" \n",
    "\n",
    "plt.gray()"
   ]
  },
  {
   "cell_type": "code",
   "execution_count": 2,
   "metadata": {},
   "outputs": [],
   "source": [
    "def destiny_directory(model_name, dice_score, post_processing = False):\n",
    "    if post_processing:\n",
    "        pre = './data/eval_pp/'+model_name+'/'\n",
    "    else:\n",
    "        pre = './data/eval/'+model_name+'/'\n",
    "        \n",
    "    if dice_score >= 98:\n",
    "        return pre + 'dice_98_100/'\n",
    "    elif dice_score >= 96:\n",
    "        return pre + 'dice_96_98/'\n",
    "    elif dice_score >= 94:\n",
    "        return pre + 'dice_94_96/'\n",
    "    elif dice_score >= 92:\n",
    "        return pre + 'dice_92_94/'\n",
    "    elif dice_score >= 90:\n",
    "        return pre + 'dice_90_92/'\n",
    "    elif dice_score >= 88:\n",
    "        return pre + 'dice_88_90/'\n",
    "    elif dice_score >= 85:\n",
    "        return pre + 'dice_85_88'\n",
    "    elif dice_score >= 80:\n",
    "        return pre + 'dice_80_85/'\n",
    "    elif dice_score >= 70:\n",
    "        return pre + 'dice_70_80/'\n",
    "    elif dice_score >= 60:\n",
    "        return pre + 'dice_60_70/'\n",
    "    else:\n",
    "        return pre + 'dice_less_60'"
   ]
  },
  {
   "cell_type": "code",
   "execution_count": 3,
   "metadata": {},
   "outputs": [],
   "source": [
    "def getModel(name):\n",
    "    print('Working with %s'%name)\n",
    "    \n",
    "    if name == 'unet': # or name == 'unet_focal':\n",
    "        model = getUnet()\n",
    "    elif name == 'unet_se':\n",
    "        model = getSEUnet()\n",
    "        \n",
    "    elif name == 'unet_upconv':\n",
    "        model = getUnetUpconv()\n",
    "    elif name == 'unet_upconv_se':\n",
    "        model = getSEUnetUpconv()\n",
    "        \n",
    "    elif name == 'unet_upconv_bn':\n",
    "        model = getUnetUpconvBN()\n",
    "        \n",
    "    elif name == 'resnetFCN':\n",
    "        model = getResnet50FCN()\n",
    "    elif name == 'resnetSEFCN':\n",
    "        model = getResnetSE50FCN()\n",
    "        \n",
    "    elif name == 'vgg19FCN':\n",
    "        model = getVGG19FCN()\n",
    "    elif name == 'vgg19SEFCN':\n",
    "        model = getVGG19SEFCN()\n",
    "        \n",
    "    elif name == 'unet_resnet':\n",
    "        model = getUnetRes()\n",
    "    elif name == 'unet_resnet_se':\n",
    "        model = getUnetRes(se_version = True)\n",
    "        \n",
    "    elif name == 'unet_resnet_upconv':\n",
    "        model = getUnetResUpconv()\n",
    "    elif name == 'unet_resnet_upconv_se':\n",
    "        model = getUnetResUpconv(se_version = True)\n",
    "        \n",
    "    else:\n",
    "        print('error')\n",
    "        return -1\n",
    "\n",
    "    return model\n"
   ]
  },
  {
   "cell_type": "code",
   "execution_count": 4,
   "metadata": {},
   "outputs": [],
   "source": [
    "def getGenerator(images, bs=1):\n",
    "    image_datagen = ImageDataGenerator(rescale=1./255)\n",
    "    image_datagen.fit(images, augment = True)\n",
    "    image_generator = image_datagen.flow(x = images, batch_size=bs,\n",
    "            shuffle = False)\n",
    "\n",
    "    return image_generator\n"
   ]
  },
  {
   "cell_type": "code",
   "execution_count": 5,
   "metadata": {},
   "outputs": [],
   "source": [
    "def getDiceScore(ground_truth, prediction):\n",
    "    #convert to boolean values and flatten\n",
    "    ground_truth = np.asarray(ground_truth, dtype=np.bool).flatten()\n",
    "    prediction = np.asarray(prediction, dtype=np.bool).flatten()    \n",
    "    return f1_score(ground_truth, prediction)\n"
   ]
  },
  {
   "cell_type": "code",
   "execution_count": 6,
   "metadata": {},
   "outputs": [],
   "source": [
    " def hd(result, reference, voxelspacing=None, connectivity=1):\n",
    "    hd1 = __surface_distances(result, reference, voxelspacing, connectivity).max()\n",
    "    hd2 = __surface_distances(reference, result, voxelspacing, connectivity).max()\n",
    "    hd = max(hd1, hd2)\n",
    "    return hd\n",
    "\n",
    "def hd95(result, reference, voxelspacing=None, connectivity=1):\n",
    "    hd1 = __surface_distances(result, reference, voxelspacing, connectivity)\n",
    "    hd2 = __surface_distances(reference, result, voxelspacing, connectivity)\n",
    "    hd95 = np.percentile(np.hstack((hd1, hd2)), 95)\n",
    "    return hd95\n",
    "\n",
    "def __surface_distances(result, reference, voxelspacing=None, connectivity=1):\n",
    "    result = np.atleast_1d(result.astype(np.bool))\n",
    "    reference = np.atleast_1d(reference.astype(np.bool))\n",
    "    if voxelspacing is not None:\n",
    "        voxelspacing = _ni_support._normalize_sequence(voxelspacing, result.ndim)\n",
    "        voxelspacing = np.asarray(voxelspacing, dtype=np.float64)\n",
    "        if not voxelspacing.flags.contiguous:\n",
    "            voxelspacing = voxelspacing.copy()\n",
    "\n",
    "    footprint = generate_binary_structure(result.ndim, connectivity)\n",
    "\n",
    "    if 0 == np.count_nonzero(result):\n",
    "        raise RuntimeError('The first supplied array does not contain any binary object.')\n",
    "    if 0 == np.count_nonzero(reference):\n",
    "        raise RuntimeError('The second supplied array does not contain any binary object.')\n",
    "\n",
    "    result_border = result ^ binary_erosion(result, structure=footprint, iterations=1)\n",
    "    reference_border = reference ^ binary_erosion(reference, structure=footprint, iterations=1)\n",
    "\n",
    "    dt = distance_transform_edt(~reference_border, sampling=voxelspacing)\n",
    "    sds = dt[result_border]\n",
    "\n",
    "    return sds"
   ]
  },
  {
   "cell_type": "code",
   "execution_count": 7,
   "metadata": {},
   "outputs": [
    {
     "name": "stdout",
     "output_type": "stream",
     "text": [
      "291\n",
      "291\n"
     ]
    }
   ],
   "source": [
    "image_files, mask_files = load_data_files('data/kfold_data/')\n",
    "print(len(image_files))\n",
    "print(len(mask_files))\n",
    "skf = getKFolds(image_files, mask_files, n=10)\n",
    "\n",
    "kfold_indices = []\n",
    "for train_index, val_index in skf.split(image_files, mask_files):\n",
    "    kfold_indices.append({'train': train_index, 'val': val_index})"
   ]
  },
  {
   "cell_type": "code",
   "execution_count": 8,
   "metadata": {},
   "outputs": [],
   "source": [
    "def predictMask(model, image):  \n",
    "    image_gen = getGenerator(image)\n",
    "    return model.predict_generator(image_gen, steps=len(image))"
   ]
  },
  {
   "cell_type": "code",
   "execution_count": 9,
   "metadata": {},
   "outputs": [],
   "source": [
    "def prepareForSaving(image):\n",
    "    #image = np.swapaxes(image, -1, 0)\n",
    "    image = np.moveaxis(image, 0, -1)\n",
    "    \n",
    "    return image\n",
    "\n",
    "def predictAll(model, model_name, data, num_data=0, post_processing = False):\n",
    "    dice_scores = []\n",
    "    names = []\n",
    "    hd_scores = []\n",
    "    hd95_scores = []\n",
    "\n",
    "    for image_file, mask_file in tqdm(data, total=num_data):\n",
    "        \n",
    "        fname = image_file[image_file.rindex('/')+1 : image_file.rindex('.')]\n",
    "        image, hdr = dh.getImageData(image_file)\n",
    "        gt_mask, _ = dh.getImageData(mask_file, is_mask=True)\n",
    "        \n",
    "        assert image.shape == gt_mask.shape\n",
    "        \n",
    "        if image.shape[1] != 256:\n",
    "            continue\n",
    "        \n",
    "        pred_mask = predictMask(model, image)\n",
    "        pred_mask[pred_mask>=0.5] = 1\n",
    "        pred_mask[pred_mask<0.5] = 0\n",
    "                \n",
    "        pred_mask = np.squeeze(pred_mask)\n",
    "        \n",
    "        #closing and defrag squeze of mask\n",
    "        \n",
    "        if post_processing:\n",
    "            pred_mask = binary_closing(pred_mask, cube(2))\n",
    "\n",
    "            try:\n",
    "                labels = label(pred_mask)\n",
    "                pred_mask = (labels == np.argmax(np.bincount(labels.flat)[1:])+1).astype(int)\n",
    "            except:\n",
    "                pred_mask = pred_mask\n",
    "            \n",
    "            pred_mask = np.array(pred_mask, dtype=np.uint16)\n",
    "            \n",
    "        gt_mask = np.squeeze(gt_mask)\n",
    "        dice_score = getDiceScore(gt_mask, pred_mask)\n",
    "        \n",
    "        if dice_score == 0:\n",
    "            dice_scores.append(dice_score)\n",
    "            hd_scores.append(200)\n",
    "            hd95_scores.append(200) \n",
    "            names.append(fname)\n",
    "            save_path = destiny_directory(model_name, int_dice_score, \n",
    "                                          post_processing = post_processing)\n",
    "            pred_mask = prepareForSaving(pred_mask)\n",
    "            save(pred_mask, os.path.join(save_path, fname + '_' + model_name + '_' \n",
    "                + str(int_dice_score) + '.nii'), hdr)\n",
    "            \n",
    "            continue\n",
    "        \n",
    "        names.append(fname)\n",
    "        dice_scores.append(dice_score)\n",
    "        \n",
    "        hd_score = hd(gt_mask, pred_mask)\n",
    "        hd_scores.append(hd_score)\n",
    "        \n",
    "        hd95_score = hd95(gt_mask, pred_mask)\n",
    "        hd95_scores.append(hd95_score)\n",
    "        \n",
    "        int_dice_score = floor(dice_score * 100)\n",
    "        save_path = destiny_directory(model_name, int_dice_score, \n",
    "                                      post_processing = post_processing)\n",
    "        \n",
    "        pred_mask = prepareForSaving(pred_mask)\n",
    "        \n",
    "        '''image = prepareForSaving(image)\n",
    "        gt_mask = prepareForSaving(gt_mask)'''\n",
    "                    \n",
    "        save(pred_mask, os.path.join(save_path, fname + '_' + model_name + '_' \n",
    "            + str(int_dice_score) + '.nii'), hdr)\n",
    "        \n",
    "        '''save(image, os.path.join(save_path, fname + '_img.nii'), hdr)'''\n",
    "        '''save(gt_mask, os.path.join(save_path, fname + '_mask.nii'), hdr)'''\n",
    "\n",
    "    return dice_scores, hd_scores, hd95_scores, names"
   ]
  },
  {
   "cell_type": "code",
   "execution_count": 10,
   "metadata": {
    "scrolled": true
   },
   "outputs": [
    {
     "name": "stdout",
     "output_type": "stream",
     "text": [
      "\n",
      "no pp\n",
      "skip\n",
      "\n",
      "no pp\n",
      "skip\n",
      "\n",
      "no pp\n",
      "skip\n",
      "\n",
      "no pp\n",
      "skip\n",
      "\n",
      "no pp\n",
      "skip\n",
      "\n",
      "no pp\n",
      "skip\n",
      "\n",
      "no pp\n",
      "skip\n",
      "\n",
      "no pp\n",
      "skip\n",
      "\n",
      "no pp\n",
      "skip\n",
      "\n",
      "no pp\n",
      "skip\n",
      "\n",
      "no pp\n",
      "skip\n",
      "\n",
      "no pp\n",
      "Working with unet_resnet_upconv\n",
      "loading weights from ./logs/unet_resnet_upconv/kfold_unet_resnet_upconv/kfold_unet_resnet_upconv_dice_DA_K0/kfold_unet_resnet_upconv_dice_DA_K0_weights.h5\n"
     ]
    },
    {
     "name": "stderr",
     "output_type": "stream",
     "text": [
      "100%|██████████| 30/30 [02:44<00:00,  4.91s/it]\n"
     ]
    },
    {
     "name": "stdout",
     "output_type": "stream",
     "text": [
      "Finished K0\n",
      "Working with unet_resnet_upconv\n",
      "loading weights from ./logs/unet_resnet_upconv/kfold_unet_resnet_upconv/kfold_unet_resnet_upconv_dice_DA_K1/kfold_unet_resnet_upconv_dice_DA_K1_weights.h5\n"
     ]
    },
    {
     "name": "stderr",
     "output_type": "stream",
     "text": [
      "100%|██████████| 29/29 [02:43<00:00,  5.47s/it]\n"
     ]
    },
    {
     "name": "stdout",
     "output_type": "stream",
     "text": [
      "Finished K1\n",
      "Working with unet_resnet_upconv\n",
      "loading weights from ./logs/unet_resnet_upconv/kfold_unet_resnet_upconv/kfold_unet_resnet_upconv_dice_DA_K2/kfold_unet_resnet_upconv_dice_DA_K2_weights.h5\n"
     ]
    },
    {
     "name": "stderr",
     "output_type": "stream",
     "text": [
      "100%|██████████| 29/29 [02:27<00:00,  4.70s/it]\n"
     ]
    },
    {
     "name": "stdout",
     "output_type": "stream",
     "text": [
      "Finished K2\n",
      "Working with unet_resnet_upconv\n",
      "loading weights from ./logs/unet_resnet_upconv/kfold_unet_resnet_upconv/kfold_unet_resnet_upconv_dice_DA_K3/kfold_unet_resnet_upconv_dice_DA_K3_weights.h5\n"
     ]
    },
    {
     "name": "stderr",
     "output_type": "stream",
     "text": [
      "100%|██████████| 29/29 [02:30<00:00,  4.85s/it]\n"
     ]
    },
    {
     "name": "stdout",
     "output_type": "stream",
     "text": [
      "Finished K3\n",
      "Working with unet_resnet_upconv\n",
      "loading weights from ./logs/unet_resnet_upconv/kfold_unet_resnet_upconv/kfold_unet_resnet_upconv_dice_DA_K4/kfold_unet_resnet_upconv_dice_DA_K4_weights.h5\n"
     ]
    },
    {
     "name": "stderr",
     "output_type": "stream",
     "text": [
      "100%|██████████| 29/29 [02:36<00:00,  5.15s/it]\n"
     ]
    },
    {
     "name": "stdout",
     "output_type": "stream",
     "text": [
      "Finished K4\n",
      "Working with unet_resnet_upconv\n",
      "loading weights from ./logs/unet_resnet_upconv/kfold_unet_resnet_upconv/kfold_unet_resnet_upconv_dice_DA_K5/kfold_unet_resnet_upconv_dice_DA_K5_weights.h5\n"
     ]
    },
    {
     "name": "stderr",
     "output_type": "stream",
     "text": [
      "100%|██████████| 29/29 [02:24<00:00,  5.34s/it]\n"
     ]
    },
    {
     "name": "stdout",
     "output_type": "stream",
     "text": [
      "Finished K5\n",
      "Working with unet_resnet_upconv\n",
      "loading weights from ./logs/unet_resnet_upconv/kfold_unet_resnet_upconv/kfold_unet_resnet_upconv_dice_DA_K6/kfold_unet_resnet_upconv_dice_DA_K6_weights.h5\n"
     ]
    },
    {
     "name": "stderr",
     "output_type": "stream",
     "text": [
      "100%|██████████| 29/29 [02:25<00:00,  5.01s/it]\n"
     ]
    },
    {
     "name": "stdout",
     "output_type": "stream",
     "text": [
      "Finished K6\n",
      "Working with unet_resnet_upconv\n",
      "loading weights from ./logs/unet_resnet_upconv/kfold_unet_resnet_upconv/kfold_unet_resnet_upconv_dice_DA_K7/kfold_unet_resnet_upconv_dice_DA_K7_weights.h5\n"
     ]
    },
    {
     "name": "stderr",
     "output_type": "stream",
     "text": [
      "100%|██████████| 29/29 [02:40<00:00,  5.27s/it]\n"
     ]
    },
    {
     "name": "stdout",
     "output_type": "stream",
     "text": [
      "Finished K7\n",
      "Working with unet_resnet_upconv\n",
      "loading weights from ./logs/unet_resnet_upconv/kfold_unet_resnet_upconv/kfold_unet_resnet_upconv_dice_DA_K8/kfold_unet_resnet_upconv_dice_DA_K8_weights.h5\n"
     ]
    },
    {
     "name": "stderr",
     "output_type": "stream",
     "text": [
      "100%|██████████| 29/29 [02:47<00:00,  6.91s/it]\n"
     ]
    },
    {
     "name": "stdout",
     "output_type": "stream",
     "text": [
      "Finished K8\n",
      "Working with unet_resnet_upconv\n",
      "loading weights from ./logs/unet_resnet_upconv/kfold_unet_resnet_upconv/kfold_unet_resnet_upconv_dice_DA_K9/kfold_unet_resnet_upconv_dice_DA_K9_weights.h5\n"
     ]
    },
    {
     "name": "stderr",
     "output_type": "stream",
     "text": [
      "100%|██████████| 29/29 [02:24<00:00,  4.60s/it]\n"
     ]
    },
    {
     "name": "stdout",
     "output_type": "stream",
     "text": [
      "Finished K9\n",
      "\n",
      "no pp\n",
      "Working with unet_resnet_upconv_se\n",
      "loading weights from ./logs/unet_resnet_upconv_se/kfold_unet_resnet_upconv_se/kfold_unet_resnet_upconv_se_dice_DA_K0/kfold_unet_resnet_upconv_se_dice_DA_K0_weights.h5\n"
     ]
    },
    {
     "name": "stderr",
     "output_type": "stream",
     "text": [
      "100%|██████████| 30/30 [02:43<00:00,  5.10s/it]\n"
     ]
    },
    {
     "name": "stdout",
     "output_type": "stream",
     "text": [
      "Finished K0\n",
      "Working with unet_resnet_upconv_se\n",
      "loading weights from ./logs/unet_resnet_upconv_se/kfold_unet_resnet_upconv_se/kfold_unet_resnet_upconv_se_dice_DA_K1/kfold_unet_resnet_upconv_se_dice_DA_K1_weights.h5\n"
     ]
    },
    {
     "name": "stderr",
     "output_type": "stream",
     "text": [
      "100%|██████████| 29/29 [02:49<00:00,  5.58s/it]\n"
     ]
    },
    {
     "name": "stdout",
     "output_type": "stream",
     "text": [
      "Finished K1\n",
      "Working with unet_resnet_upconv_se\n",
      "loading weights from ./logs/unet_resnet_upconv_se/kfold_unet_resnet_upconv_se/kfold_unet_resnet_upconv_se_dice_DA_K2/kfold_unet_resnet_upconv_se_dice_DA_K2_weights.h5\n"
     ]
    },
    {
     "name": "stderr",
     "output_type": "stream",
     "text": [
      "100%|██████████| 29/29 [02:29<00:00,  4.74s/it]\n"
     ]
    },
    {
     "name": "stdout",
     "output_type": "stream",
     "text": [
      "Finished K2\n",
      "Working with unet_resnet_upconv_se\n",
      "loading weights from ./logs/unet_resnet_upconv_se/kfold_unet_resnet_upconv_se/kfold_unet_resnet_upconv_se_dice_DA_K3/kfold_unet_resnet_upconv_se_dice_DA_K3_weights.h5\n"
     ]
    },
    {
     "name": "stderr",
     "output_type": "stream",
     "text": [
      "100%|██████████| 29/29 [02:34<00:00,  4.87s/it]\n"
     ]
    },
    {
     "name": "stdout",
     "output_type": "stream",
     "text": [
      "Finished K3\n",
      "Working with unet_resnet_upconv_se\n",
      "loading weights from ./logs/unet_resnet_upconv_se/kfold_unet_resnet_upconv_se/kfold_unet_resnet_upconv_se_dice_DA_K4/kfold_unet_resnet_upconv_se_dice_DA_K4_weights.h5\n"
     ]
    },
    {
     "name": "stderr",
     "output_type": "stream",
     "text": [
      "100%|██████████| 29/29 [02:38<00:00,  5.04s/it]\n"
     ]
    },
    {
     "name": "stdout",
     "output_type": "stream",
     "text": [
      "Finished K4\n",
      "Working with unet_resnet_upconv_se\n",
      "loading weights from ./logs/unet_resnet_upconv_se/kfold_unet_resnet_upconv_se/kfold_unet_resnet_upconv_se_dice_DA_K5/kfold_unet_resnet_upconv_se_dice_DA_K5_weights.h5\n"
     ]
    },
    {
     "name": "stderr",
     "output_type": "stream",
     "text": [
      "100%|██████████| 29/29 [02:27<00:00,  5.23s/it]\n"
     ]
    },
    {
     "name": "stdout",
     "output_type": "stream",
     "text": [
      "Finished K5\n",
      "Working with unet_resnet_upconv_se\n",
      "loading weights from ./logs/unet_resnet_upconv_se/kfold_unet_resnet_upconv_se/kfold_unet_resnet_upconv_se_dice_DA_K6/kfold_unet_resnet_upconv_se_dice_DA_K6_weights.h5\n"
     ]
    },
    {
     "name": "stderr",
     "output_type": "stream",
     "text": [
      "100%|██████████| 29/29 [02:26<00:00,  5.06s/it]\n"
     ]
    },
    {
     "name": "stdout",
     "output_type": "stream",
     "text": [
      "Finished K6\n",
      "Working with unet_resnet_upconv_se\n",
      "loading weights from ./logs/unet_resnet_upconv_se/kfold_unet_resnet_upconv_se/kfold_unet_resnet_upconv_se_dice_DA_K7/kfold_unet_resnet_upconv_se_dice_DA_K7_weights.h5\n"
     ]
    },
    {
     "name": "stderr",
     "output_type": "stream",
     "text": [
      "100%|██████████| 29/29 [02:45<00:00,  5.42s/it]\n"
     ]
    },
    {
     "name": "stdout",
     "output_type": "stream",
     "text": [
      "Finished K7\n",
      "Working with unet_resnet_upconv_se\n",
      "loading weights from ./logs/unet_resnet_upconv_se/kfold_unet_resnet_upconv_se/kfold_unet_resnet_upconv_se_dice_DA_K8/kfold_unet_resnet_upconv_se_dice_DA_K8_weights.h5\n"
     ]
    },
    {
     "name": "stderr",
     "output_type": "stream",
     "text": [
      "100%|██████████| 29/29 [02:49<00:00,  7.10s/it]\n"
     ]
    },
    {
     "name": "stdout",
     "output_type": "stream",
     "text": [
      "Finished K8\n",
      "Working with unet_resnet_upconv_se\n",
      "loading weights from ./logs/unet_resnet_upconv_se/kfold_unet_resnet_upconv_se/kfold_unet_resnet_upconv_se_dice_DA_K9/kfold_unet_resnet_upconv_se_dice_DA_K9_weights.h5\n"
     ]
    },
    {
     "name": "stderr",
     "output_type": "stream",
     "text": [
      "100%|██████████| 29/29 [02:25<00:00,  4.68s/it]\n"
     ]
    },
    {
     "name": "stdout",
     "output_type": "stream",
     "text": [
      "Finished K9\n",
      "\n",
      "pp\n",
      "Working with unet\n",
      "loading weights from ./logs/unet/kfold_unet/kfold_unet_dice_DA_K0/kfold_unet_dice_DA_K0_weights.h5\n"
     ]
    },
    {
     "name": "stderr",
     "output_type": "stream",
     "text": [
      "100%|██████████| 30/30 [02:35<00:00,  4.75s/it]\n"
     ]
    },
    {
     "name": "stdout",
     "output_type": "stream",
     "text": [
      "Finished K0\n",
      "Working with unet\n",
      "loading weights from ./logs/unet/kfold_unet/kfold_unet_dice_DA_K1/kfold_unet_dice_DA_K1_weights.h5\n"
     ]
    },
    {
     "name": "stderr",
     "output_type": "stream",
     "text": [
      "100%|██████████| 29/29 [02:37<00:00,  5.04s/it]\n"
     ]
    },
    {
     "name": "stdout",
     "output_type": "stream",
     "text": [
      "Finished K1\n",
      "Working with unet\n",
      "loading weights from ./logs/unet/kfold_unet/kfold_unet_dice_DA_K2/kfold_unet_dice_DA_K2_weights.h5\n"
     ]
    },
    {
     "name": "stderr",
     "output_type": "stream",
     "text": [
      "100%|██████████| 29/29 [02:25<00:00,  4.69s/it]\n"
     ]
    },
    {
     "name": "stdout",
     "output_type": "stream",
     "text": [
      "Finished K2\n",
      "Working with unet\n",
      "loading weights from ./logs/unet/kfold_unet/kfold_unet_dice_DA_K3/kfold_unet_dice_DA_K3_weights.h5\n"
     ]
    },
    {
     "name": "stderr",
     "output_type": "stream",
     "text": [
      "100%|██████████| 29/29 [02:31<00:00,  4.82s/it]\n"
     ]
    },
    {
     "name": "stdout",
     "output_type": "stream",
     "text": [
      "Finished K3\n",
      "Working with unet\n",
      "loading weights from ./logs/unet/kfold_unet/kfold_unet_dice_DA_K4/kfold_unet_dice_DA_K4_weights.h5\n"
     ]
    },
    {
     "name": "stderr",
     "output_type": "stream",
     "text": [
      "100%|██████████| 29/29 [02:36<00:00,  5.03s/it]\n"
     ]
    },
    {
     "name": "stdout",
     "output_type": "stream",
     "text": [
      "Finished K4\n",
      "Working with unet\n",
      "loading weights from ./logs/unet/kfold_unet/kfold_unet_dice_DA_K5/kfold_unet_dice_DA_K5_weights.h5\n"
     ]
    },
    {
     "name": "stderr",
     "output_type": "stream",
     "text": [
      "100%|██████████| 29/29 [02:22<00:00,  5.12s/it]\n"
     ]
    },
    {
     "name": "stdout",
     "output_type": "stream",
     "text": [
      "Finished K5\n",
      "Working with unet\n",
      "loading weights from ./logs/unet/kfold_unet/kfold_unet_dice_DA_K6/kfold_unet_dice_DA_K6_weights.h5\n"
     ]
    },
    {
     "name": "stderr",
     "output_type": "stream",
     "text": [
      "100%|██████████| 29/29 [02:21<00:00,  4.89s/it]\n"
     ]
    },
    {
     "name": "stdout",
     "output_type": "stream",
     "text": [
      "Finished K6\n",
      "Working with unet\n",
      "loading weights from ./logs/unet/kfold_unet/kfold_unet_dice_DA_K7/kfold_unet_dice_DA_K7_weights.h5\n"
     ]
    },
    {
     "name": "stderr",
     "output_type": "stream",
     "text": [
      "100%|██████████| 29/29 [02:39<00:00,  5.25s/it]\n"
     ]
    },
    {
     "name": "stdout",
     "output_type": "stream",
     "text": [
      "Finished K7\n",
      "Working with unet\n",
      "loading weights from ./logs/unet/kfold_unet/kfold_unet_dice_DA_K8/kfold_unet_dice_DA_K8_weights.h5\n"
     ]
    },
    {
     "name": "stderr",
     "output_type": "stream",
     "text": [
      "100%|██████████| 29/29 [02:45<00:00,  6.96s/it]\n"
     ]
    },
    {
     "name": "stdout",
     "output_type": "stream",
     "text": [
      "Finished K8\n",
      "Working with unet\n",
      "loading weights from ./logs/unet/kfold_unet/kfold_unet_dice_DA_K9/kfold_unet_dice_DA_K9_weights.h5\n"
     ]
    },
    {
     "name": "stderr",
     "output_type": "stream",
     "text": [
      "100%|██████████| 29/29 [02:23<00:00,  4.44s/it]\n"
     ]
    },
    {
     "name": "stdout",
     "output_type": "stream",
     "text": [
      "Finished K9\n",
      "\n",
      "pp\n",
      "Working with unet_se\n",
      "loading weights from ./logs/unet_se/kfold_unet_se/kfold_unet_se_dice_DA_K0/kfold_unet_se_dice_DA_K0_weights.h5\n"
     ]
    },
    {
     "name": "stderr",
     "output_type": "stream",
     "text": [
      "100%|██████████| 30/30 [02:34<00:00,  4.91s/it]\n"
     ]
    },
    {
     "name": "stdout",
     "output_type": "stream",
     "text": [
      "Finished K0\n",
      "Working with unet_se\n",
      "loading weights from ./logs/unet_se/kfold_unet_se/kfold_unet_se_dice_DA_K1/kfold_unet_se_dice_DA_K1_weights.h5\n"
     ]
    },
    {
     "name": "stderr",
     "output_type": "stream",
     "text": [
      "100%|██████████| 29/29 [02:38<00:00,  5.25s/it]\n"
     ]
    },
    {
     "name": "stdout",
     "output_type": "stream",
     "text": [
      "Finished K1\n",
      "Working with unet_se\n",
      "loading weights from ./logs/unet_se/kfold_unet_se/kfold_unet_se_dice_DA_K2/kfold_unet_se_dice_DA_K2_weights.h5\n"
     ]
    },
    {
     "name": "stderr",
     "output_type": "stream",
     "text": [
      "100%|██████████| 29/29 [02:26<00:00,  4.57s/it]\n"
     ]
    },
    {
     "name": "stdout",
     "output_type": "stream",
     "text": [
      "Finished K2\n",
      "Working with unet_se\n",
      "loading weights from ./logs/unet_se/kfold_unet_se/kfold_unet_se_dice_DA_K3/kfold_unet_se_dice_DA_K3_weights.h5\n"
     ]
    },
    {
     "name": "stderr",
     "output_type": "stream",
     "text": [
      "100%|██████████| 29/29 [02:30<00:00,  4.80s/it]\n"
     ]
    },
    {
     "name": "stdout",
     "output_type": "stream",
     "text": [
      "Finished K3\n",
      "Working with unet_se\n",
      "loading weights from ./logs/unet_se/kfold_unet_se/kfold_unet_se_dice_DA_K4/kfold_unet_se_dice_DA_K4_weights.h5\n"
     ]
    },
    {
     "name": "stderr",
     "output_type": "stream",
     "text": [
      "100%|██████████| 29/29 [02:36<00:00,  5.09s/it]\n"
     ]
    },
    {
     "name": "stdout",
     "output_type": "stream",
     "text": [
      "Finished K4\n",
      "Working with unet_se\n",
      "loading weights from ./logs/unet_se/kfold_unet_se/kfold_unet_se_dice_DA_K5/kfold_unet_se_dice_DA_K5_weights.h5\n"
     ]
    },
    {
     "name": "stderr",
     "output_type": "stream",
     "text": [
      "100%|██████████| 29/29 [02:24<00:00,  5.17s/it]\n"
     ]
    },
    {
     "name": "stdout",
     "output_type": "stream",
     "text": [
      "Finished K5\n",
      "Working with unet_se\n",
      "loading weights from ./logs/unet_se/kfold_unet_se/kfold_unet_se_dice_DA_K6/kfold_unet_se_dice_DA_K6_weights.h5\n"
     ]
    },
    {
     "name": "stderr",
     "output_type": "stream",
     "text": [
      "100%|██████████| 29/29 [02:19<00:00,  4.73s/it]\n"
     ]
    },
    {
     "name": "stdout",
     "output_type": "stream",
     "text": [
      "Finished K6\n",
      "Working with unet_se\n",
      "loading weights from ./logs/unet_se/kfold_unet_se/kfold_unet_se_dice_DA_K7/kfold_unet_se_dice_DA_K7_weights.h5\n"
     ]
    },
    {
     "name": "stderr",
     "output_type": "stream",
     "text": [
      "100%|██████████| 29/29 [02:40<00:00,  5.26s/it]\n"
     ]
    },
    {
     "name": "stdout",
     "output_type": "stream",
     "text": [
      "Finished K7\n",
      "Working with unet_se\n",
      "loading weights from ./logs/unet_se/kfold_unet_se/kfold_unet_se_dice_DA_K8/kfold_unet_se_dice_DA_K8_weights.h5\n"
     ]
    },
    {
     "name": "stderr",
     "output_type": "stream",
     "text": [
      "100%|██████████| 29/29 [02:45<00:00,  7.00s/it]\n"
     ]
    },
    {
     "name": "stdout",
     "output_type": "stream",
     "text": [
      "Finished K8\n",
      "Working with unet_se\n",
      "loading weights from ./logs/unet_se/kfold_unet_se/kfold_unet_se_dice_DA_K9/kfold_unet_se_dice_DA_K9_weights.h5\n"
     ]
    },
    {
     "name": "stderr",
     "output_type": "stream",
     "text": [
      "100%|██████████| 29/29 [02:25<00:00,  4.48s/it]\n"
     ]
    },
    {
     "name": "stdout",
     "output_type": "stream",
     "text": [
      "Finished K9\n",
      "\n",
      "pp\n",
      "Working with unet_upconv\n",
      "loading weights from ./logs/unet_upconv/kfold_unet_upconv/kfold_unet_upconv_dice_DA_K0/kfold_unet_upconv_dice_DA_K0_weights.h5\n"
     ]
    },
    {
     "name": "stderr",
     "output_type": "stream",
     "text": [
      "100%|██████████| 30/30 [02:36<00:00,  4.76s/it]\n"
     ]
    },
    {
     "name": "stdout",
     "output_type": "stream",
     "text": [
      "Finished K0\n",
      "Working with unet_upconv\n",
      "loading weights from ./logs/unet_upconv/kfold_unet_upconv/kfold_unet_upconv_dice_DA_K1/kfold_unet_upconv_dice_DA_K1_weights.h5\n"
     ]
    },
    {
     "name": "stderr",
     "output_type": "stream",
     "text": [
      "100%|██████████| 29/29 [02:43<00:00,  5.53s/it]\n"
     ]
    },
    {
     "name": "stdout",
     "output_type": "stream",
     "text": [
      "Finished K1\n",
      "Working with unet_upconv\n",
      "loading weights from ./logs/unet_upconv/kfold_unet_upconv/kfold_unet_upconv_dice_DA_K2/kfold_unet_upconv_dice_DA_K2_weights.h5\n"
     ]
    },
    {
     "name": "stderr",
     "output_type": "stream",
     "text": [
      "100%|██████████| 29/29 [02:25<00:00,  4.43s/it]\n"
     ]
    },
    {
     "name": "stdout",
     "output_type": "stream",
     "text": [
      "Finished K2\n",
      "Working with unet_upconv\n",
      "loading weights from ./logs/unet_upconv/kfold_unet_upconv/kfold_unet_upconv_dice_DA_K3/kfold_unet_upconv_dice_DA_K3_weights.h5\n"
     ]
    },
    {
     "name": "stderr",
     "output_type": "stream",
     "text": [
      "100%|██████████| 29/29 [02:28<00:00,  5.00s/it]\n"
     ]
    },
    {
     "name": "stdout",
     "output_type": "stream",
     "text": [
      "Finished K3\n",
      "Working with unet_upconv\n",
      "loading weights from ./logs/unet_upconv/kfold_unet_upconv/kfold_unet_upconv_dice_DA_K4/kfold_unet_upconv_dice_DA_K4_weights.h5\n"
     ]
    },
    {
     "name": "stderr",
     "output_type": "stream",
     "text": [
      "100%|██████████| 29/29 [02:39<00:00,  5.07s/it]\n"
     ]
    },
    {
     "name": "stdout",
     "output_type": "stream",
     "text": [
      "Finished K4\n",
      "Working with unet_upconv\n",
      "loading weights from ./logs/unet_upconv/kfold_unet_upconv/kfold_unet_upconv_dice_DA_K5/kfold_unet_upconv_dice_DA_K5_weights.h5\n"
     ]
    },
    {
     "name": "stderr",
     "output_type": "stream",
     "text": [
      "100%|██████████| 29/29 [02:24<00:00,  5.19s/it]\n"
     ]
    },
    {
     "name": "stdout",
     "output_type": "stream",
     "text": [
      "Finished K5\n",
      "Working with unet_upconv\n",
      "loading weights from ./logs/unet_upconv/kfold_unet_upconv/kfold_unet_upconv_dice_DA_K6/kfold_unet_upconv_dice_DA_K6_weights.h5\n"
     ]
    },
    {
     "name": "stderr",
     "output_type": "stream",
     "text": [
      "100%|██████████| 29/29 [02:18<00:00,  4.80s/it]\n"
     ]
    },
    {
     "name": "stdout",
     "output_type": "stream",
     "text": [
      "Finished K6\n",
      "Working with unet_upconv\n",
      "loading weights from ./logs/unet_upconv/kfold_unet_upconv/kfold_unet_upconv_dice_DA_K7/kfold_unet_upconv_dice_DA_K7_weights.h5\n"
     ]
    },
    {
     "name": "stderr",
     "output_type": "stream",
     "text": [
      "100%|██████████| 29/29 [02:38<00:00,  4.99s/it]\n"
     ]
    },
    {
     "name": "stdout",
     "output_type": "stream",
     "text": [
      "Finished K7\n",
      "Working with unet_upconv\n",
      "loading weights from ./logs/unet_upconv/kfold_unet_upconv/kfold_unet_upconv_dice_DA_K8/kfold_unet_upconv_dice_DA_K8_weights.h5\n"
     ]
    },
    {
     "name": "stderr",
     "output_type": "stream",
     "text": [
      "100%|██████████| 29/29 [02:44<00:00,  6.88s/it]\n"
     ]
    },
    {
     "name": "stdout",
     "output_type": "stream",
     "text": [
      "Finished K8\n",
      "Working with unet_upconv\n",
      "loading weights from ./logs/unet_upconv/kfold_unet_upconv/kfold_unet_upconv_dice_DA_K9/kfold_unet_upconv_dice_DA_K9_weights.h5\n"
     ]
    },
    {
     "name": "stderr",
     "output_type": "stream",
     "text": [
      "100%|██████████| 29/29 [02:27<00:00,  4.62s/it]\n"
     ]
    },
    {
     "name": "stdout",
     "output_type": "stream",
     "text": [
      "Finished K9\n",
      "\n",
      "pp\n",
      "Working with unet_upconv_se\n",
      "loading weights from ./logs/unet_upconv_se/kfold_unet_upconv_se/kfold_unet_upconv_se_dice_DA_K0/kfold_unet_upconv_se_dice_DA_K0_weights.h5\n"
     ]
    },
    {
     "name": "stderr",
     "output_type": "stream",
     "text": [
      "100%|██████████| 30/30 [02:39<00:00,  5.09s/it]\n"
     ]
    },
    {
     "name": "stdout",
     "output_type": "stream",
     "text": [
      "Finished K0\n",
      "Working with unet_upconv_se\n",
      "loading weights from ./logs/unet_upconv_se/kfold_unet_upconv_se/kfold_unet_upconv_se_dice_DA_K1/kfold_unet_upconv_se_dice_DA_K1_weights.h5\n"
     ]
    },
    {
     "name": "stderr",
     "output_type": "stream",
     "text": [
      "100%|██████████| 29/29 [02:44<00:00,  5.46s/it]\n"
     ]
    },
    {
     "name": "stdout",
     "output_type": "stream",
     "text": [
      "Finished K1\n",
      "Working with unet_upconv_se\n",
      "loading weights from ./logs/unet_upconv_se/kfold_unet_upconv_se/kfold_unet_upconv_se_dice_DA_K2/kfold_unet_upconv_se_dice_DA_K2_weights.h5\n"
     ]
    },
    {
     "name": "stderr",
     "output_type": "stream",
     "text": [
      "100%|██████████| 29/29 [02:28<00:00,  4.69s/it]\n"
     ]
    },
    {
     "name": "stdout",
     "output_type": "stream",
     "text": [
      "Finished K2\n",
      "Working with unet_upconv_se\n",
      "loading weights from ./logs/unet_upconv_se/kfold_unet_upconv_se/kfold_unet_upconv_se_dice_DA_K3/kfold_unet_upconv_se_dice_DA_K3_weights.h5\n"
     ]
    },
    {
     "name": "stderr",
     "output_type": "stream",
     "text": [
      "100%|██████████| 29/29 [02:33<00:00,  4.99s/it]\n"
     ]
    },
    {
     "name": "stdout",
     "output_type": "stream",
     "text": [
      "Finished K3\n",
      "Working with unet_upconv_se\n",
      "loading weights from ./logs/unet_upconv_se/kfold_unet_upconv_se/kfold_unet_upconv_se_dice_DA_K4/kfold_unet_upconv_se_dice_DA_K4_weights.h5\n"
     ]
    },
    {
     "name": "stderr",
     "output_type": "stream",
     "text": [
      "100%|██████████| 29/29 [02:38<00:00,  5.27s/it]\n"
     ]
    },
    {
     "name": "stdout",
     "output_type": "stream",
     "text": [
      "Finished K4\n",
      "Working with unet_upconv_se\n",
      "loading weights from ./logs/unet_upconv_se/kfold_unet_upconv_se/kfold_unet_upconv_se_dice_DA_K5/kfold_unet_upconv_se_dice_DA_K5_weights.h5\n"
     ]
    },
    {
     "name": "stderr",
     "output_type": "stream",
     "text": [
      "100%|██████████| 29/29 [02:27<00:00,  5.44s/it]\n"
     ]
    },
    {
     "name": "stdout",
     "output_type": "stream",
     "text": [
      "Finished K5\n",
      "Working with unet_upconv_se\n",
      "loading weights from ./logs/unet_upconv_se/kfold_unet_upconv_se/kfold_unet_upconv_se_dice_DA_K6/kfold_unet_upconv_se_dice_DA_K6_weights.h5\n"
     ]
    },
    {
     "name": "stderr",
     "output_type": "stream",
     "text": [
      "100%|██████████| 29/29 [02:25<00:00,  4.96s/it]\n"
     ]
    },
    {
     "name": "stdout",
     "output_type": "stream",
     "text": [
      "Finished K6\n",
      "Working with unet_upconv_se\n",
      "loading weights from ./logs/unet_upconv_se/kfold_unet_upconv_se/kfold_unet_upconv_se_dice_DA_K7/kfold_unet_upconv_se_dice_DA_K7_weights.h5\n"
     ]
    },
    {
     "name": "stderr",
     "output_type": "stream",
     "text": [
      "100%|██████████| 29/29 [02:40<00:00,  5.24s/it]\n"
     ]
    },
    {
     "name": "stdout",
     "output_type": "stream",
     "text": [
      "Finished K7\n",
      "Working with unet_upconv_se\n",
      "loading weights from ./logs/unet_upconv_se/kfold_unet_upconv_se/kfold_unet_upconv_se_dice_DA_K8/kfold_unet_upconv_se_dice_DA_K8_weights.h5\n"
     ]
    },
    {
     "name": "stderr",
     "output_type": "stream",
     "text": [
      "100%|██████████| 29/29 [02:46<00:00,  6.89s/it]\n"
     ]
    },
    {
     "name": "stdout",
     "output_type": "stream",
     "text": [
      "Finished K8\n",
      "Working with unet_upconv_se\n",
      "loading weights from ./logs/unet_upconv_se/kfold_unet_upconv_se/kfold_unet_upconv_se_dice_DA_K9/kfold_unet_upconv_se_dice_DA_K9_weights.h5\n"
     ]
    },
    {
     "name": "stderr",
     "output_type": "stream",
     "text": [
      "100%|██████████| 29/29 [02:28<00:00,  4.68s/it]\n"
     ]
    },
    {
     "name": "stdout",
     "output_type": "stream",
     "text": [
      "Finished K9\n",
      "\n",
      "pp\n",
      "Working with unet_upconv_bn\n",
      "loading weights from ./logs/unet_upconv_bn/kfold_unet_upconv_bn/kfold_unet_upconv_bn_dice_DA_K0/kfold_unet_upconv_bn_dice_DA_K0_weights.h5\n"
     ]
    },
    {
     "name": "stderr",
     "output_type": "stream",
     "text": [
      "100%|██████████| 30/30 [02:32<00:00,  4.66s/it]\n"
     ]
    },
    {
     "name": "stdout",
     "output_type": "stream",
     "text": [
      "Finished K0\n",
      "Working with unet_upconv_bn\n",
      "loading weights from ./logs/unet_upconv_bn/kfold_unet_upconv_bn/kfold_unet_upconv_bn_dice_DA_K1/kfold_unet_upconv_bn_dice_DA_K1_weights.h5\n"
     ]
    },
    {
     "name": "stderr",
     "output_type": "stream",
     "text": [
      "100%|██████████| 29/29 [02:39<00:00,  5.20s/it]\n"
     ]
    },
    {
     "name": "stdout",
     "output_type": "stream",
     "text": [
      "Finished K1\n",
      "Working with unet_upconv_bn\n",
      "loading weights from ./logs/unet_upconv_bn/kfold_unet_upconv_bn/kfold_unet_upconv_bn_dice_DA_K2/kfold_unet_upconv_bn_dice_DA_K2_weights.h5\n"
     ]
    },
    {
     "name": "stderr",
     "output_type": "stream",
     "text": [
      "100%|██████████| 29/29 [02:29<00:00,  4.73s/it]\n"
     ]
    },
    {
     "name": "stdout",
     "output_type": "stream",
     "text": [
      "Finished K2\n",
      "Working with unet_upconv_bn\n",
      "loading weights from ./logs/unet_upconv_bn/kfold_unet_upconv_bn/kfold_unet_upconv_bn_dice_DA_K3/kfold_unet_upconv_bn_dice_DA_K3_weights.h5\n"
     ]
    },
    {
     "name": "stderr",
     "output_type": "stream",
     "text": [
      "100%|██████████| 29/29 [02:32<00:00,  4.79s/it]\n"
     ]
    },
    {
     "name": "stdout",
     "output_type": "stream",
     "text": [
      "Finished K3\n",
      "Working with unet_upconv_bn\n",
      "loading weights from ./logs/unet_upconv_bn/kfold_unet_upconv_bn/kfold_unet_upconv_bn_dice_DA_K4/kfold_unet_upconv_bn_dice_DA_K4_weights.h5\n"
     ]
    },
    {
     "name": "stderr",
     "output_type": "stream",
     "text": [
      "100%|██████████| 29/29 [02:35<00:00,  5.10s/it]\n"
     ]
    },
    {
     "name": "stdout",
     "output_type": "stream",
     "text": [
      "Finished K4\n",
      "Working with unet_upconv_bn\n",
      "loading weights from ./logs/unet_upconv_bn/kfold_unet_upconv_bn/kfold_unet_upconv_bn_dice_DA_K5/kfold_unet_upconv_bn_dice_DA_K5_weights.h5\n"
     ]
    },
    {
     "name": "stderr",
     "output_type": "stream",
     "text": [
      "100%|██████████| 29/29 [02:17<00:00,  5.17s/it]\n"
     ]
    },
    {
     "name": "stdout",
     "output_type": "stream",
     "text": [
      "Finished K5\n",
      "Working with unet_upconv_bn\n",
      "loading weights from ./logs/unet_upconv_bn/kfold_unet_upconv_bn/kfold_unet_upconv_bn_dice_DA_K6/kfold_unet_upconv_bn_dice_DA_K6_weights.h5\n"
     ]
    },
    {
     "name": "stderr",
     "output_type": "stream",
     "text": [
      "100%|██████████| 29/29 [02:22<00:00,  4.90s/it]\n"
     ]
    },
    {
     "name": "stdout",
     "output_type": "stream",
     "text": [
      "Finished K6\n",
      "Working with unet_upconv_bn\n",
      "loading weights from ./logs/unet_upconv_bn/kfold_unet_upconv_bn/kfold_unet_upconv_bn_dice_DA_K7/kfold_unet_upconv_bn_dice_DA_K7_weights.h5\n"
     ]
    },
    {
     "name": "stderr",
     "output_type": "stream",
     "text": [
      "100%|██████████| 29/29 [02:40<00:00,  5.15s/it]\n"
     ]
    },
    {
     "name": "stdout",
     "output_type": "stream",
     "text": [
      "Finished K7\n",
      "Working with unet_upconv_bn\n",
      "loading weights from ./logs/unet_upconv_bn/kfold_unet_upconv_bn/kfold_unet_upconv_bn_dice_DA_K8/kfold_unet_upconv_bn_dice_DA_K8_weights.h5\n"
     ]
    },
    {
     "name": "stderr",
     "output_type": "stream",
     "text": [
      "100%|██████████| 29/29 [02:43<00:00,  6.75s/it]\n"
     ]
    },
    {
     "name": "stdout",
     "output_type": "stream",
     "text": [
      "Finished K8\n",
      "Working with unet_upconv_bn\n",
      "loading weights from ./logs/unet_upconv_bn/kfold_unet_upconv_bn/kfold_unet_upconv_bn_dice_DA_K9/kfold_unet_upconv_bn_dice_DA_K9_weights.h5\n"
     ]
    },
    {
     "name": "stderr",
     "output_type": "stream",
     "text": [
      "100%|██████████| 29/29 [02:23<00:00,  4.54s/it]\n"
     ]
    },
    {
     "name": "stdout",
     "output_type": "stream",
     "text": [
      "Finished K9\n",
      "\n",
      "pp\n",
      "Working with vgg19FCN\n",
      "loading weights from ./logs/vgg19FCN/kfold_vgg19FCN/kfold_vgg19FCN_dice_DA_K0/kfold_vgg19FCN_dice_DA_K0_weights.h5\n"
     ]
    },
    {
     "name": "stderr",
     "output_type": "stream",
     "text": [
      "100%|██████████| 30/30 [02:36<00:00,  4.75s/it]\n"
     ]
    },
    {
     "name": "stdout",
     "output_type": "stream",
     "text": [
      "Finished K0\n",
      "Working with vgg19FCN\n",
      "loading weights from ./logs/vgg19FCN/kfold_vgg19FCN/kfold_vgg19FCN_dice_DA_K1/kfold_vgg19FCN_dice_DA_K1_weights.h5\n"
     ]
    },
    {
     "name": "stderr",
     "output_type": "stream",
     "text": [
      "100%|██████████| 29/29 [02:43<00:00,  5.45s/it]\n"
     ]
    },
    {
     "name": "stdout",
     "output_type": "stream",
     "text": [
      "Finished K1\n",
      "Working with vgg19FCN\n",
      "loading weights from ./logs/vgg19FCN/kfold_vgg19FCN/kfold_vgg19FCN_dice_DA_K2/kfold_vgg19FCN_dice_DA_K2_weights.h5\n"
     ]
    },
    {
     "name": "stderr",
     "output_type": "stream",
     "text": [
      "100%|██████████| 29/29 [02:24<00:00,  4.53s/it]\n"
     ]
    },
    {
     "name": "stdout",
     "output_type": "stream",
     "text": [
      "Finished K2\n",
      "Working with vgg19FCN\n",
      "loading weights from ./logs/vgg19FCN/kfold_vgg19FCN/kfold_vgg19FCN_dice_DA_K3/kfold_vgg19FCN_dice_DA_K3_weights.h5\n"
     ]
    },
    {
     "name": "stderr",
     "output_type": "stream",
     "text": [
      "100%|██████████| 29/29 [02:29<00:00,  4.77s/it]\n"
     ]
    },
    {
     "name": "stdout",
     "output_type": "stream",
     "text": [
      "Finished K3\n",
      "Working with vgg19FCN\n",
      "loading weights from ./logs/vgg19FCN/kfold_vgg19FCN/kfold_vgg19FCN_dice_DA_K4/kfold_vgg19FCN_dice_DA_K4_weights.h5\n"
     ]
    },
    {
     "name": "stderr",
     "output_type": "stream",
     "text": [
      "100%|██████████| 29/29 [02:35<00:00,  5.22s/it]\n"
     ]
    },
    {
     "name": "stdout",
     "output_type": "stream",
     "text": [
      "Finished K4\n",
      "Working with vgg19FCN\n",
      "loading weights from ./logs/vgg19FCN/kfold_vgg19FCN/kfold_vgg19FCN_dice_DA_K5/kfold_vgg19FCN_dice_DA_K5_weights.h5\n"
     ]
    },
    {
     "name": "stderr",
     "output_type": "stream",
     "text": [
      "100%|██████████| 29/29 [02:23<00:00,  5.07s/it]\n"
     ]
    },
    {
     "name": "stdout",
     "output_type": "stream",
     "text": [
      "Finished K5\n",
      "Working with vgg19FCN\n",
      "loading weights from ./logs/vgg19FCN/kfold_vgg19FCN/kfold_vgg19FCN_dice_DA_K6/kfold_vgg19FCN_dice_DA_K6_weights.h5\n"
     ]
    },
    {
     "name": "stderr",
     "output_type": "stream",
     "text": [
      "100%|██████████| 29/29 [02:20<00:00,  4.84s/it]\n"
     ]
    },
    {
     "name": "stdout",
     "output_type": "stream",
     "text": [
      "Finished K6\n",
      "Working with vgg19FCN\n",
      "loading weights from ./logs/vgg19FCN/kfold_vgg19FCN/kfold_vgg19FCN_dice_DA_K7/kfold_vgg19FCN_dice_DA_K7_weights.h5\n"
     ]
    },
    {
     "name": "stderr",
     "output_type": "stream",
     "text": [
      "100%|██████████| 29/29 [02:39<00:00,  5.07s/it]\n"
     ]
    },
    {
     "name": "stdout",
     "output_type": "stream",
     "text": [
      "Finished K7\n",
      "Working with vgg19FCN\n",
      "loading weights from ./logs/vgg19FCN/kfold_vgg19FCN/kfold_vgg19FCN_dice_DA_K8/kfold_vgg19FCN_dice_DA_K8_weights.h5\n"
     ]
    },
    {
     "name": "stderr",
     "output_type": "stream",
     "text": [
      "100%|██████████| 29/29 [02:45<00:00,  6.93s/it]\n"
     ]
    },
    {
     "name": "stdout",
     "output_type": "stream",
     "text": [
      "Finished K8\n",
      "Working with vgg19FCN\n",
      "loading weights from ./logs/vgg19FCN/kfold_vgg19FCN/kfold_vgg19FCN_dice_DA_K9/kfold_vgg19FCN_dice_DA_K9_weights.h5\n"
     ]
    },
    {
     "name": "stderr",
     "output_type": "stream",
     "text": [
      "100%|██████████| 29/29 [02:24<00:00,  4.56s/it]\n"
     ]
    },
    {
     "name": "stdout",
     "output_type": "stream",
     "text": [
      "Finished K9\n",
      "\n",
      "pp\n",
      "Working with vgg19SEFCN\n",
      "loading weights from ./logs/vgg19SEFCN/kfold_vgg19SEFCN/kfold_vgg19SEFCN_dice_DA_K0/kfold_vgg19SEFCN_dice_DA_K0_weights.h5\n"
     ]
    },
    {
     "name": "stderr",
     "output_type": "stream",
     "text": [
      "100%|██████████| 30/30 [02:34<00:00,  4.80s/it]\n"
     ]
    },
    {
     "name": "stdout",
     "output_type": "stream",
     "text": [
      "Finished K0\n",
      "Working with vgg19SEFCN\n",
      "loading weights from ./logs/vgg19SEFCN/kfold_vgg19SEFCN/kfold_vgg19SEFCN_dice_DA_K1/kfold_vgg19SEFCN_dice_DA_K1_weights.h5\n"
     ]
    },
    {
     "name": "stderr",
     "output_type": "stream",
     "text": [
      "100%|██████████| 29/29 [02:43<00:00,  5.35s/it]\n"
     ]
    },
    {
     "name": "stdout",
     "output_type": "stream",
     "text": [
      "Finished K1\n",
      "Working with vgg19SEFCN\n",
      "loading weights from ./logs/vgg19SEFCN/kfold_vgg19SEFCN/kfold_vgg19SEFCN_dice_DA_K2/kfold_vgg19SEFCN_dice_DA_K2_weights.h5\n"
     ]
    },
    {
     "name": "stderr",
     "output_type": "stream",
     "text": [
      "100%|██████████| 29/29 [02:23<00:00,  4.55s/it]\n"
     ]
    },
    {
     "name": "stdout",
     "output_type": "stream",
     "text": [
      "Finished K2\n",
      "Working with vgg19SEFCN\n",
      "loading weights from ./logs/vgg19SEFCN/kfold_vgg19SEFCN/kfold_vgg19SEFCN_dice_DA_K3/kfold_vgg19SEFCN_dice_DA_K3_weights.h5\n"
     ]
    },
    {
     "name": "stderr",
     "output_type": "stream",
     "text": [
      "100%|██████████| 29/29 [02:26<00:00,  4.79s/it]\n"
     ]
    },
    {
     "name": "stdout",
     "output_type": "stream",
     "text": [
      "Finished K3\n",
      "Working with vgg19SEFCN\n",
      "loading weights from ./logs/vgg19SEFCN/kfold_vgg19SEFCN/kfold_vgg19SEFCN_dice_DA_K4/kfold_vgg19SEFCN_dice_DA_K4_weights.h5\n"
     ]
    },
    {
     "name": "stderr",
     "output_type": "stream",
     "text": [
      "100%|██████████| 29/29 [02:33<00:00,  5.03s/it]\n"
     ]
    },
    {
     "name": "stdout",
     "output_type": "stream",
     "text": [
      "Finished K4\n",
      "Working with vgg19SEFCN\n",
      "loading weights from ./logs/vgg19SEFCN/kfold_vgg19SEFCN/kfold_vgg19SEFCN_dice_DA_K5/kfold_vgg19SEFCN_dice_DA_K5_weights.h5\n"
     ]
    },
    {
     "name": "stderr",
     "output_type": "stream",
     "text": [
      "100%|██████████| 29/29 [02:22<00:00,  5.27s/it]\n"
     ]
    },
    {
     "name": "stdout",
     "output_type": "stream",
     "text": [
      "Finished K5\n",
      "Working with vgg19SEFCN\n",
      "loading weights from ./logs/vgg19SEFCN/kfold_vgg19SEFCN/kfold_vgg19SEFCN_dice_DA_K6/kfold_vgg19SEFCN_dice_DA_K6_weights.h5\n"
     ]
    },
    {
     "name": "stderr",
     "output_type": "stream",
     "text": [
      "100%|██████████| 29/29 [02:21<00:00,  4.85s/it]\n"
     ]
    },
    {
     "name": "stdout",
     "output_type": "stream",
     "text": [
      "Finished K6\n",
      "Working with vgg19SEFCN\n",
      "loading weights from ./logs/vgg19SEFCN/kfold_vgg19SEFCN/kfold_vgg19SEFCN_dice_DA_K7/kfold_vgg19SEFCN_dice_DA_K7_weights.h5\n"
     ]
    },
    {
     "name": "stderr",
     "output_type": "stream",
     "text": [
      "100%|██████████| 29/29 [02:39<00:00,  5.24s/it]\n"
     ]
    },
    {
     "name": "stdout",
     "output_type": "stream",
     "text": [
      "Finished K7\n",
      "Working with vgg19SEFCN\n",
      "loading weights from ./logs/vgg19SEFCN/kfold_vgg19SEFCN/kfold_vgg19SEFCN_dice_DA_K8/kfold_vgg19SEFCN_dice_DA_K8_weights.h5\n"
     ]
    },
    {
     "name": "stderr",
     "output_type": "stream",
     "text": [
      "100%|██████████| 29/29 [02:42<00:00,  6.86s/it]\n"
     ]
    },
    {
     "name": "stdout",
     "output_type": "stream",
     "text": [
      "Finished K8\n",
      "Working with vgg19SEFCN\n",
      "loading weights from ./logs/vgg19SEFCN/kfold_vgg19SEFCN/kfold_vgg19SEFCN_dice_DA_K9/kfold_vgg19SEFCN_dice_DA_K9_weights.h5\n"
     ]
    },
    {
     "name": "stderr",
     "output_type": "stream",
     "text": [
      "100%|██████████| 29/29 [02:26<00:00,  4.69s/it]\n"
     ]
    },
    {
     "name": "stdout",
     "output_type": "stream",
     "text": [
      "Finished K9\n",
      "\n",
      "pp\n",
      "Working with resnetFCN\n",
      "loading weights from ./logs/resnetFCN/kfold_resnetFCN/kfold_resnetFCN_dice_DA_K0/kfold_resnetFCN_dice_DA_K0_weights.h5\n"
     ]
    },
    {
     "name": "stderr",
     "output_type": "stream",
     "text": [
      "100%|██████████| 30/30 [02:41<00:00,  5.07s/it]\n"
     ]
    },
    {
     "name": "stdout",
     "output_type": "stream",
     "text": [
      "Finished K0\n",
      "Working with resnetFCN\n",
      "loading weights from ./logs/resnetFCN/kfold_resnetFCN/kfold_resnetFCN_dice_DA_K1/kfold_resnetFCN_dice_DA_K1_weights.h5\n"
     ]
    },
    {
     "name": "stderr",
     "output_type": "stream",
     "text": [
      "100%|██████████| 29/29 [02:47<00:00,  5.45s/it]\n"
     ]
    },
    {
     "name": "stdout",
     "output_type": "stream",
     "text": [
      "Finished K1\n",
      "Working with resnetFCN\n",
      "loading weights from ./logs/resnetFCN/kfold_resnetFCN/kfold_resnetFCN_dice_DA_K2/kfold_resnetFCN_dice_DA_K2_weights.h5\n"
     ]
    },
    {
     "name": "stderr",
     "output_type": "stream",
     "text": [
      "100%|██████████| 29/29 [02:31<00:00,  4.81s/it]\n"
     ]
    },
    {
     "name": "stdout",
     "output_type": "stream",
     "text": [
      "Finished K2\n",
      "Working with resnetFCN\n",
      "loading weights from ./logs/resnetFCN/kfold_resnetFCN/kfold_resnetFCN_dice_DA_K3/kfold_resnetFCN_dice_DA_K3_weights.h5\n"
     ]
    },
    {
     "name": "stderr",
     "output_type": "stream",
     "text": [
      "100%|██████████| 29/29 [02:35<00:00,  5.01s/it]\n"
     ]
    },
    {
     "name": "stdout",
     "output_type": "stream",
     "text": [
      "Finished K3\n",
      "Working with resnetFCN\n",
      "loading weights from ./logs/resnetFCN/kfold_resnetFCN/kfold_resnetFCN_dice_DA_K4/kfold_resnetFCN_dice_DA_K4_weights.h5\n"
     ]
    },
    {
     "name": "stderr",
     "output_type": "stream",
     "text": [
      "100%|██████████| 29/29 [02:41<00:00,  5.30s/it]\n"
     ]
    },
    {
     "name": "stdout",
     "output_type": "stream",
     "text": [
      "Finished K4\n",
      "Working with resnetFCN\n",
      "loading weights from ./logs/resnetFCN/kfold_resnetFCN/kfold_resnetFCN_dice_DA_K5/kfold_resnetFCN_dice_DA_K5_weights.h5\n"
     ]
    },
    {
     "name": "stderr",
     "output_type": "stream",
     "text": [
      "100%|██████████| 29/29 [02:29<00:00,  5.31s/it]\n"
     ]
    },
    {
     "name": "stdout",
     "output_type": "stream",
     "text": [
      "Finished K5\n",
      "Working with resnetFCN\n",
      "loading weights from ./logs/resnetFCN/kfold_resnetFCN/kfold_resnetFCN_dice_DA_K6/kfold_resnetFCN_dice_DA_K6_weights.h5\n"
     ]
    },
    {
     "name": "stderr",
     "output_type": "stream",
     "text": [
      "100%|██████████| 29/29 [02:26<00:00,  4.94s/it]\n"
     ]
    },
    {
     "name": "stdout",
     "output_type": "stream",
     "text": [
      "Finished K6\n",
      "Working with resnetFCN\n",
      "loading weights from ./logs/resnetFCN/kfold_resnetFCN/kfold_resnetFCN_dice_DA_K7/kfold_resnetFCN_dice_DA_K7_weights.h5\n"
     ]
    },
    {
     "name": "stderr",
     "output_type": "stream",
     "text": [
      "100%|██████████| 29/29 [02:46<00:00,  5.36s/it]\n"
     ]
    },
    {
     "name": "stdout",
     "output_type": "stream",
     "text": [
      "Finished K7\n",
      "Working with resnetFCN\n",
      "loading weights from ./logs/resnetFCN/kfold_resnetFCN/kfold_resnetFCN_dice_DA_K8/kfold_resnetFCN_dice_DA_K8_weights.h5\n"
     ]
    },
    {
     "name": "stderr",
     "output_type": "stream",
     "text": [
      "100%|██████████| 29/29 [02:51<00:00,  6.98s/it]\n"
     ]
    },
    {
     "name": "stdout",
     "output_type": "stream",
     "text": [
      "Finished K8\n",
      "Working with resnetFCN\n",
      "loading weights from ./logs/resnetFCN/kfold_resnetFCN/kfold_resnetFCN_dice_DA_K9/kfold_resnetFCN_dice_DA_K9_weights.h5\n"
     ]
    },
    {
     "name": "stderr",
     "output_type": "stream",
     "text": [
      "100%|██████████| 29/29 [02:31<00:00,  4.73s/it]\n"
     ]
    },
    {
     "name": "stdout",
     "output_type": "stream",
     "text": [
      "Finished K9\n",
      "\n",
      "pp\n",
      "Working with resnetSEFCN\n",
      "loading weights from ./logs/resnetSEFCN/kfold_resnetSEFCN/kfold_resnetSEFCN_dice_DA_K0/kfold_resnetSEFCN_dice_DA_K0_weights.h5\n"
     ]
    },
    {
     "name": "stderr",
     "output_type": "stream",
     "text": [
      "100%|██████████| 30/30 [02:41<00:00,  5.13s/it]\n"
     ]
    },
    {
     "name": "stdout",
     "output_type": "stream",
     "text": [
      "Finished K0\n",
      "Working with resnetSEFCN\n",
      "loading weights from ./logs/resnetSEFCN/kfold_resnetSEFCN/kfold_resnetSEFCN_dice_DA_K1/kfold_resnetSEFCN_dice_DA_K1_weights.h5\n"
     ]
    },
    {
     "name": "stderr",
     "output_type": "stream",
     "text": [
      "100%|██████████| 29/29 [02:49<00:00,  5.53s/it]\n"
     ]
    },
    {
     "name": "stdout",
     "output_type": "stream",
     "text": [
      "Finished K1\n",
      "Working with resnetSEFCN\n",
      "loading weights from ./logs/resnetSEFCN/kfold_resnetSEFCN/kfold_resnetSEFCN_dice_DA_K2/kfold_resnetSEFCN_dice_DA_K2_weights.h5\n"
     ]
    },
    {
     "name": "stderr",
     "output_type": "stream",
     "text": [
      "100%|██████████| 29/29 [02:32<00:00,  4.76s/it]\n"
     ]
    },
    {
     "name": "stdout",
     "output_type": "stream",
     "text": [
      "Finished K2\n",
      "Working with resnetSEFCN\n",
      "loading weights from ./logs/resnetSEFCN/kfold_resnetSEFCN/kfold_resnetSEFCN_dice_DA_K3/kfold_resnetSEFCN_dice_DA_K3_weights.h5\n"
     ]
    },
    {
     "name": "stderr",
     "output_type": "stream",
     "text": [
      "100%|██████████| 29/29 [02:38<00:00,  5.06s/it]\n"
     ]
    },
    {
     "name": "stdout",
     "output_type": "stream",
     "text": [
      "Finished K3\n",
      "Working with resnetSEFCN\n",
      "loading weights from ./logs/resnetSEFCN/kfold_resnetSEFCN/kfold_resnetSEFCN_dice_DA_K4/kfold_resnetSEFCN_dice_DA_K4_weights.h5\n"
     ]
    },
    {
     "name": "stderr",
     "output_type": "stream",
     "text": [
      "100%|██████████| 29/29 [02:45<00:00,  5.29s/it]\n"
     ]
    },
    {
     "name": "stdout",
     "output_type": "stream",
     "text": [
      "Finished K4\n",
      "Working with resnetSEFCN\n",
      "loading weights from ./logs/resnetSEFCN/kfold_resnetSEFCN/kfold_resnetSEFCN_dice_DA_K5/kfold_resnetSEFCN_dice_DA_K5_weights.h5\n"
     ]
    },
    {
     "name": "stderr",
     "output_type": "stream",
     "text": [
      "100%|██████████| 29/29 [02:32<00:00,  5.51s/it]\n"
     ]
    },
    {
     "name": "stdout",
     "output_type": "stream",
     "text": [
      "Finished K5\n",
      "Working with resnetSEFCN\n",
      "loading weights from ./logs/resnetSEFCN/kfold_resnetSEFCN/kfold_resnetSEFCN_dice_DA_K6/kfold_resnetSEFCN_dice_DA_K6_weights.h5\n"
     ]
    },
    {
     "name": "stderr",
     "output_type": "stream",
     "text": [
      "100%|██████████| 29/29 [02:27<00:00,  5.13s/it]\n"
     ]
    },
    {
     "name": "stdout",
     "output_type": "stream",
     "text": [
      "Finished K6\n",
      "Working with resnetSEFCN\n",
      "loading weights from ./logs/resnetSEFCN/kfold_resnetSEFCN/kfold_resnetSEFCN_dice_DA_K7/kfold_resnetSEFCN_dice_DA_K7_weights.h5\n"
     ]
    },
    {
     "name": "stderr",
     "output_type": "stream",
     "text": [
      "100%|██████████| 29/29 [02:50<00:00,  5.58s/it]\n"
     ]
    },
    {
     "name": "stdout",
     "output_type": "stream",
     "text": [
      "Finished K7\n",
      "Working with resnetSEFCN\n",
      "loading weights from ./logs/resnetSEFCN/kfold_resnetSEFCN/kfold_resnetSEFCN_dice_DA_K8/kfold_resnetSEFCN_dice_DA_K8_weights.h5\n"
     ]
    },
    {
     "name": "stderr",
     "output_type": "stream",
     "text": [
      "100%|██████████| 29/29 [02:58<00:00,  7.33s/it]\n"
     ]
    },
    {
     "name": "stdout",
     "output_type": "stream",
     "text": [
      "Finished K8\n",
      "Working with resnetSEFCN\n",
      "loading weights from ./logs/resnetSEFCN/kfold_resnetSEFCN/kfold_resnetSEFCN_dice_DA_K9/kfold_resnetSEFCN_dice_DA_K9_weights.h5\n"
     ]
    },
    {
     "name": "stderr",
     "output_type": "stream",
     "text": [
      "100%|██████████| 29/29 [02:31<00:00,  4.77s/it]\n"
     ]
    },
    {
     "name": "stdout",
     "output_type": "stream",
     "text": [
      "Finished K9\n",
      "\n",
      "pp\n",
      "Working with unet_resnet\n",
      "loading weights from ./logs/unet_resnet/kfold_unet_resnet/kfold_unet_resnet_dice_DA_K0/kfold_unet_resnet_dice_DA_K0_weights.h5\n"
     ]
    },
    {
     "name": "stderr",
     "output_type": "stream",
     "text": [
      "100%|██████████| 30/30 [02:42<00:00,  5.05s/it]\n"
     ]
    },
    {
     "name": "stdout",
     "output_type": "stream",
     "text": [
      "Finished K0\n",
      "Working with unet_resnet\n",
      "loading weights from ./logs/unet_resnet/kfold_unet_resnet/kfold_unet_resnet_dice_DA_K1/kfold_unet_resnet_dice_DA_K1_weights.h5\n"
     ]
    },
    {
     "name": "stderr",
     "output_type": "stream",
     "text": [
      "100%|██████████| 29/29 [02:44<00:00,  5.68s/it]\n"
     ]
    },
    {
     "name": "stdout",
     "output_type": "stream",
     "text": [
      "Finished K1\n",
      "Working with unet_resnet\n",
      "loading weights from ./logs/unet_resnet/kfold_unet_resnet/kfold_unet_resnet_dice_DA_K2/kfold_unet_resnet_dice_DA_K2_weights.h5\n"
     ]
    },
    {
     "name": "stderr",
     "output_type": "stream",
     "text": [
      "100%|██████████| 29/29 [02:27<00:00,  4.50s/it]\n"
     ]
    },
    {
     "name": "stdout",
     "output_type": "stream",
     "text": [
      "Finished K2\n",
      "Working with unet_resnet\n",
      "loading weights from ./logs/unet_resnet/kfold_unet_resnet/kfold_unet_resnet_dice_DA_K3/kfold_unet_resnet_dice_DA_K3_weights.h5\n"
     ]
    },
    {
     "name": "stderr",
     "output_type": "stream",
     "text": [
      "100%|██████████| 29/29 [02:32<00:00,  4.89s/it]\n"
     ]
    },
    {
     "name": "stdout",
     "output_type": "stream",
     "text": [
      "Finished K3\n",
      "Working with unet_resnet\n",
      "loading weights from ./logs/unet_resnet/kfold_unet_resnet/kfold_unet_resnet_dice_DA_K4/kfold_unet_resnet_dice_DA_K4_weights.h5\n"
     ]
    },
    {
     "name": "stderr",
     "output_type": "stream",
     "text": [
      "100%|██████████| 29/29 [02:39<00:00,  5.16s/it]\n"
     ]
    },
    {
     "name": "stdout",
     "output_type": "stream",
     "text": [
      "Finished K4\n",
      "Working with unet_resnet\n",
      "loading weights from ./logs/unet_resnet/kfold_unet_resnet/kfold_unet_resnet_dice_DA_K5/kfold_unet_resnet_dice_DA_K5_weights.h5\n"
     ]
    },
    {
     "name": "stderr",
     "output_type": "stream",
     "text": [
      "100%|██████████| 29/29 [02:27<00:00,  5.29s/it]\n"
     ]
    },
    {
     "name": "stdout",
     "output_type": "stream",
     "text": [
      "Finished K5\n",
      "Working with unet_resnet\n",
      "loading weights from ./logs/unet_resnet/kfold_unet_resnet/kfold_unet_resnet_dice_DA_K6/kfold_unet_resnet_dice_DA_K6_weights.h5\n"
     ]
    },
    {
     "name": "stderr",
     "output_type": "stream",
     "text": [
      "100%|██████████| 29/29 [02:23<00:00,  4.98s/it]\n"
     ]
    },
    {
     "name": "stdout",
     "output_type": "stream",
     "text": [
      "Finished K6\n",
      "Working with unet_resnet\n",
      "loading weights from ./logs/unet_resnet/kfold_unet_resnet/kfold_unet_resnet_dice_DA_K7/kfold_unet_resnet_dice_DA_K7_weights.h5\n"
     ]
    },
    {
     "name": "stderr",
     "output_type": "stream",
     "text": [
      "100%|██████████| 29/29 [02:40<00:00,  5.35s/it]\n"
     ]
    },
    {
     "name": "stdout",
     "output_type": "stream",
     "text": [
      "Finished K7\n",
      "Working with unet_resnet\n",
      "loading weights from ./logs/unet_resnet/kfold_unet_resnet/kfold_unet_resnet_dice_DA_K8/kfold_unet_resnet_dice_DA_K8_weights.h5\n"
     ]
    },
    {
     "name": "stderr",
     "output_type": "stream",
     "text": [
      "100%|██████████| 29/29 [02:48<00:00,  7.04s/it]\n"
     ]
    },
    {
     "name": "stdout",
     "output_type": "stream",
     "text": [
      "Finished K8\n",
      "Working with unet_resnet\n",
      "loading weights from ./logs/unet_resnet/kfold_unet_resnet/kfold_unet_resnet_dice_DA_K9/kfold_unet_resnet_dice_DA_K9_weights.h5\n"
     ]
    },
    {
     "name": "stderr",
     "output_type": "stream",
     "text": [
      "100%|██████████| 29/29 [02:28<00:00,  4.66s/it]\n"
     ]
    },
    {
     "name": "stdout",
     "output_type": "stream",
     "text": [
      "Finished K9\n",
      "\n",
      "pp\n",
      "Working with unet_resnet_se\n",
      "loading weights from ./logs/unet_resnet_se/kfold_unet_resnet_se/kfold_unet_resnet_se_dice_DA_K0/kfold_unet_resnet_se_dice_DA_K0_weights.h5\n"
     ]
    },
    {
     "name": "stderr",
     "output_type": "stream",
     "text": [
      "100%|██████████| 30/30 [02:40<00:00,  5.14s/it]\n"
     ]
    },
    {
     "name": "stdout",
     "output_type": "stream",
     "text": [
      "Finished K0\n",
      "Working with unet_resnet_se\n",
      "loading weights from ./logs/unet_resnet_se/kfold_unet_resnet_se/kfold_unet_resnet_se_dice_DA_K1/kfold_unet_resnet_se_dice_DA_K1_weights.h5\n"
     ]
    },
    {
     "name": "stderr",
     "output_type": "stream",
     "text": [
      "100%|██████████| 29/29 [02:45<00:00,  5.65s/it]\n"
     ]
    },
    {
     "name": "stdout",
     "output_type": "stream",
     "text": [
      "Finished K1\n",
      "Working with unet_resnet_se\n",
      "loading weights from ./logs/unet_resnet_se/kfold_unet_resnet_se/kfold_unet_resnet_se_dice_DA_K2/kfold_unet_resnet_se_dice_DA_K2_weights.h5\n"
     ]
    },
    {
     "name": "stderr",
     "output_type": "stream",
     "text": [
      "100%|██████████| 29/29 [02:30<00:00,  4.67s/it]\n"
     ]
    },
    {
     "name": "stdout",
     "output_type": "stream",
     "text": [
      "Finished K2\n",
      "Working with unet_resnet_se\n",
      "loading weights from ./logs/unet_resnet_se/kfold_unet_resnet_se/kfold_unet_resnet_se_dice_DA_K3/kfold_unet_resnet_se_dice_DA_K3_weights.h5\n"
     ]
    },
    {
     "name": "stderr",
     "output_type": "stream",
     "text": [
      "100%|██████████| 29/29 [02:36<00:00,  5.00s/it]\n"
     ]
    },
    {
     "name": "stdout",
     "output_type": "stream",
     "text": [
      "Finished K3\n",
      "Working with unet_resnet_se\n",
      "loading weights from ./logs/unet_resnet_se/kfold_unet_resnet_se/kfold_unet_resnet_se_dice_DA_K4/kfold_unet_resnet_se_dice_DA_K4_weights.h5\n"
     ]
    },
    {
     "name": "stderr",
     "output_type": "stream",
     "text": [
      "100%|██████████| 29/29 [02:43<00:00,  5.39s/it]\n"
     ]
    },
    {
     "name": "stdout",
     "output_type": "stream",
     "text": [
      "Finished K4\n",
      "Working with unet_resnet_se\n",
      "loading weights from ./logs/unet_resnet_se/kfold_unet_resnet_se/kfold_unet_resnet_se_dice_DA_K5/kfold_unet_resnet_se_dice_DA_K5_weights.h5\n"
     ]
    },
    {
     "name": "stderr",
     "output_type": "stream",
     "text": [
      "100%|██████████| 29/29 [02:29<00:00,  5.40s/it]\n"
     ]
    },
    {
     "name": "stdout",
     "output_type": "stream",
     "text": [
      "Finished K5\n",
      "Working with unet_resnet_se\n",
      "loading weights from ./logs/unet_resnet_se/kfold_unet_resnet_se/kfold_unet_resnet_se_dice_DA_K6/kfold_unet_resnet_se_dice_DA_K6_weights.h5\n"
     ]
    },
    {
     "name": "stderr",
     "output_type": "stream",
     "text": [
      "100%|██████████| 29/29 [02:27<00:00,  4.96s/it]\n"
     ]
    },
    {
     "name": "stdout",
     "output_type": "stream",
     "text": [
      "Finished K6\n",
      "Working with unet_resnet_se\n",
      "loading weights from ./logs/unet_resnet_se/kfold_unet_resnet_se/kfold_unet_resnet_se_dice_DA_K7/kfold_unet_resnet_se_dice_DA_K7_weights.h5\n"
     ]
    },
    {
     "name": "stderr",
     "output_type": "stream",
     "text": [
      "100%|██████████| 29/29 [02:48<00:00,  5.57s/it]\n"
     ]
    },
    {
     "name": "stdout",
     "output_type": "stream",
     "text": [
      "Finished K7\n",
      "Working with unet_resnet_se\n",
      "loading weights from ./logs/unet_resnet_se/kfold_unet_resnet_se/kfold_unet_resnet_se_dice_DA_K8/kfold_unet_resnet_se_dice_DA_K8_weights.h5\n"
     ]
    },
    {
     "name": "stderr",
     "output_type": "stream",
     "text": [
      "100%|██████████| 29/29 [02:51<00:00,  7.14s/it]\n"
     ]
    },
    {
     "name": "stdout",
     "output_type": "stream",
     "text": [
      "Finished K8\n",
      "Working with unet_resnet_se\n",
      "loading weights from ./logs/unet_resnet_se/kfold_unet_resnet_se/kfold_unet_resnet_se_dice_DA_K9/kfold_unet_resnet_se_dice_DA_K9_weights.h5\n"
     ]
    },
    {
     "name": "stderr",
     "output_type": "stream",
     "text": [
      "100%|██████████| 29/29 [02:31<00:00,  4.83s/it]\n"
     ]
    },
    {
     "name": "stdout",
     "output_type": "stream",
     "text": [
      "Finished K9\n",
      "\n",
      "pp\n",
      "Working with unet_resnet_upconv\n",
      "loading weights from ./logs/unet_resnet_upconv/kfold_unet_resnet_upconv/kfold_unet_resnet_upconv_dice_DA_K0/kfold_unet_resnet_upconv_dice_DA_K0_weights.h5\n"
     ]
    },
    {
     "name": "stderr",
     "output_type": "stream",
     "text": [
      "100%|██████████| 30/30 [02:40<00:00,  4.99s/it]\n"
     ]
    },
    {
     "name": "stdout",
     "output_type": "stream",
     "text": [
      "Finished K0\n",
      "Working with unet_resnet_upconv\n",
      "loading weights from ./logs/unet_resnet_upconv/kfold_unet_resnet_upconv/kfold_unet_resnet_upconv_dice_DA_K1/kfold_unet_resnet_upconv_dice_DA_K1_weights.h5\n"
     ]
    },
    {
     "name": "stderr",
     "output_type": "stream",
     "text": [
      "100%|██████████| 29/29 [02:45<00:00,  5.45s/it]\n"
     ]
    },
    {
     "name": "stdout",
     "output_type": "stream",
     "text": [
      "Finished K1\n",
      "Working with unet_resnet_upconv\n",
      "loading weights from ./logs/unet_resnet_upconv/kfold_unet_resnet_upconv/kfold_unet_resnet_upconv_dice_DA_K2/kfold_unet_resnet_upconv_dice_DA_K2_weights.h5\n"
     ]
    },
    {
     "name": "stderr",
     "output_type": "stream",
     "text": [
      "100%|██████████| 29/29 [02:27<00:00,  4.65s/it]\n"
     ]
    },
    {
     "name": "stdout",
     "output_type": "stream",
     "text": [
      "Finished K2\n",
      "Working with unet_resnet_upconv\n",
      "loading weights from ./logs/unet_resnet_upconv/kfold_unet_resnet_upconv/kfold_unet_resnet_upconv_dice_DA_K3/kfold_unet_resnet_upconv_dice_DA_K3_weights.h5\n"
     ]
    },
    {
     "name": "stderr",
     "output_type": "stream",
     "text": [
      "100%|██████████| 29/29 [02:30<00:00,  4.83s/it]\n"
     ]
    },
    {
     "name": "stdout",
     "output_type": "stream",
     "text": [
      "Finished K3\n",
      "Working with unet_resnet_upconv\n",
      "loading weights from ./logs/unet_resnet_upconv/kfold_unet_resnet_upconv/kfold_unet_resnet_upconv_dice_DA_K4/kfold_unet_resnet_upconv_dice_DA_K4_weights.h5\n"
     ]
    },
    {
     "name": "stderr",
     "output_type": "stream",
     "text": [
      "100%|██████████| 29/29 [02:36<00:00,  5.03s/it]\n"
     ]
    },
    {
     "name": "stdout",
     "output_type": "stream",
     "text": [
      "Finished K4\n",
      "Working with unet_resnet_upconv\n",
      "loading weights from ./logs/unet_resnet_upconv/kfold_unet_resnet_upconv/kfold_unet_resnet_upconv_dice_DA_K5/kfold_unet_resnet_upconv_dice_DA_K5_weights.h5\n"
     ]
    },
    {
     "name": "stderr",
     "output_type": "stream",
     "text": [
      "100%|██████████| 29/29 [02:26<00:00,  5.32s/it]\n"
     ]
    },
    {
     "name": "stdout",
     "output_type": "stream",
     "text": [
      "Finished K5\n",
      "Working with unet_resnet_upconv\n",
      "loading weights from ./logs/unet_resnet_upconv/kfold_unet_resnet_upconv/kfold_unet_resnet_upconv_dice_DA_K6/kfold_unet_resnet_upconv_dice_DA_K6_weights.h5\n"
     ]
    },
    {
     "name": "stderr",
     "output_type": "stream",
     "text": [
      "100%|██████████| 29/29 [02:22<00:00,  5.03s/it]\n"
     ]
    },
    {
     "name": "stdout",
     "output_type": "stream",
     "text": [
      "Finished K6\n",
      "Working with unet_resnet_upconv\n",
      "loading weights from ./logs/unet_resnet_upconv/kfold_unet_resnet_upconv/kfold_unet_resnet_upconv_dice_DA_K7/kfold_unet_resnet_upconv_dice_DA_K7_weights.h5\n"
     ]
    },
    {
     "name": "stderr",
     "output_type": "stream",
     "text": [
      "100%|██████████| 29/29 [02:45<00:00,  5.43s/it]\n"
     ]
    },
    {
     "name": "stdout",
     "output_type": "stream",
     "text": [
      "Finished K7\n",
      "Working with unet_resnet_upconv\n",
      "loading weights from ./logs/unet_resnet_upconv/kfold_unet_resnet_upconv/kfold_unet_resnet_upconv_dice_DA_K8/kfold_unet_resnet_upconv_dice_DA_K8_weights.h5\n"
     ]
    },
    {
     "name": "stderr",
     "output_type": "stream",
     "text": [
      "100%|██████████| 29/29 [02:48<00:00,  7.10s/it]\n"
     ]
    },
    {
     "name": "stdout",
     "output_type": "stream",
     "text": [
      "Finished K8\n",
      "Working with unet_resnet_upconv\n",
      "loading weights from ./logs/unet_resnet_upconv/kfold_unet_resnet_upconv/kfold_unet_resnet_upconv_dice_DA_K9/kfold_unet_resnet_upconv_dice_DA_K9_weights.h5\n"
     ]
    },
    {
     "name": "stderr",
     "output_type": "stream",
     "text": [
      "100%|██████████| 29/29 [02:29<00:00,  4.87s/it]\n"
     ]
    },
    {
     "name": "stdout",
     "output_type": "stream",
     "text": [
      "Finished K9\n",
      "\n",
      "pp\n",
      "Working with unet_resnet_upconv_se\n",
      "loading weights from ./logs/unet_resnet_upconv_se/kfold_unet_resnet_upconv_se/kfold_unet_resnet_upconv_se_dice_DA_K0/kfold_unet_resnet_upconv_se_dice_DA_K0_weights.h5\n"
     ]
    },
    {
     "name": "stderr",
     "output_type": "stream",
     "text": [
      "100%|██████████| 30/30 [02:42<00:00,  5.02s/it]\n"
     ]
    },
    {
     "name": "stdout",
     "output_type": "stream",
     "text": [
      "Finished K0\n",
      "Working with unet_resnet_upconv_se\n",
      "loading weights from ./logs/unet_resnet_upconv_se/kfold_unet_resnet_upconv_se/kfold_unet_resnet_upconv_se_dice_DA_K1/kfold_unet_resnet_upconv_se_dice_DA_K1_weights.h5\n"
     ]
    },
    {
     "name": "stderr",
     "output_type": "stream",
     "text": [
      "100%|██████████| 29/29 [02:44<00:00,  5.35s/it]\n"
     ]
    },
    {
     "name": "stdout",
     "output_type": "stream",
     "text": [
      "Finished K1\n",
      "Working with unet_resnet_upconv_se\n",
      "loading weights from ./logs/unet_resnet_upconv_se/kfold_unet_resnet_upconv_se/kfold_unet_resnet_upconv_se_dice_DA_K2/kfold_unet_resnet_upconv_se_dice_DA_K2_weights.h5\n"
     ]
    },
    {
     "name": "stderr",
     "output_type": "stream",
     "text": [
      "100%|██████████| 29/29 [02:28<00:00,  4.69s/it]\n"
     ]
    },
    {
     "name": "stdout",
     "output_type": "stream",
     "text": [
      "Finished K2\n",
      "Working with unet_resnet_upconv_se\n",
      "loading weights from ./logs/unet_resnet_upconv_se/kfold_unet_resnet_upconv_se/kfold_unet_resnet_upconv_se_dice_DA_K3/kfold_unet_resnet_upconv_se_dice_DA_K3_weights.h5\n"
     ]
    },
    {
     "name": "stderr",
     "output_type": "stream",
     "text": [
      "100%|██████████| 29/29 [02:35<00:00,  4.99s/it]\n"
     ]
    },
    {
     "name": "stdout",
     "output_type": "stream",
     "text": [
      "Finished K3\n",
      "Working with unet_resnet_upconv_se\n",
      "loading weights from ./logs/unet_resnet_upconv_se/kfold_unet_resnet_upconv_se/kfold_unet_resnet_upconv_se_dice_DA_K4/kfold_unet_resnet_upconv_se_dice_DA_K4_weights.h5\n"
     ]
    },
    {
     "name": "stderr",
     "output_type": "stream",
     "text": [
      "100%|██████████| 29/29 [02:40<00:00,  5.13s/it]\n"
     ]
    },
    {
     "name": "stdout",
     "output_type": "stream",
     "text": [
      "Finished K4\n",
      "Working with unet_resnet_upconv_se\n",
      "loading weights from ./logs/unet_resnet_upconv_se/kfold_unet_resnet_upconv_se/kfold_unet_resnet_upconv_se_dice_DA_K5/kfold_unet_resnet_upconv_se_dice_DA_K5_weights.h5\n"
     ]
    },
    {
     "name": "stderr",
     "output_type": "stream",
     "text": [
      "100%|██████████| 29/29 [02:26<00:00,  5.31s/it]\n"
     ]
    },
    {
     "name": "stdout",
     "output_type": "stream",
     "text": [
      "Finished K5\n",
      "Working with unet_resnet_upconv_se\n",
      "loading weights from ./logs/unet_resnet_upconv_se/kfold_unet_resnet_upconv_se/kfold_unet_resnet_upconv_se_dice_DA_K6/kfold_unet_resnet_upconv_se_dice_DA_K6_weights.h5\n"
     ]
    },
    {
     "name": "stderr",
     "output_type": "stream",
     "text": [
      "100%|██████████| 29/29 [02:24<00:00,  5.14s/it]\n"
     ]
    },
    {
     "name": "stdout",
     "output_type": "stream",
     "text": [
      "Finished K6\n",
      "Working with unet_resnet_upconv_se\n",
      "loading weights from ./logs/unet_resnet_upconv_se/kfold_unet_resnet_upconv_se/kfold_unet_resnet_upconv_se_dice_DA_K7/kfold_unet_resnet_upconv_se_dice_DA_K7_weights.h5\n"
     ]
    },
    {
     "name": "stderr",
     "output_type": "stream",
     "text": [
      "100%|██████████| 29/29 [02:47<00:00,  5.58s/it]\n"
     ]
    },
    {
     "name": "stdout",
     "output_type": "stream",
     "text": [
      "Finished K7\n",
      "Working with unet_resnet_upconv_se\n",
      "loading weights from ./logs/unet_resnet_upconv_se/kfold_unet_resnet_upconv_se/kfold_unet_resnet_upconv_se_dice_DA_K8/kfold_unet_resnet_upconv_se_dice_DA_K8_weights.h5\n"
     ]
    },
    {
     "name": "stderr",
     "output_type": "stream",
     "text": [
      "100%|██████████| 29/29 [02:53<00:00,  7.54s/it]\n"
     ]
    },
    {
     "name": "stdout",
     "output_type": "stream",
     "text": [
      "Finished K8\n",
      "Working with unet_resnet_upconv_se\n",
      "loading weights from ./logs/unet_resnet_upconv_se/kfold_unet_resnet_upconv_se/kfold_unet_resnet_upconv_se_dice_DA_K9/kfold_unet_resnet_upconv_se_dice_DA_K9_weights.h5\n"
     ]
    },
    {
     "name": "stderr",
     "output_type": "stream",
     "text": [
      "100%|██████████| 29/29 [02:29<00:00,  4.75s/it]"
     ]
    },
    {
     "name": "stdout",
     "output_type": "stream",
     "text": [
      "Finished K9\n"
     ]
    },
    {
     "name": "stderr",
     "output_type": "stream",
     "text": [
      "\n"
     ]
    }
   ],
   "source": [
    "#Get data and generators\n",
    "#'unet', 'unet_se', 'unet_upconv',\n",
    "#'unet_upconv_se', 'unet_upconv_bn', 'vgg19FCN','vgg19SEFCN',\n",
    "# 'resnetFCN', 'resnetSEFCN', 'unet_resnet','unet_resnet_se', \n",
    "# 'unet_resnet_upconv', 'unet_resnet_upconv_se'\n",
    "model_types = [ \n",
    "               \n",
    "              ]\n",
    "\n",
    "for post_processing in [True]:\n",
    "    \n",
    "    for model_type in model_types:\n",
    "        \n",
    "        print()\n",
    "        if post_processing:\n",
    "            print('pp')\n",
    "        else:\n",
    "            print('no pp')\n",
    "                \n",
    "        dh = DataHandler()\n",
    "        all_dice = []\n",
    "        all_hd = []\n",
    "        all_hd95 = []\n",
    "        all_names = []\n",
    "\n",
    "        for i in range(len(kfold_indices)):\n",
    "            exp_name = 'kfold_%s_dice_DA_K%d'%(model_type, i)\n",
    "\n",
    "            #get parameters\n",
    "            params = getParams(exp_name, unet_type=model_type)\n",
    "\n",
    "            val_img_files = np.take(image_files, kfold_indices[i]['val'])\n",
    "            val_mask_files = np.take(mask_files, kfold_indices[i]['val'])\n",
    "\n",
    "            model = getModel(model_type)\n",
    "\n",
    "            print('loading weights from %s'%params['checkpoint']['name'])\n",
    "            model.load_weights(params['checkpoint']['name'])\n",
    "\n",
    "            data = zip(val_img_files, val_mask_files)\n",
    "\n",
    "            dice_score, hd_score, hd95_score, names = predictAll(model, model_type, data, \n",
    "                                                                 num_data=len(val_mask_files),\n",
    "                                                                post_processing = post_processing)\n",
    "\n",
    "            print('Finished K%d'%i)\n",
    "\n",
    "            all_dice += dice_score\n",
    "            all_hd += hd_score\n",
    "            all_hd95 += hd95_score\n",
    "            all_names.extend(names)\n",
    "            \n",
    "        if post_processing:\n",
    "            report_name = 'data/eval_pp/' + model_type + '/' + model_type + '_report.txt'\n",
    "            \n",
    "        else:\n",
    "            report_name = 'data/eval/' + model_type + '/' + model_type + '_report.txt'\n",
    "            \n",
    "        with open(report_name, 'w+') as f:\n",
    "            for i in range(len(all_dice)):\n",
    "                f.write(\"%s, %f, %f, %f\\n\"%(all_names[i],\n",
    "                                          all_dice[i],\n",
    "                                          all_hd[i],\n",
    "                                          all_hd95[i]))\n",
    "                \n",
    "            f.write('\\n')\n",
    "            f.write('Final results for %s\\n'%model_type)\n",
    "            f.write('dice %f\\n'%np.mean(all_dice))\n",
    "            f.write('hd %f\\n'%np.mean(all_hd))\n",
    "            f.write('hd95 %f\\n'%np.mean(all_hd95))\n"
   ]
  },
  {
   "cell_type": "code",
   "execution_count": null,
   "metadata": {},
   "outputs": [],
   "source": []
  }
 ],
 "metadata": {
  "kernelspec": {
   "display_name": "Python 3",
   "language": "python",
   "name": "python3"
  },
  "language_info": {
   "codemirror_mode": {
    "name": "ipython",
    "version": 3
   },
   "file_extension": ".py",
   "mimetype": "text/x-python",
   "name": "python",
   "nbconvert_exporter": "python",
   "pygments_lexer": "ipython3",
   "version": "3.6.8"
  }
 },
 "nbformat": 4,
 "nbformat_minor": 2
}
